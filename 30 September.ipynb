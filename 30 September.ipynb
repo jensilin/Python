{
 "cells": [
  {
   "cell_type": "code",
   "execution_count": 9,
   "metadata": {},
   "outputs": [
    {
     "name": "stdout",
     "output_type": "stream",
     "text": [
      "[1, 2, 4] 3\n"
     ]
    }
   ],
   "source": [
    "a=(1,2,3,[1,2,4])\n",
    "for i in range(0,len(a)):\n",
    "    if type(a[i])==list:\n",
    "        print(a[i],i)\n",
    "        break"
   ]
  },
  {
   "cell_type": "code",
   "execution_count": 10,
   "metadata": {},
   "outputs": [
    {
     "name": "stdout",
     "output_type": "stream",
     "text": [
      "[]\n"
     ]
    }
   ],
   "source": [
    "a=[10,45,667,88,88]\n",
    "b=[]\n",
    "for i in a:\n",
    "    if i not in a:\n",
    "        b+=i\n",
    "print(b)"
   ]
  },
  {
   "cell_type": "code",
   "execution_count": 44,
   "metadata": {},
   "outputs": [
    {
     "name": "stdout",
     "output_type": "stream",
     "text": [
      "4 not a prime number\n"
     ]
    }
   ],
   "source": [
    "#WAP to check whether the entered number is prime number or not\n",
    "a=4\n",
    "is_prime=True\n",
    "#greater than 1\n",
    "for i in range(2,a):\n",
    "    if a%i==0:\n",
    "        is_prime=False\n",
    "        break\n",
    "\n",
    "if is_prime==True:\n",
    "    print(a,\"prime number\")\n",
    "else:\n",
    "    print(a,\"not a prime number\")\n",
    "    "
   ]
  },
  {
   "cell_type": "code",
   "execution_count": 45,
   "metadata": {},
   "outputs": [
    {
     "name": "stdout",
     "output_type": "stream",
     "text": [
      "Prime number 7\n"
     ]
    }
   ],
   "source": [
    "a=7\n",
    "if a>1:\n",
    "    for i in range(2,a):        #for i in range(2,(a//2)+1)\n",
    "        if a%i==0:\n",
    "            print(\"Not a prime number\",a)\n",
    "            break\n",
    "    else:\n",
    "        print(\"Prime number\",a)\n",
    "else:\n",
    "    print(\"Entered number is less than 1\")"
   ]
  },
  {
   "cell_type": "code",
   "execution_count": 75,
   "metadata": {},
   "outputs": [
    {
     "name": "stdout",
     "output_type": "stream",
     "text": [
      "Upper\n"
     ]
    }
   ],
   "source": [
    "#WAP to check wheather the string is having only Upper case\n",
    "a=\"QWERTYHJK\"\n",
    "b=True\n",
    "c=''\n",
    "for i in a:\n",
    "    if not 'A'<=i<='Z':\n",
    "        print(\"Having other than upper\")\n",
    "        break\n",
    "else:\n",
    "    print(\"Upper\")"
   ]
  },
  {
   "cell_type": "code",
   "execution_count": 58,
   "metadata": {},
   "outputs": [
    {
     "name": "stdout",
     "output_type": "stream",
     "text": [
      "All are not in upper case\n"
     ]
    }
   ],
   "source": [
    "a=\"QWERTYHJK\"\n",
    "b=''\n",
    "c=''\n",
    "for i in a:\n",
    "    if 'A'<=i<='Z':\n",
    "        b+=i\n",
    "    else:\n",
    "        c+=i\n",
    "if len(c)>=1:                   #len(a)==len(b) upper or non upper \n",
    "    print(\"All are not in upper case\")\n",
    "else:\n",
    "    print(\"All the characters are upper case\")"
   ]
  },
  {
   "cell_type": "code",
   "execution_count": 92,
   "metadata": {},
   "outputs": [
    {
     "name": "stdout",
     "output_type": "stream",
     "text": [
      "homogenous\n"
     ]
    }
   ],
   "source": [
    "#WAP to check wheather the list homogenous or hetrogenous\n",
    "a=[1,2,4]\n",
    "\n",
    "for i in a:\n",
    "    if not (type(i)==type(a[0])):\n",
    "        print(\"hetrogenous\")\n",
    "        break\n",
    "else:\n",
    "    print(\"homogenous\")"
   ]
  },
  {
   "cell_type": "code",
   "execution_count": 95,
   "metadata": {},
   "outputs": [
    {
     "name": "stdout",
     "output_type": "stream",
     "text": [
      "2\n"
     ]
    }
   ],
   "source": [
    "#WAP to find the smallest factor of a integer number other than 1\n",
    "a=4\n",
    "\n",
    "for i in range(2,a):        #for i in range(2,(a//2)+1)\n",
    "    if a%i==0:\n",
    "        print(i)\n",
    "        break\n",
    "else:\n",
    "    print(\"Does not have smallest factor\",a)\n"
   ]
  },
  {
   "cell_type": "code",
   "execution_count": 1,
   "metadata": {},
   "outputs": [
    {
     "name": "stdout",
     "output_type": "stream",
     "text": [
      "{'jensilin': 3, 'Aditya': 3, 'Shakthi': 2}\n"
     ]
    }
   ],
   "source": []
  },
  {
   "cell_type": "code",
   "execution_count": null,
   "metadata": {},
   "outputs": [],
   "source": []
  },
  {
   "cell_type": "code",
   "execution_count": null,
   "metadata": {},
   "outputs": [],
   "source": []
  }
 ],
 "metadata": {
  "kernelspec": {
   "display_name": "Python 3",
   "language": "python",
   "name": "python3"
  },
  "language_info": {
   "codemirror_mode": {
    "name": "ipython",
    "version": 3
   },
   "file_extension": ".py",
   "mimetype": "text/x-python",
   "name": "python",
   "nbconvert_exporter": "python",
   "pygments_lexer": "ipython3",
   "version": "3.11.1"
  }
 },
 "nbformat": 4,
 "nbformat_minor": 2
}
