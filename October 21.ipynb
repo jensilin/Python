{
 "cells": [
  {
   "cell_type": "code",
   "execution_count": null,
   "metadata": {},
   "outputs": [],
   "source": [
    "#WAP to \n",
    "def c_vov(a):\n",
    "    c=0\n",
    "    for i in a:\n",
    "        if i in 'aeiouAEIOU':\n",
    "            c+=1\n",
    "    return c"
   ]
  },
  {
   "cell_type": "code",
   "execution_count": null,
   "metadata": {},
   "outputs": [],
   "source": [
    "def hehe(p,b=0,c=None):\n",
    "    z=p[b:c]\n",
    "    print(z)\n",
    "    y=0\n",
    "    for i in z:\n",
    "        if c_vov(i):\n",
    "            y+=1\n",
    "    print(y)\n",
    "\n",
    "hehe('hellomaneaa')"
   ]
  },
  {
   "cell_type": "code",
   "execution_count": 8,
   "metadata": {},
   "outputs": [
    {
     "name": "stdout",
     "output_type": "stream",
     "text": [
      "ll\n"
     ]
    }
   ],
   "source": [
    "def slicing(p,b=0,c=0):\n",
    "    if c==0:\n",
    "        c=len(p)\n",
    "    a=\"\"\n",
    "    for j in range(b,c):\n",
    "        a+=p[j]\n",
    "    print(a)\n",
    "hehe(\"hellolow\",2,4)\n",
    "    "
   ]
  }
 ],
 "metadata": {
  "kernelspec": {
   "display_name": "Python 3",
   "language": "python",
   "name": "python3"
  },
  "language_info": {
   "codemirror_mode": {
    "name": "ipython",
    "version": 3
   },
   "file_extension": ".py",
   "mimetype": "text/x-python",
   "name": "python",
   "nbconvert_exporter": "python",
   "pygments_lexer": "ipython3",
   "version": "3.11.1"
  }
 },
 "nbformat": 4,
 "nbformat_minor": 2
}
