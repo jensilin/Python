{
 "cells": [
  {
   "cell_type": "code",
   "execution_count": null,
   "metadata": {},
   "outputs": [],
   "source": [
    "#create bank class which should consists of basic class properties and object properties\n",
    "#create class library\n",
    "#basic properties\n",
    "#methods like take_book and return_book\n",
    "#A student can purchase maximum of 4 books"
   ]
  },
  {
   "cell_type": "code",
   "execution_count": null,
   "metadata": {},
   "outputs": [
    {
     "name": "stdout",
     "output_type": "stream",
     "text": [
      "You cant take\n"
     ]
    },
    {
     "data": {
      "text/plain": [
       "{'Haary': 4, 'Python': 3, 'DSA': 2, 'django': 4, 'Pytorch': 7}"
      ]
     },
     "execution_count": 49,
     "metadata": {},
     "output_type": "execute_result"
    }
   ],
   "source": [
    "class library:\n",
    "    lib_name=\"lo lib hogo \"\n",
    "    books={\"Haary\":5,\"Python\":4,\"DSA\":3,\"django\":5,\"Pytorch\":7}\n",
    "    \n",
    "    def __init__(self,stu_name,student_id):\n",
    "        self.stu_name=stu_name\n",
    "        self.student_id=student_id\n",
    "        self.mybooks=[]\n",
    "    \n",
    "    def take_book(self,book):\n",
    "        c=self.books[book]\n",
    "        if book in library.books:\n",
    "            if len(self.mybooks)<4:\n",
    "                if c>=1:\n",
    "                    c=c-1\n",
    "                    self.mybooks+=[book]\n",
    "                    library.books[book]=c\n",
    "                else:\n",
    "                    print(\"Book is not available currently\")\n",
    "            else:\n",
    "                print(\"You cant take\")\n",
    "                \n",
    "    \n",
    "    def return_book(self,book):\n",
    "        if book in library.books:\n",
    "            self.mybooks.remove(book)\n",
    "            c=self.books[book]\n",
    "            c+=1\n",
    "            library.books[book]=c\n",
    "        else:\n",
    "            print(\"Not my book\")\n",
    "        \n",
    "        \n",
    "jenny=library(\"Jensilin\",34)\n",
    "jenny.take_book(\"Haary\")\n",
    "# jenny.books\n",
    "# jenny.mybooks\n",
    "# jenny.return_book(\"Haary\")\n",
    "jenny.books\n",
    "jenny.mybooks\n",
    "jenny.take_book(\"Python\")\n",
    "jenny.take_book(\"DSA\")\n",
    "jenny.take_book(\"django\")\n",
    "jenny.take_book(\"Pytorch\")\n",
    "library.books\n"
   ]
  },
  {
   "cell_type": "code",
   "execution_count": 50,
   "metadata": {},
   "outputs": [
    {
     "name": "stdout",
     "output_type": "stream",
     "text": [
      "{'abv': 4}\n"
     ]
    }
   ],
   "source": [
    "a={\"abv\":5}\n",
    "c=a[\"abv\"]\n",
    "c-=1\n",
    "a[\"abv\"]=c\n",
    "print(a)"
   ]
  },
  {
   "cell_type": "code",
   "execution_count": null,
   "metadata": {},
   "outputs": [],
   "source": []
  },
  {
   "cell_type": "markdown",
   "metadata": {},
   "source": [
    "E-commerce class \n",
    "    Flikart amazon ets with basic properties and methods\n",
    "\n",
    "    The object properties should also contain bank account number, balance, upi pin,upi id\n",
    "\n",
    "    Create methods to buy and return option or cancel\n",
    "\n",
    "    When a product is purchased it should ask the payment option like cash on delivery, through bank or gpay balance or debit card\n",
    "    When a respective payment mode is choosed, through UPI it should validate the upi pin \n",
    "\n",
    "    When user enters incorrect pin for 3 times it should make the user to wait for 30 sec to re-enter the pin"
   ]
  },
  {
   "cell_type": "code",
   "execution_count": 51,
   "metadata": {},
   "outputs": [],
   "source": [
    "import time\n",
    "time.sleep(5)"
   ]
  },
  {
   "cell_type": "code",
   "execution_count": null,
   "metadata": {},
   "outputs": [],
   "source": [
    "#Before purchasing in Flipkart user needs to have bank account with [account number,balance], [debit card, pin no, balance], [credit card,pin no, balance]\n",
    "#I can created separate class for Phonepe, gpay kind of upi apps [upi id, upi pin]\n"
   ]
  }
 ],
 "metadata": {
  "kernelspec": {
   "display_name": "Python 3",
   "language": "python",
   "name": "python3"
  },
  "language_info": {
   "codemirror_mode": {
    "name": "ipython",
    "version": 3
   },
   "file_extension": ".py",
   "mimetype": "text/x-python",
   "name": "python",
   "nbconvert_exporter": "python",
   "pygments_lexer": "ipython3",
   "version": "3.11.1"
  }
 },
 "nbformat": 4,
 "nbformat_minor": 2
}
