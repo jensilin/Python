{
 "cells": [
  {
   "cell_type": "code",
   "execution_count": 26,
   "metadata": {},
   "outputs": [
    {
     "name": "stdout",
     "output_type": "stream",
     "text": [
      "Enter again \n"
     ]
    }
   ],
   "source": [
    "#validate create password\n",
    "\n",
    "a=input(\"derftghyuji\")\n",
    "\n",
    "if len(a)>8 and len(a)<=20:\n",
    "    upper=False\n",
    "    lower=False\n",
    "    number=False\n",
    "    special=False\n",
    "\n",
    "    for i in a:\n",
    "        if 'A'<=i<='Z':\n",
    "            upper=True\n",
    "        elif 'a'<=i<='z':\n",
    "            lower=True\n",
    "        elif '0'<=i<='9':\n",
    "            number=True\n",
    "        else:\n",
    "            special=True\n",
    "\n",
    "    if upper and lower and number and special:\n",
    "        print(a)\n",
    "    else:\n",
    "        print(\"Enter again \")\n",
    "else:\n",
    "    print(\"Less than 8\")\n"
   ]
  },
  {
   "cell_type": "code",
   "execution_count": 33,
   "metadata": {},
   "outputs": [
    {
     "name": "stdout",
     "output_type": "stream",
     "text": [
      "Enter again \n"
     ]
    }
   ],
   "source": [
    "#validate create password\n",
    "\n",
    "a=input(\"derftghyuji\")\n",
    "a=a.replace(' ','')\n",
    "upper,lower,number,special=0,0,0,0\n",
    "if len(a)>8 and len(a)<=20:\n",
    "\n",
    "    for i in a:\n",
    "        if 'A'<=i<='Z':\n",
    "            upper+=1\n",
    "        elif 'a'<=i<='z':\n",
    "            lower+=1\n",
    "        elif '0'<=i<='9':\n",
    "            number+=1\n",
    "        else:\n",
    "            special+=1\n",
    "    \n",
    "    if upper>=1 and lower>=1 and number>=1 and special>=1:\n",
    "        print(a)\n",
    "    else:\n",
    "        print(\"Enter again \")\n",
    "else:\n",
    "    print(\"Less than 8\")\n"
   ]
  },
  {
   "cell_type": "code",
   "execution_count": 83,
   "metadata": {},
   "outputs": [],
   "source": [
    "#WAP to check wheather the entered string is valid identifier or not\n",
    "import keyword\n",
    "def isidentifier(a):\n",
    "    if len(a)<=32:\n",
    "        if a not in keyword.kwlist:\n",
    "            if not '0'<=a[0]<='9':\n",
    "                if a[0].isspace():\n",
    "                    return False\n",
    "                \n",
    "                for i in a:\n",
    "                    if not (i.isalnum() or i == '_'):\n",
    "                        return False\n",
    "                return a\n",
    "            return a\n",
    "\n",
    "isidentifier(input())\n",
    "                        \n"
   ]
  },
  {
   "cell_type": "code",
   "execution_count": 84,
   "metadata": {},
   "outputs": [],
   "source": [
    "keywords_list = [\"False\", \"None\", \"True\", \"and\", \"as\", \"assert\", \"async\", \"await\", \n",
    "    \"break\", \"class\", \"continue\", \"def\", \"del\", \"elif\", \"else\", \"except\", \n",
    "    \"finally\", \"for\", \"from\", \"global\", \"if\", \"import\", \"in\", \"is\", \"lambda\", \n",
    "    \"nonlocal\", \"not\", \"or\", \"pass\", \"raise\", \"return\", \"try\", \"while\", \"with\", \"yield\"]\n",
    "a='break'\n",
    "if a not in keywords_list:\n",
    "    print(a)"
   ]
  },
  {
   "cell_type": "code",
   "execution_count": null,
   "metadata": {},
   "outputs": [],
   "source": []
  }
 ],
 "metadata": {
  "kernelspec": {
   "display_name": "Python 3",
   "language": "python",
   "name": "python3"
  },
  "language_info": {
   "codemirror_mode": {
    "name": "ipython",
    "version": 3
   },
   "file_extension": ".py",
   "mimetype": "text/x-python",
   "name": "python",
   "nbconvert_exporter": "python",
   "pygments_lexer": "ipython3",
   "version": "3.11.1"
  }
 },
 "nbformat": 4,
 "nbformat_minor": 2
}
