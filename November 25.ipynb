{
 "cells": [
  {
   "cell_type": "markdown",
   "metadata": {},
   "source": [
    "File Hadling in CSV files:\n",
    "        CSV (Comma separated values)\n",
    "        To handle CSV file a module csv have to be imported  \n",
    "\n",
    "        Write row function  \n",
    "            It is a function which is used to write a single row of data \n",
    "            var.writerow([data1,data2,data3,data4])\n",
    "\n",
    "        Write rows function\n",
    "            When multiple rows have to be written writerows function have to be used\n",
    "            var.writerows([[data1,data2,data3],[data1,data2]])\n",
    "\n",
    "\n",
    "        import csv\n",
    "        var=open('filename.csv','w',newline='')\n",
    "        var1=csv.writer(var)\n",
    "        var1.writerow([data1,data2,data3,data4])\n",
    "        var.writerows([data1,data2,data3],[data1,data2])\n",
    "        var.close()"
   ]
  },
  {
   "cell_type": "code",
   "execution_count": 4,
   "metadata": {},
   "outputs": [],
   "source": [
    "import csv\n",
    "a=open('details.csv','w',newline='')\n",
    "b=csv.writer(a)\n",
    "b.writerow(['name','age','phonenum'])\n",
    "b.writerow(['A',12,546848])\n",
    "b.writerows([['B',11,789546],['C',11,7896541],['D',11,7855]])\n",
    "a.close()"
   ]
  },
  {
   "cell_type": "code",
   "execution_count": 7,
   "metadata": {},
   "outputs": [
    {
     "name": "stdout",
     "output_type": "stream",
     "text": [
      "['name', 'age', 'phonenum']\n",
      "['A', '12', '546848']\n",
      "['B', '11', '789546']\n",
      "['C', '11', '7896541']\n",
      "['D', '11', '7855']\n"
     ]
    }
   ],
   "source": [
    "import csv\n",
    "a=open('details.csv','r')\n",
    "b=csv.reader(a)\n",
    "res=list(b)\n",
    "for i in res:\n",
    "    print(i)"
   ]
  },
  {
   "cell_type": "code",
   "execution_count": 8,
   "metadata": {},
   "outputs": [],
   "source": [
    "# for j in res:\n",
    "#     if j[1]=='11':\n",
    "#         z=open('deatils_extract.csv','w')\n",
    "#         y=csv.writer(z)\n",
    "#         y.writerows([j])\n",
    "#         print(j)\n",
    "#         z.close()\n"
   ]
  },
  {
   "cell_type": "code",
   "execution_count": 9,
   "metadata": {},
   "outputs": [
    {
     "name": "stdout",
     "output_type": "stream",
     "text": [
      "['B', '11', '789546']\n",
      "['C', '11', '7896541']\n",
      "['D', '11', '7855']\n"
     ]
    }
   ],
   "source": [
    "for j in res:\n",
    "    if j[1]=='11':\n",
    "        print(j)"
   ]
  },
  {
   "cell_type": "code",
   "execution_count": 16,
   "metadata": {},
   "outputs": [
    {
     "name": "stdout",
     "output_type": "stream",
     "text": [
      "[['B', '11', '789546'], ['C', '11', '7896541'], ['D', '11', '7855']]\n"
     ]
    }
   ],
   "source": [
    "# print(res)\n",
    "p=[]\n",
    "for k in res:\n",
    "    # print(k)\n",
    "    if k[1]=='11':\n",
    "        p+=[k]\n",
    "print(p)"
   ]
  },
  {
   "cell_type": "code",
   "execution_count": 43,
   "metadata": {},
   "outputs": [
    {
     "name": "stdout",
     "output_type": "stream",
     "text": [
      "[['B', '11', '789546'], ['C', '11', '7896541'], ['D', '11', '7855']]\n"
     ]
    }
   ],
   "source": [
    "out=[]\n",
    "for k in res:\n",
    "    if k[1]=='11':\n",
    "        out+=[k]\n",
    "print(out)\n",
    "z=open('deatils_extract_ext.csv','w')\n",
    "y=csv.writer(z)\n",
    "y.writerows(out)\n",
    "z.close()"
   ]
  },
  {
   "cell_type": "code",
   "execution_count": null,
   "metadata": {},
   "outputs": [],
   "source": [
    "with open(r'C:\\Users\\JENSILIN JINO J.C\\OneDrive\\Desktop\\testing.txt','w') as a:             #here we have to use raw string \n",
    "    a.write(\"Oyee shisya\")"
   ]
  },
  {
   "cell_type": "code",
   "execution_count": null,
   "metadata": {},
   "outputs": [
    {
     "name": "stdout",
     "output_type": "stream",
     "text": [
      "Naya\tna\n"
     ]
    }
   ],
   "source": [
    "# r\"C:\\Users\\JENSILIN JINO J.C\\OneDrive\\Desktop\\file.txt\"\n",
    "print(\"Naya\\tna\")"
   ]
  },
  {
   "cell_type": "code",
   "execution_count": null,
   "metadata": {},
   "outputs": [
    {
     "name": "stdout",
     "output_type": "stream",
     "text": [
      "[]\n",
      "[['name', 'degree', 'YOP'], ['A', 'BE', '2024'], ['B', 'BE', '2024'], ['C', 'Btech', '2023'], ['D', 'BSC', '2022'], ['E', 'BSC', '2022'], ['F', 'BE', '2021'], []]\n"
     ]
    }
   ],
   "source": [
    "#from the text file extract the details of the students whose degree is BE and passed in the year 2023 and 2024 \n",
    "#divide the student details based on degree and store it in different csv files\n",
    "with open(r'C:\\Users\\JENSILIN JINO J.C\\OneDrive\\Desktop\\testing.txt','r') as a: \n",
    "    out=a.readlines()\n",
    "    res=[]\n",
    "    hehe=[]\n",
    "    for i in out:\n",
    "        res+=[i.split()]\n",
    "        # for j in i:\n",
    "        #      if j[1]=='BE' and res[2]=='2023' or res[2]==2024:\n",
    "        #              hehe+=[i]\n",
    "print(hehe)\n",
    "print(res)\n"
   ]
  },
  {
   "cell_type": "code",
   "execution_count": null,
   "metadata": {},
   "outputs": [
    {
     "name": "stdout",
     "output_type": "stream",
     "text": [
      "['name', 'degree', 'YOP']\n",
      "['A', 'BE', '2024']\n",
      "['B', 'BE', '2024']\n",
      "['C', 'Btech', '2023']\n",
      "['D', 'BSC', '2022']\n",
      "['E', 'BSC', '2022']\n",
      "['F', 'BE', '2021']\n",
      "[['A', 'BE', '2024'], ['B', 'BE', '2024']]\n"
     ]
    }
   ],
   "source": [
    "with open(r'C:\\Users\\JENSILIN JINO J.C\\OneDrive\\Desktop\\testing.txt','r') as a:\n",
    "    out=a.readlines()\n",
    "    data=[]\n",
    "    for  i in out:\n",
    "        res=i.split()\n",
    "        print(res)\n",
    "        if res[1]=='BE' and res[2] in ['2023','2024']:\n",
    "            data+=[res]\n",
    "print(data)"
   ]
  },
  {
   "cell_type": "code",
   "execution_count": null,
   "metadata": {},
   "outputs": [
    {
     "data": {
      "text/plain": [
       "'a'"
      ]
     },
     "execution_count": 20,
     "metadata": {},
     "output_type": "execute_result"
    }
   ],
   "source": [
    "z=[[\"name BE 2024\"]]"
   ]
  },
  {
   "cell_type": "code",
   "execution_count": null,
   "metadata": {},
   "outputs": [],
   "source": []
  }
 ],
 "metadata": {
  "kernelspec": {
   "display_name": "Python 3",
   "language": "python",
   "name": "python3"
  },
  "language_info": {
   "codemirror_mode": {
    "name": "ipython",
    "version": 3
   },
   "file_extension": ".py",
   "mimetype": "text/x-python",
   "name": "python",
   "nbconvert_exporter": "python",
   "pygments_lexer": "ipython3",
   "version": "3.11.1"
  }
 },
 "nbformat": 4,
 "nbformat_minor": 2
}
