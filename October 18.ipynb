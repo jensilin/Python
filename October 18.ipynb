{
 "cells": [
  {
   "cell_type": "code",
   "execution_count": null,
   "metadata": {},
   "outputs": [],
   "source": [
    "#list set dict comprehention\n",
    "#File handling\n",
    "#lamda\n"
   ]
  },
  {
   "cell_type": "markdown",
   "metadata": {},
   "source": []
  },
  {
   "cell_type": "code",
   "execution_count": 15,
   "metadata": {},
   "outputs": [
    {
     "name": "stdout",
     "output_type": "stream",
     "text": [
      "12\n",
      "90 67\n",
      "12 45\n",
      "90 67\n",
      "8\n",
      "8 67\n"
     ]
    }
   ],
   "source": [
    "#Non Local keyword\n",
    "a=12\n",
    "b=45\n",
    "def asz():\n",
    "    g=90\n",
    "    v=67\n",
    "    print(g,v)\n",
    "    print(a,b)\n",
    "    def asd():\n",
    "        nonlocal g\n",
    "        g=8\n",
    "        print(g)\n",
    "    print(g,v)\n",
    "    asd()\n",
    "    print(g,v)\n",
    "print(a)\n",
    "asz()"
   ]
  },
  {
   "cell_type": "code",
   "execution_count": 5,
   "metadata": {},
   "outputs": [
    {
     "name": "stdout",
     "output_type": "stream",
     "text": [
      "10\n",
      "1\n",
      "10\n"
     ]
    }
   ],
   "source": [
    "\n",
    "a=10\n",
    "def asd(a):\n",
    "    print(a)\n",
    "    def dfg():\n",
    "        a=1\n",
    "        print(a)\n",
    "    dfg()\n",
    "asd(a)\n",
    "print(a)\n"
   ]
  },
  {
   "cell_type": "code",
   "execution_count": null,
   "metadata": {},
   "outputs": [
    {
     "name": "stdout",
     "output_type": "stream",
     "text": [
      "6\n"
     ]
    }
   ],
   "source": [
    "#WAP to find summ of minimun 3 integer numbers and maximun 5 integer number\n",
    "def hello(a,b,c,d=0,e=0):\n",
    "    print(a+b+c+d+e)\n",
    "hello(1,2,3)"
   ]
  },
  {
   "cell_type": "code",
   "execution_count": 17,
   "metadata": {},
   "outputs": [],
   "source": [
    "#WAP to \n",
    "def c_vov(a):\n",
    "    c=0\n",
    "    for i in a:\n",
    "        if i in 'aeiouAEIOU':\n",
    "            c+=1\n",
    "    return c"
   ]
  },
  {
   "cell_type": "code",
   "execution_count": 26,
   "metadata": {},
   "outputs": [
    {
     "name": "stdout",
     "output_type": "stream",
     "text": [
      "hellomaneaa\n",
      "6\n"
     ]
    }
   ],
   "source": [
    "def hehe(p,b=0,c=None):\n",
    "    z=p[b:c]\n",
    "    print(z)\n",
    "    y=0\n",
    "    for i in z:\n",
    "        if c_vov(i):\n",
    "            y+=1\n",
    "    print(y)\n",
    "\n",
    "hehe('hellomaneaa')"
   ]
  },
  {
   "cell_type": "code",
   "execution_count": 28,
   "metadata": {},
   "outputs": [
    {
     "data": {
      "text/plain": [
       "'retyujik'"
      ]
     },
     "execution_count": 28,
     "metadata": {},
     "output_type": "execute_result"
    }
   ],
   "source": [
    "a=\"retyujik\"\n",
    "a[:None]"
   ]
  },
  {
   "cell_type": "code",
   "execution_count": 12,
   "metadata": {},
   "outputs": [
    {
     "ename": "SyntaxError",
     "evalue": "no binding for nonlocal 'a' found (1994505338.py, line 3)",
     "output_type": "error",
     "traceback": [
      "\u001b[1;36m  Cell \u001b[1;32mIn[12], line 3\u001b[1;36m\u001b[0m\n\u001b[1;33m    nonlocal a\u001b[0m\n\u001b[1;37m    ^\u001b[0m\n\u001b[1;31mSyntaxError\u001b[0m\u001b[1;31m:\u001b[0m no binding for nonlocal 'a' found\n"
     ]
    }
   ],
   "source": [
    "a=10\n",
    "def ad():\n",
    "    \n",
    "    a=20\n",
    "    print(a)\n",
    "    def  ads():\n",
    "        nonlocal a\n",
    "        a=35\n",
    "        print(a)\n",
    "    ads()\n",
    "print(a)\n",
    "ad()"
   ]
  },
  {
   "cell_type": "code",
   "execution_count": 7,
   "metadata": {},
   "outputs": [
    {
     "name": "stdout",
     "output_type": "stream",
     "text": [
      "30\n",
      "30\n"
     ]
    }
   ],
   "source": [
    "def heyyy(a,b=0,c=0):\n",
    "    print(a+b)\n",
    "    print(c)\n",
    "heyyy(10,20,30)"
   ]
  },
  {
   "cell_type": "code",
   "execution_count": 56,
   "metadata": {},
   "outputs": [
    {
     "name": "stdout",
     "output_type": "stream",
     "text": [
      "he\n"
     ]
    }
   ],
   "source": [
    "a='hello'\n",
    "b=0\n",
    "c=2\n",
    "z=a[b:c:]\n",
    "print(z)"
   ]
  },
  {
   "cell_type": "code",
   "execution_count": 54,
   "metadata": {},
   "outputs": [
    {
     "data": {
      "text/plain": [
       "'hell'"
      ]
     },
     "execution_count": 54,
     "metadata": {},
     "output_type": "execute_result"
    }
   ],
   "source": [
    "a='hello'\n",
    "a[0::]"
   ]
  },
  {
   "cell_type": "code",
   "execution_count": null,
   "metadata": {},
   "outputs": [],
   "source": []
  }
 ],
 "metadata": {
  "kernelspec": {
   "display_name": "Python 3",
   "language": "python",
   "name": "python3"
  },
  "language_info": {
   "codemirror_mode": {
    "name": "ipython",
    "version": 3
   },
   "file_extension": ".py",
   "mimetype": "text/x-python",
   "name": "python",
   "nbconvert_exporter": "python",
   "pygments_lexer": "ipython3",
   "version": "3.11.1"
  }
 },
 "nbformat": 4,
 "nbformat_minor": 2
}
