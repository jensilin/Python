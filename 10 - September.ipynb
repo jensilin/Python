{
 "cells": [
  {
   "cell_type": "code",
   "execution_count": 28,
   "metadata": {},
   "outputs": [
    {
     "name": "stdout",
     "output_type": "stream",
     "text": [
      "QWERTYU R\n"
     ]
    }
   ],
   "source": [
    "#WAP to print the last value of list collection only if it is a string , having middlevalue , has an upper case \n",
    "a=eval(input(\"Enter the input \"))\n",
    "b=a[-1]\n",
    "if type(b)==str:\n",
    "    if len(b)%2==1:\n",
    "        mid = len(b)//2\n",
    "        if 'A'<=b[mid]<='Z':\n",
    "            print(b,b[mid])\n",
    "        else:\n",
    "            print(\"It is not in upper case \")\n",
    "    else:\n",
    "        print(\"It does not have middle value \")\n",
    "else:\n",
    "    print(\"It is not a string \")        "
   ]
  },
  {
   "cell_type": "code",
   "execution_count": 20,
   "metadata": {},
   "outputs": [
    {
     "name": "stdout",
     "output_type": "stream",
     "text": [
      "R\n"
     ]
    }
   ],
   "source": [
    "a=eval(input(\"Enter the input \"))\n",
    "b=a[-1]\n",
    "if type(b)==str:\n",
    "    if len(b)%2==1:\n",
    "        mid=len(b)//2\n",
    "        c=b[mid]\n",
    "        if 'A'<=c<='Z':\n",
    "            print(c)"
   ]
  },
  {
   "cell_type": "code",
   "execution_count": null,
   "metadata": {},
   "outputs": [],
   "source": []
  },
  {
   "cell_type": "code",
   "execution_count": null,
   "metadata": {},
   "outputs": [],
   "source": []
  }
 ],
 "metadata": {
  "kernelspec": {
   "display_name": "Python 3",
   "language": "python",
   "name": "python3"
  },
  "language_info": {
   "codemirror_mode": {
    "name": "ipython",
    "version": 3
   },
   "file_extension": ".py",
   "mimetype": "text/x-python",
   "name": "python",
   "nbconvert_exporter": "python",
   "pygments_lexer": "ipython3",
   "version": "3.11.1"
  }
 },
 "nbformat": 4,
 "nbformat_minor": 2
}
