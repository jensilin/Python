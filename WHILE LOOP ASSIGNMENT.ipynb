{
 "cells": [
  {
   "cell_type": "code",
   "execution_count": 4,
   "metadata": {},
   "outputs": [
    {
     "name": "stdout",
     "output_type": "stream",
     "text": [
      "QETe68\n"
     ]
    }
   ],
   "source": [
    "#WAP to print all the characters of a string present at even index without using slicing.\n",
    "a=\"QWERTee5678\"\n",
    "b=\"\"\n",
    "i=0\n",
    "while i<len(a):\n",
    "    if i%2==0:\n",
    "        b+=a[i]\n",
    "    i+=1\n",
    "print(b)\n"
   ]
  },
  {
   "cell_type": "code",
   "execution_count": 8,
   "metadata": {},
   "outputs": [
    {
     "name": "stdout",
     "output_type": "stream",
     "text": [
      "21\n",
      "23\n",
      "25\n",
      "27\n",
      "29\n",
      "31\n",
      "33\n",
      "35\n",
      "37\n",
      "39\n",
      "41\n",
      "43\n",
      "45\n",
      "47\n",
      "49\n",
      "51\n",
      "53\n",
      "55\n",
      "57\n",
      "59\n"
     ]
    }
   ],
   "source": [
    "# WAP to find some of all the odd numbers b/w the range 20-60.\n",
    "i=21\n",
    "j=60\n",
    "while i<j:\n",
    "    print(i)\n",
    "    i+=2"
   ]
  },
  {
   "cell_type": "code",
   "execution_count": 13,
   "metadata": {},
   "outputs": [
    {
     "name": "stdout",
     "output_type": "stream",
     "text": [
      "['mom', 'dad', 'ytrewq']\n"
     ]
    }
   ],
   "source": [
    "# Consider a list input, extract all the string inside it and print the reversed string\n",
    "a=[\"mom\",\"dad\",\"qwerty\",101]\n",
    "rev=[]\n",
    "i=0\n",
    "while i<len(a):\n",
    "    if type(a)==list:\n",
    "        if type(a[i])==str:\n",
    "            rev+=[a[i][::-1]]\n",
    "    i+=1\n",
    "print(rev)"
   ]
  },
  {
   "cell_type": "code",
   "execution_count": 19,
   "metadata": {},
   "outputs": [
    {
     "name": "stdout",
     "output_type": "stream",
     "text": [
      "1\n"
     ]
    }
   ],
   "source": [
    "# WAP to extract all the individual data items of a list. If length of\n",
    "# extracted output is more than 4, print the first value of output\n",
    "# else print last value of the output list and add 10 to it. \n",
    "a=[1,1.5,True,5,6,4,\"wqerty\",{1:2}]\n",
    "b=[]\n",
    "i=0\n",
    "while i<len(a):\n",
    "    if type(a)==list:\n",
    "        if type(a[i]) in [int,float,bool,complex]:\n",
    "            b+=[a[i]]\n",
    "    i+=1\n",
    "if len(b)>4:\n",
    "    print(b[0])\n",
    "else:\n",
    "    print(b[-1]+10)"
   ]
  },
  {
   "cell_type": "code",
   "execution_count": 27,
   "metadata": {},
   "outputs": [
    {
     "data": {
      "text/plain": [
       "False"
      ]
     },
     "execution_count": 27,
     "metadata": {},
     "output_type": "execute_result"
    }
   ],
   "source": [
    "-10>-10"
   ]
  },
  {
   "cell_type": "code",
   "execution_count": 2,
   "metadata": {},
   "outputs": [
    {
     "name": "stdout",
     "output_type": "stream",
     "text": [
      "Not a palindrome MALAYALAFGMRCB\n"
     ]
    }
   ],
   "source": [
    "# Reverse a string without using slicing. If the string is palindrome\n",
    "# print length of a string else print the output concatenated with\n",
    "# ‘RCB’.\n",
    "a=\"MALAYALAFGM\"\n",
    "i=-1\n",
    "b=\"\"\n",
    "while i>=-len(a):\n",
    "    b+=a[i]\n",
    "    i-=1\n",
    "if b==a:\n",
    "    print(\"Palindrome\",len(a))\n",
    "else:\n",
    "    print(\"Not a palindrome\",a+\"RCB\")\n"
   ]
  },
  {
   "cell_type": "code",
   "execution_count": 3,
   "metadata": {},
   "outputs": [
    {
     "data": {
      "text/plain": [
       "False"
      ]
     },
     "execution_count": 3,
     "metadata": {},
     "output_type": "execute_result"
    }
   ],
   "source": [
    "-1<-5"
   ]
  },
  {
   "cell_type": "code",
   "execution_count": 3,
   "metadata": {},
   "outputs": [
    {
     "name": "stdout",
     "output_type": "stream",
     "text": [
      "(3.2, 1.2, 9.8, 9.2)\n"
     ]
    }
   ],
   "source": [
    "# WAP to extract all the floating values of a tuple present at \n",
    "# even index and ends with even number and starts with odd number. \n",
    "a=(3.2,4,1.2,4,9.8,6,9.2)\n",
    "a=a[0::2]\n",
    "c=()\n",
    "i=0\n",
    "while i<len(a):\n",
    "    if type(a[i])==float and int(str(a[i])[0])%2==1 and int(str(a[i])[-1])%2==0:\n",
    "        c+=a[i],\n",
    "    i+=1\n",
    "print(c)"
   ]
  },
  {
   "cell_type": "code",
   "execution_count": 52,
   "metadata": {},
   "outputs": [
    {
     "name": "stdout",
     "output_type": "stream",
     "text": [
      "1234562345\n"
     ]
    }
   ],
   "source": [
    "# 7. WAP to extract all the digits present in a string.\n",
    "a=\"123456asdfgh2345AD\"\n",
    "b=\"\"\n",
    "i=0\n",
    "while i<len(a):\n",
    "    if '0'<=a[i]<='9':\n",
    "        b+=a[i]\n",
    "    i+=1\n",
    "print(b)"
   ]
  },
  {
   "cell_type": "code",
   "execution_count": 53,
   "metadata": {},
   "outputs": [
    {
     "name": "stdout",
     "output_type": "stream",
     "text": [
      "ee#sala#cup#namde\n"
     ]
    }
   ],
   "source": [
    "# WAP to replace space by ‘#’ of a string\n",
    "# Ex: i/p → ‘ee sala cup namde’\n",
    "#  o/p → ‘ee#sala#cup#namde’\n",
    "a='ee sala cup namde'\n",
    "b=''\n",
    "i=0\n",
    "while i<len(a):\n",
    "    if a[i]==\" \":\n",
    "        b+='#'\n",
    "    else:\n",
    "        b+=a[i]\n",
    "    i+=1\n",
    "print(b)"
   ]
  },
  {
   "cell_type": "code",
   "execution_count": 54,
   "metadata": {},
   "outputs": [
    {
     "name": "stdout",
     "output_type": "stream",
     "text": [
      "6\n"
     ]
    }
   ],
   "source": [
    "# WAP to count the number of vowels present in a string.\n",
    "a=\"eweaxiortyu\"\n",
    "count=0\n",
    "i=0\n",
    "while i<len(a):\n",
    "    if a[i] in \"aeiouAEIOU\":\n",
    "        count+=1\n",
    "    i+=1\n",
    "print(count)"
   ]
  },
  {
   "cell_type": "code",
   "execution_count": 18,
   "metadata": {},
   "outputs": [
    {
     "name": "stdout",
     "output_type": "stream",
     "text": [
      ",\n"
     ]
    }
   ],
   "source": [
    "# WAP to extract all the special characters present in string only\n",
    "# if the ASCII value of the character is even and palindrome.\n",
    "a=\"-,''@3445Az\"\n",
    "b=''\n",
    "i=0\n",
    "while i<len(a):\n",
    "    if not('A'<=a[i]<='Z' or 'a'<=a[i]<='z' or '0'<=a[i]<='9') and ord(a[i])%2==0 and str(ord(a[i]))[::-1]==str(ord(a[i])):\n",
    "        b+=a[i]\n",
    "    i+=1\n",
    "print(b)"
   ]
  },
  {
   "cell_type": "code",
   "execution_count": 4,
   "metadata": {},
   "outputs": [
    {
     "name": "stdout",
     "output_type": "stream",
     "text": [
      "[2, 4, 6, 8, 10]\n"
     ]
    }
   ],
   "source": [
    "# WAP to extract all the integers present in a list only if it is present in odd index.\n",
    "a=[1,2,3,4,5,6,7,8,9,10]\n",
    "b=[]\n",
    "i=1\n",
    "while i<len(a):\n",
    "    b+=[a[i]]\n",
    "    i+=2\n",
    "print(b)"
   ]
  },
  {
   "cell_type": "code",
   "execution_count": 7,
   "metadata": {},
   "outputs": [
    {
     "name": "stdout",
     "output_type": "stream",
     "text": [
      "3375\n",
      "4096\n",
      "4913\n",
      "5832\n",
      "6859\n",
      "8000\n",
      "9261\n",
      "10648\n",
      "12167\n",
      "13824\n",
      "15625\n",
      "17576\n",
      "19683\n",
      "21952\n",
      "24389\n",
      "27000\n"
     ]
    }
   ],
   "source": [
    "# WAP to print cube of numbers between the range 15-30.\n",
    "i=15\n",
    "while i<=(30):\n",
    "    print(i**3)\n",
    "    i+=1"
   ]
  },
  {
   "cell_type": "code",
   "execution_count": 9,
   "metadata": {},
   "outputs": [
    {
     "name": "stdout",
     "output_type": "stream",
     "text": [
      "1756.8319999999997\n"
     ]
    }
   ],
   "source": [
    "# WAP to find product of all the floating number present in a tuple collection.\n",
    "a=(2,3,4,5,5.5,6.2,9.2,5.6)\n",
    "pro=1\n",
    "i=0\n",
    "while i<len(a):\n",
    "    if type(a[i])==float:\n",
    "        pro*=a[i]\n",
    "    i+=1\n",
    "print(pro)"
   ]
  },
  {
   "cell_type": "code",
   "execution_count": 10,
   "metadata": {},
   "outputs": [
    {
     "name": "stdout",
     "output_type": "stream",
     "text": [
      "18\n"
     ]
    }
   ],
   "source": [
    "# WAP to find sum of individual digits of a string.\n",
    "# Ex: i/p = “im a 420 you are 840”\n",
    "#  o/p = 18\n",
    "a=\"you a 420 you are 840\"\n",
    "b=0\n",
    "i=0\n",
    "while i<len(a):\n",
    "    if '0'<=a[i]<='9':\n",
    "        b+=int(a[i])\n",
    "    i+=1\n",
    "print(b)\n",
    "        "
   ]
  },
  {
   "cell_type": "code",
   "execution_count": 15,
   "metadata": {},
   "outputs": [
    {
     "name": "stdout",
     "output_type": "stream",
     "text": [
      "56556\n"
     ]
    }
   ],
   "source": [
    "# WAP to find the greatest number in a given list of integers.\n",
    "a=[\"qwerty\",\"sdfgh\",5,5,8,9,552,56556,7,8.23]\n",
    "b=[]\n",
    "i=0\n",
    "while i<len(a):\n",
    "    if type(a[i])==int:\n",
    "        b+=[a[i]]\n",
    "        b.sort(reverse=True)\n",
    "    i+=1\n",
    "print(b[0])"
   ]
  },
  {
   "cell_type": "code",
   "execution_count": 18,
   "metadata": {},
   "outputs": [
    {
     "name": "stdout",
     "output_type": "stream",
     "text": [
      "(2, 4, 66, 34, 56)\n",
      "(3, 3, 5, 5, 67, 89, 99)\n"
     ]
    }
   ],
   "source": [
    "# Consider a homogenous tuple and divide the input into two\n",
    "# outputs of even number and odd number\n",
    "# Consider a homogenous tuple and divide the input into two\n",
    "# outputs of even number and odd number \n",
    "a=(2,3,3,4,5,5,66,34,56,67,89,99)\n",
    "even=()\n",
    "odd=()\n",
    "i=0\n",
    "while i<len(a):\n",
    "    if a[i]%2==0:\n",
    "        even+=a[i],\n",
    "    else:\n",
    "        odd+=a[i],\n",
    "    i+=1\n",
    "print(even,odd,sep=\"\\n\")\n",
    "\n"
   ]
  },
  {
   "cell_type": "code",
   "execution_count": 21,
   "metadata": {},
   "outputs": [
    {
     "name": "stdout",
     "output_type": "stream",
     "text": [
      "5\n"
     ]
    }
   ],
   "source": [
    "# . WAP to count the number of occurrence of specified character.\n",
    "# Ex: st = ‘pyspiders rajajinagara’\n",
    "#  ch = ‘a’\n",
    "#  output = 5 (number of times ‘a’ is repeated)\n",
    "a=\"pyspiders rajajinagara\"\n",
    "se='a'\n",
    "count=0\n",
    "i=0\n",
    "while i<len(a):\n",
    "    if a[i]==se:\n",
    "        count+=1\n",
    "    i+=1\n",
    "print(count)"
   ]
  },
  {
   "cell_type": "code",
   "execution_count": 22,
   "metadata": {},
   "outputs": [
    {
     "name": "stdout",
     "output_type": "stream",
     "text": [
      "145\n"
     ]
    }
   ],
   "source": [
    "# WAP to find the sum of cube of numbers in a given string.\n",
    "# string ='ab4hjk2dfjks12adsjk4'\n",
    "# out=145\n",
    "a=\"ab4hjk2dfjks12adsjk4\"\n",
    "sm=0\n",
    "i=0\n",
    "while i<len(a):\n",
    "    if '0'<=a[i]<='9':\n",
    "        sm+=int(a[i])**3\n",
    "    i+=1\n",
    "print(sm)"
   ]
  },
  {
   "cell_type": "code",
   "execution_count": 25,
   "metadata": {},
   "outputs": [
    {
     "name": "stdout",
     "output_type": "stream",
     "text": [
      "[1, 2, 4, 5, 10, 20]\n"
     ]
    }
   ],
   "source": [
    "# WAP to store the factors of a integer number in a tuple.\n",
    "# Ex1: n = 6\n",
    "#  o/p = [1,2,3,6]\n",
    "# Ex2: n=20\n",
    "#  o/p = [1,2,5,10,20]\n",
    "n=20\n",
    "o=[]\n",
    "i=1\n",
    "while i<=n:\n",
    "    if n%i==0:\n",
    "        o+=[i]\n",
    "    i+=1\n",
    "print(o)"
   ]
  },
  {
   "cell_type": "code",
   "execution_count": 28,
   "metadata": {},
   "outputs": [
    {
     "name": "stdout",
     "output_type": "stream",
     "text": [
      "[[1, 2, 30], [1, 2, 3, 4, 5], [1, 2, 3, 4, 5, 6, 7, 8, 9]]\n"
     ]
    }
   ],
   "source": [
    "# WAP to extract all the list data items preset inside the list only\n",
    "# if those are having middle value\n",
    "a=[[1,2,30],[1,2,3,4],[1,2,3,4,5],\"wsert\",[1,2,3,4,5,6,7,8,9]]\n",
    "b=[]\n",
    "i=0\n",
    "while i<len(a):\n",
    "    if type(a[i])==list and len(a[i])%2==1:\n",
    "        b+=[a[i]]\n",
    "    i+=1\n",
    "print(b)"
   ]
  },
  {
   "cell_type": "code",
   "execution_count": 5,
   "metadata": {},
   "outputs": [
    {
     "name": "stdout",
     "output_type": "stream",
     "text": [
      "['jkhjgjkhjgh', 'iuytyuuyhf', 'yutyryuyft']\n"
     ]
    }
   ],
   "source": [
    "a=list(input().split(','))\n",
    "print(a)"
   ]
  },
  {
   "cell_type": "code",
   "execution_count": null,
   "metadata": {},
   "outputs": [],
   "source": []
  },
  {
   "cell_type": "code",
   "execution_count": null,
   "metadata": {},
   "outputs": [],
   "source": []
  }
 ],
 "metadata": {
  "kernelspec": {
   "display_name": "Python 3",
   "language": "python",
   "name": "python3"
  },
  "language_info": {
   "codemirror_mode": {
    "name": "ipython",
    "version": 3
   },
   "file_extension": ".py",
   "mimetype": "text/x-python",
   "name": "python",
   "nbconvert_exporter": "python",
   "pygments_lexer": "ipython3",
   "version": "3.11.1"
  }
 },
 "nbformat": 4,
 "nbformat_minor": 2
}
