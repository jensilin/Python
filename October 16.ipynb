{
 "cells": [
  {
   "cell_type": "code",
   "execution_count": 1,
   "metadata": {},
   "outputs": [
    {
     "name": "stdout",
     "output_type": "stream",
     "text": [
      "Strong Number\n"
     ]
    }
   ],
   "source": [
    "#Strong number\n",
    "#a=int(input(\"Enter \"))\n",
    "a=145\n",
    "s=0\n",
    "\n",
    "for i in str(a):\n",
    "    for j in i:\n",
    "        f=1\n",
    "        k=1\n",
    "        while k<=int(j):\n",
    "            f=f*k\n",
    "            k+=1\n",
    "        s+=f\n",
    "\n",
    "if s==a:\n",
    "    print(\"Strong Number\")\n",
    "else:\n",
    "    print(\"Not\")"
   ]
  },
  {
   "cell_type": "code",
   "execution_count": 13,
   "metadata": {},
   "outputs": [
    {
     "name": "stdout",
     "output_type": "stream",
     "text": [
      "120\n"
     ]
    }
   ],
   "source": [
    "a=5\n",
    "f=1\n",
    "for i in range(1,a+1):\n",
    "    f=f*i\n",
    "print(f)\n",
    "     "
   ]
  },
  {
   "cell_type": "code",
   "execution_count": 34,
   "metadata": {},
   "outputs": [
    {
     "name": "stdout",
     "output_type": "stream",
     "text": [
      "Strong Number\n"
     ]
    }
   ],
   "source": [
    "def strong(n):\n",
    "    s=0\n",
    "    for i in str(n):\n",
    "        f=1\n",
    "        for j in range(1,int(i)+1):\n",
    "            f*=j\n",
    "        s+=f\n",
    "    if s==n:\n",
    "        print(\"Strong Number\")\n",
    "    else:\n",
    "        print(\"Not a Strong\")\n",
    "strong(145)"
   ]
  },
  {
   "cell_type": "code",
   "execution_count": 13,
   "metadata": {},
   "outputs": [
    {
     "name": "stdout",
     "output_type": "stream",
     "text": [
      "[1, 2, 6, 24, 479001600, 120]\n"
     ]
    }
   ],
   "source": [
    "#WAP to store the factorials of all integers present in a list collection\n",
    "def fact(a):\n",
    "    f=1\n",
    "    for i in range(1,a+1):\n",
    "        f=f*i\n",
    "    return f\n",
    "\n",
    "def fct(b):\n",
    "    c=[]\n",
    "    for i in b:\n",
    "        if type(i)==int:\n",
    "            c+=[fact(i)]\n",
    "    print(c)\n",
    "\n",
    "fct([1,2,3,4,12,'dsfgt','defrtgy',5])"
   ]
  },
  {
   "cell_type": "code",
   "execution_count": 19,
   "metadata": {},
   "outputs": [
    {
     "name": "stdout",
     "output_type": "stream",
     "text": [
      "[('Strong Number', 1), ('Strong Number', 2), ('Not a Strong', 6), ('Not a Strong', 24), ('Not a Strong', 3), ('Not a Strong', 120), ('Strong Number', 145)]\n"
     ]
    }
   ],
   "source": [
    "#Function for strong number \n",
    "def strong(n):\n",
    "    s=0\n",
    "    for i in str(n):\n",
    "        f=1\n",
    "        for j in range(1,int(i)+1):\n",
    "            f*=j\n",
    "        s+=f\n",
    "    if s==n:\n",
    "        return \"Strong Number\",s\n",
    "    else:\n",
    "        return \"Not a Strong\",s\n",
    "    \n",
    "def qwer(b):\n",
    "    c=[]\n",
    "    for i in b:\n",
    "        if type(i)==int:\n",
    "            c+=[strong(i)]\n",
    "    print(c)\n",
    "\n",
    "qwer([1,2,3,4,12,'dsfgt','defrtgy',5,145])\n"
   ]
  },
  {
   "cell_type": "code",
   "execution_count": 20,
   "metadata": {},
   "outputs": [
    {
     "data": {
      "text/plain": [
       "('Strong Number', 145)"
      ]
     },
     "execution_count": 20,
     "metadata": {},
     "output_type": "execute_result"
    }
   ],
   "source": [
    "# #Function for strong number \n",
    "# def strong(n):\n",
    "#     s=0\n",
    "#     for i in str(n):\n",
    "#         f=1\n",
    "#         for j in range(1,int(i)+1):\n",
    "#             f*=j\n",
    "#         s+=f\n",
    "#     if s==n:\n",
    "#         return \"Strong Number\",s\n",
    "#     else:\n",
    "#         return \"Not a Strong\",s\n",
    "    \n",
    "\n",
    "\n",
    "# strong(145)\n"
   ]
  },
  {
   "cell_type": "code",
   "execution_count": 7,
   "metadata": {},
   "outputs": [
    {
     "name": "stdout",
     "output_type": "stream",
     "text": [
      "{'jolly': 1, 'yess': 1, 'paapa': 3}\n"
     ]
    }
   ],
   "source": [
    "def vov(v):\n",
    "    c=0\n",
    "    for i in v:\n",
    "        if i in 'aeiouAEIOU':\n",
    "            c+=1\n",
    "    return c\n",
    "\n",
    "def cal(a):\n",
    "    d={}\n",
    "    for i in a.split():\n",
    "        d[i]=vov(i)\n",
    "    print(d)\n",
    "\n",
    "cal('jolly yess paapa')"
   ]
  },
  {
   "cell_type": "code",
   "execution_count": null,
   "metadata": {},
   "outputs": [],
   "source": []
  },
  {
   "cell_type": "code",
   "execution_count": null,
   "metadata": {},
   "outputs": [],
   "source": []
  },
  {
   "cell_type": "code",
   "execution_count": null,
   "metadata": {},
   "outputs": [],
   "source": []
  },
  {
   "cell_type": "code",
   "execution_count": null,
   "metadata": {},
   "outputs": [],
   "source": []
  },
  {
   "cell_type": "code",
   "execution_count": null,
   "metadata": {},
   "outputs": [],
   "source": []
  }
 ],
 "metadata": {
  "kernelspec": {
   "display_name": "Python 3",
   "language": "python",
   "name": "python3"
  },
  "language_info": {
   "codemirror_mode": {
    "name": "ipython",
    "version": 3
   },
   "file_extension": ".py",
   "mimetype": "text/x-python",
   "name": "python",
   "nbconvert_exporter": "python",
   "pygments_lexer": "ipython3",
   "version": "3.11.1"
  }
 },
 "nbformat": 4,
 "nbformat_minor": 2
}
