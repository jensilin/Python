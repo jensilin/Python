{
 "cells": [
  {
   "cell_type": "code",
   "execution_count": 1,
   "metadata": {},
   "outputs": [],
   "source": [
    "#Prime number\n",
    "def prime(n):\n",
    "    for i in range(2,n):\n",
    "        if n%i==0:\n",
    "            break\n",
    "    else:\n",
    "        return n"
   ]
  },
  {
   "cell_type": "code",
   "execution_count": 3,
   "metadata": {},
   "outputs": [
    {
     "name": "stdout",
     "output_type": "stream",
     "text": [
      "[2, 3, 5, 7, 11, 13, 17, 19, 23, 29, 31, 37, 41, 43, 47, 53, 59, 61, 67, 71, 73, 79, 83, 89, 97]\n"
     ]
    }
   ],
   "source": [
    "p=[]\n",
    "for i in range(1,101):\n",
    "    if i>1:\n",
    "        if prime(i):\n",
    "            p+=[i]\n",
    "print(p)"
   ]
  },
  {
   "cell_type": "code",
   "execution_count": 133,
   "metadata": {},
   "outputs": [
    {
     "name": "stdout",
     "output_type": "stream",
     "text": [
      "[1, 2, 3, 5, 7, 11, 13, 17, 19, 23, 29, 31, 37, 41, 43, 47, 53, 59, 61, 67, 71, 73, 79, 83, 89, 97]\n"
     ]
    }
   ],
   "source": [
    "p=[1,]\n",
    "for i in range(1,101):\n",
    "    if i>1:\n",
    "        for j in range(2,i):\n",
    "            if i%j==0:\n",
    "                break\n",
    "        else:\n",
    "            p+=[i]\n",
    "print(p)"
   ]
  },
  {
   "cell_type": "code",
   "execution_count": 134,
   "metadata": {},
   "outputs": [],
   "source": [
    "#Armstrong Number\n",
    "def armstrong(a):\n",
    "    c=0\n",
    "    for i in str(a):\n",
    "        c+=int(i)**len(str(a))\n",
    "    \n",
    "    if a==c:\n",
    "        return a"
   ]
  },
  {
   "cell_type": "code",
   "execution_count": 135,
   "metadata": {},
   "outputs": [
    {
     "name": "stdout",
     "output_type": "stream",
     "text": [
      "[1, 2, 3, 4, 5, 6, 7, 8, 9]\n"
     ]
    }
   ],
   "source": [
    "a=[]\n",
    "for i in range(1,101):\n",
    "    if armstrong(i):\n",
    "        a+=[i]\n",
    "print(a)"
   ]
  },
  {
   "cell_type": "code",
   "execution_count": 136,
   "metadata": {},
   "outputs": [
    {
     "name": "stdout",
     "output_type": "stream",
     "text": [
      "[1, 2, 3, 4, 5, 6, 7, 8, 9]\n"
     ]
    }
   ],
   "source": [
    "a=[]\n",
    "for i in range(1,101):\n",
    "    c=0\n",
    "    for j in str(i):\n",
    "        c+=int(j)**len(str(i))\n",
    "    if c==i:\n",
    "        a+=[i]\n",
    "print(a)"
   ]
  },
  {
   "cell_type": "code",
   "execution_count": 137,
   "metadata": {},
   "outputs": [],
   "source": [
    "#Perfect Number\n",
    "def perfect_no(a):\n",
    "    s=0\n",
    "    for i in range(1,a):\n",
    "        if a%i==0:\n",
    "            s+=i\n",
    "    if a==s:\n",
    "        return a\n",
    "\n"
   ]
  },
  {
   "cell_type": "code",
   "execution_count": 138,
   "metadata": {},
   "outputs": [
    {
     "name": "stdout",
     "output_type": "stream",
     "text": [
      "[6, 28]\n"
     ]
    }
   ],
   "source": [
    "a=[]\n",
    "for i in range(1,101):\n",
    "    if perfect_no(i):\n",
    "        a+=[i]\n",
    "print(a)"
   ]
  },
  {
   "cell_type": "code",
   "execution_count": 139,
   "metadata": {},
   "outputs": [
    {
     "name": "stdout",
     "output_type": "stream",
     "text": [
      "[6, 28]\n"
     ]
    }
   ],
   "source": [
    "s=[]\n",
    "for i in range(1,101):\n",
    "    c=0\n",
    "    for j in range(1,i):\n",
    "        if i%j==0:\n",
    "            c+=j\n",
    "    if c==i:\n",
    "        s+=[i]\n",
    "print(s)"
   ]
  },
  {
   "cell_type": "code",
   "execution_count": 140,
   "metadata": {},
   "outputs": [],
   "source": [
    "#Factorial of a number\n",
    "\n",
    "def fact(n):\n",
    "    f=1\n",
    "    for i in range(1,n+1):\n",
    "        f*=i\n",
    "    return f\n"
   ]
  },
  {
   "cell_type": "code",
   "execution_count": 141,
   "metadata": {},
   "outputs": [],
   "source": [
    "#Strong number\n",
    "\n",
    "def strong_no(a):\n",
    "    s=0\n",
    "    for i in str(a):\n",
    "        s+=fact(int(i))\n",
    "    if a==s:\n",
    "        return a\n",
    "\n"
   ]
  },
  {
   "cell_type": "code",
   "execution_count": 142,
   "metadata": {},
   "outputs": [
    {
     "name": "stdout",
     "output_type": "stream",
     "text": [
      "[1, 2]\n"
     ]
    }
   ],
   "source": [
    "a=[]\n",
    "for i in range(1,100):\n",
    "    if strong_no(i):\n",
    "        a+=[i]\n",
    "print(a)"
   ]
  },
  {
   "cell_type": "code",
   "execution_count": 143,
   "metadata": {},
   "outputs": [
    {
     "name": "stdout",
     "output_type": "stream",
     "text": [
      "[1, 2]\n"
     ]
    }
   ],
   "source": [
    "st=[]\n",
    "for i in range(1,101):\n",
    "    s=0\n",
    "    for j in str(i):\n",
    "        f=1\n",
    "        k=1\n",
    "        while k<=int(j):\n",
    "            f=f*k\n",
    "            k+=1\n",
    "        s+=f\n",
    "    if s==i:\n",
    "        st+=[i]\n",
    "print(st)\n"
   ]
  },
  {
   "cell_type": "code",
   "execution_count": 144,
   "metadata": {},
   "outputs": [],
   "source": [
    "#Fibonacci Series\n",
    "\n",
    "def fibonacci(a):\n",
    "    x,y=0,1\n",
    "    for i in range(1,a+1):\n",
    "        x,y=y,x+y\n",
    "    return x\n"
   ]
  },
  {
   "cell_type": "code",
   "execution_count": 145,
   "metadata": {},
   "outputs": [
    {
     "name": "stdout",
     "output_type": "stream",
     "text": [
      "[1, 2, 3, 34, 5, 8, 13, 144, 21, 55, 89]\n"
     ]
    }
   ],
   "source": [
    "x=set()\n",
    "for i in range(1,100):\n",
    "    res=fibonacci(i)\n",
    "    x.add(res)\n",
    "    if res>100:\n",
    "        break\n",
    "print(list(x))\n",
    "    "
   ]
  },
  {
   "cell_type": "code",
   "execution_count": 146,
   "metadata": {},
   "outputs": [
    {
     "name": "stdout",
     "output_type": "stream",
     "text": [
      "{1, 2, 3, 34, 5, 8, 13, 21, 55, 89}\n"
     ]
    }
   ],
   "source": [
    "z=set()\n",
    "x,y=0,1\n",
    "for i  in range(1,100):\n",
    "    for j in range(1,i+1):\n",
    "        x,y=y,x+y\n",
    "        if x>100:\n",
    "            break\n",
    "        z.add(x)\n",
    "print(z)"
   ]
  },
  {
   "cell_type": "code",
   "execution_count": 147,
   "metadata": {},
   "outputs": [],
   "source": [
    "def even(a):\n",
    "    if a%2==0:\n",
    "        return a\n"
   ]
  },
  {
   "cell_type": "code",
   "execution_count": 148,
   "metadata": {},
   "outputs": [],
   "source": [
    "def ext_str_even(a):\n",
    "    b=''\n",
    "    for i in a:\n",
    "        if '0'<=i<='9':\n",
    "            if even(int(i)):\n",
    "                b+=i\n",
    "    return b\n"
   ]
  },
  {
   "cell_type": "code",
   "execution_count": 149,
   "metadata": {},
   "outputs": [],
   "source": [
    "def c_vov(a):\n",
    "    c=0\n",
    "    for i in a:\n",
    "        if i in 'aeiouAEIOU':\n",
    "            c+=1\n",
    "    return c"
   ]
  },
  {
   "cell_type": "code",
   "execution_count": 150,
   "metadata": {},
   "outputs": [],
   "source": [
    "def upr(a):\n",
    "    x=''\n",
    "    for i in a:\n",
    "        if 'a'<=i<='z':\n",
    "            x+=chr(ord(i)-32)\n",
    "        else:\n",
    "            x+=i\n",
    "    return x"
   ]
  },
  {
   "cell_type": "code",
   "execution_count": 151,
   "metadata": {},
   "outputs": [],
   "source": [
    "def ext_even_index(a):\n",
    "    return a[::2]"
   ]
  },
  {
   "cell_type": "code",
   "execution_count": 152,
   "metadata": {},
   "outputs": [
    {
     "name": "stdout",
     "output_type": "stream",
     "text": [
      "{'yen': ['YEN', 1], 'guru': ['GR', 2], 'samachara': ['SAMACHARA', 4], 'nindu': ['NNU', 2]}\n"
     ]
    }
   ],
   "source": [
    "a='yen guru samachara nindu'\n",
    "a=a.split()\n",
    "b={}\n",
    "for i in range(len(a)):\n",
    "    if i%2==0:\n",
    "        b[a[i]]=[upr(a[i]),c_vov(a[i])]\n",
    "    else:\n",
    "        b[a[i]]=[upr(ext_even_index(a[i])),c_vov(a[i])]\n",
    "print(b)"
   ]
  },
  {
   "cell_type": "code",
   "execution_count": null,
   "metadata": {},
   "outputs": [],
   "source": []
  },
  {
   "cell_type": "code",
   "execution_count": null,
   "metadata": {},
   "outputs": [],
   "source": []
  },
  {
   "cell_type": "code",
   "execution_count": null,
   "metadata": {},
   "outputs": [],
   "source": []
  },
  {
   "cell_type": "code",
   "execution_count": 153,
   "metadata": {},
   "outputs": [
    {
     "name": "stdout",
     "output_type": "stream",
     "text": [
      "True\n",
      "True\n",
      "True\n",
      "True\n",
      "True\n"
     ]
    }
   ],
   "source": [
    "a='aW9'\n",
    "if a.isalnum():\n",
    "    print(\"True\")\n",
    "\n",
    "for i in a:\n",
    "    if i.isalpha:\n",
    "        print(\"True\")\n",
    "        break\n",
    "        \n",
    "for j in a:\n",
    "    if j.upper():\n",
    "        print(\"True\")\n",
    "    elif j.lower():\n",
    "        print(\"True\")\n",
    "    elif j.isdigit():\n",
    "        print(\"True\")"
   ]
  },
  {
   "cell_type": "code",
   "execution_count": 154,
   "metadata": {},
   "outputs": [
    {
     "name": "stdout",
     "output_type": "stream",
     "text": [
      "179.8\n"
     ]
    }
   ],
   "source": [
    "import math\n",
    "\n",
    "n = 5 # Corrected the 'Input' to 'input'\n",
    "x = 6       # No change needed here\n",
    "\n",
    "s = 1.0  # Starting with the first term\n",
    "\n",
    "for i in range(1, n + 1):\n",
    "    s = s + math.pow(x, i) / math.factorial(i)  # Corrected 'x.l' to 'x, i' and '1' to 'i'\n",
    "\n",
    "print(s)"
   ]
  },
  {
   "cell_type": "code",
   "execution_count": 155,
   "metadata": {},
   "outputs": [
    {
     "name": "stdout",
     "output_type": "stream",
     "text": [
      "179.8\n"
     ]
    }
   ],
   "source": [
    "#Factorial of a number\n",
    "\n",
    "def fact(n):\n",
    "    f=1\n",
    "    for i in range(1,n+1):\n",
    "        f*=i\n",
    "    return f\n",
    "\n",
    "def pow(num,n):\n",
    "    return num**n\n",
    "pow(2,3)\n",
    "\n",
    "x=5\n",
    "y=6\n",
    "\n",
    "s=1.0\n",
    "for i in range(1,x+1):\n",
    "    s=s+pow(y,i)/fact(i)\n",
    "print(s)\n",
    "\n",
    "\n"
   ]
  },
  {
   "cell_type": "code",
   "execution_count": null,
   "metadata": {},
   "outputs": [],
   "source": []
  }
 ],
 "metadata": {
  "kernelspec": {
   "display_name": "Python 3",
   "language": "python",
   "name": "python3"
  },
  "language_info": {
   "codemirror_mode": {
    "name": "ipython",
    "version": 3
   },
   "file_extension": ".py",
   "mimetype": "text/x-python",
   "name": "python",
   "nbconvert_exporter": "python",
   "pygments_lexer": "ipython3",
   "version": "3.11.1"
  }
 },
 "nbformat": 4,
 "nbformat_minor": 2
}
