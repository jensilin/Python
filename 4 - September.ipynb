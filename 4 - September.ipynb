{
 "cells": [
  {
   "cell_type": "code",
   "execution_count": 5,
   "metadata": {},
   "outputs": [
    {
     "name": "stdout",
     "output_type": "stream",
     "text": [
      "Triple digit number 111\n"
     ]
    }
   ],
   "source": [
    "#WAP to check whether integer number is single digit or double digit or triple digit or more than that\n",
    "a=input(\"Enter a number:\")\n",
    "\n",
    "if len(a)==1:\n",
    "    b=int(a)\n",
    "    print(\"Single digit number\",b)\n",
    "elif len(a)==2:\n",
    "    b=int(a)\n",
    "    print(\"Double digit number\",b)\n",
    "elif len(a)==3:\n",
    "    b=int(a)\n",
    "    print(\"Triple digit number\",b)\n",
    "else:\n",
    "    print(\"More than that\")"
   ]
  },
  {
   "cell_type": "code",
   "execution_count": 10,
   "metadata": {},
   "outputs": [
    {
     "name": "stdout",
     "output_type": "stream",
     "text": [
      "More than that\n"
     ]
    }
   ],
   "source": [
    "#WAP to check whether integer number is single digit or double digit or triple digit or more than that\n",
    "a=int(input(\"Enter a number:\"))\n",
    "\n",
    "if len(str(a))==1:\n",
    "    print(\"Single digit number\")\n",
    "elif len(str(a))==2:\n",
    "    print(\"Double digit number\")\n",
    "elif len(str(a))==3:\n",
    "    print(\"Triple digit number\")\n",
    "else:\n",
    "    print(\"More than that\")"
   ]
  },
  {
   "cell_type": "code",
   "execution_count": 14,
   "metadata": {},
   "outputs": [
    {
     "name": "stdout",
     "output_type": "stream",
     "text": [
      "More than three digit\n"
     ]
    }
   ],
   "source": [
    "#WAP to check whether integer number is single digit or double digit or triple digit or more than that\n",
    "a=int(input(\"Enter the number\"))\n",
    "if (0<=a<=9):\n",
    "    print(\"Single digit number\")\n",
    "elif (10<=a<=99):\n",
    "    print(\"Double digit number\")\n",
    "elif (100<=a<=999):\n",
    "    print(\"Triple digit number\")\n",
    "else:\n",
    "    print(\"More than three digit\")"
   ]
  },
  {
   "cell_type": "code",
   "execution_count": 3,
   "metadata": {},
   "outputs": [
    {
     "name": "stdout",
     "output_type": "stream",
     "text": [
      "a\n"
     ]
    }
   ],
   "source": [
    "#WAP to print the upper case character if the entered input is lower-case, print lower case charter if the entered input is uppercase, if it is digits print cube of it, if it is a special character print the character by adding 5 to its ascii value\n",
    "a=input(\"Enter the input: \")\n",
    "if 'A'<=a<='Z':\n",
    "    print(chr(ord(a)+32))\n",
    "elif 'a'<=a<='z':\n",
    "    print(chr(ord(a)-32))\n",
    "elif '0'<=a<='9':\n",
    "    print(int(a)**3)\n",
    "elif not('A'<=a<='Z' or 'a'<=a<='z' or '1'<=a<='9'):                                                                                                   \n",
    "    print(chr(ord(a)+5))\n"
   ]
  },
  {
   "cell_type": "code",
   "execution_count": 2,
   "metadata": {},
   "outputs": [
    {
     "name": "stdout",
     "output_type": "stream",
     "text": [
      "A\n"
     ]
    }
   ],
   "source": [
    "a=input(\"asdf\")\n",
    "#b=ord(a[0])+30\n",
    "chr(ord(a[0])+32)\n",
    "print(chr(ord(a[0])-32))"
   ]
  }
 ],
 "metadata": {
  "kernelspec": {
   "display_name": "Python 3",
   "language": "python",
   "name": "python3"
  },
  "language_info": {
   "codemirror_mode": {
    "name": "ipython",
    "version": 3
   },
   "file_extension": ".py",
   "mimetype": "text/x-python",
   "name": "python",
   "nbconvert_exporter": "python",
   "pygments_lexer": "ipython3",
   "version": "3.11.1"
  }
 },
 "nbformat": 4,
 "nbformat_minor": 2
}
