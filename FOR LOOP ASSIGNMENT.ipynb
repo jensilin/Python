{
 "cells": [
  {
   "cell_type": "code",
   "execution_count": 1,
   "metadata": {},
   "outputs": [
    {
     "name": "stdout",
     "output_type": "stream",
     "text": [
      "QET\n"
     ]
    }
   ],
   "source": [
    "#. WAP to print all the characters of a string present at even index without using slicing\n",
    "\n",
    "# a=input(\"Enter the string \")\n",
    "a=\"QWERTY\"\n",
    "b=\"\"\n",
    "for i in range(0,len(a),2):\n",
    "    b+=a[i]\n",
    "print(b)"
   ]
  },
  {
   "cell_type": "code",
   "execution_count": 109,
   "metadata": {},
   "outputs": [
    {
     "name": "stdout",
     "output_type": "stream",
     "text": [
      "800\n"
     ]
    }
   ],
   "source": [
    "#WAP to find some of all the odd numbers b/w the range 20-60\n",
    "b=0\n",
    "for i in range(21,61,2):\n",
    "    b+=i\n",
    "print(b)\n",
    "    "
   ]
  },
  {
   "cell_type": "code",
   "execution_count": 14,
   "metadata": {},
   "outputs": [
    {
     "name": "stdout",
     "output_type": "stream",
     "text": [
      "['MdcdOM', 'DAD', 'MADAM', 'MALAYALAM', 'DFTYTREWQ', 'GFSSA', 'HEH']\n"
     ]
    }
   ],
   "source": [
    "#Consider a list input, extract all the string inside it and print the reversed string.\n",
    "a=[\"MOdcdM\",\"DAD\",\"MADAM\",\"MALAYALAM\",\"QWERTYTFD\",\"ASSFG\",\"HEH\",1,2,3,4,5.6]\n",
    "b=[]\n",
    "for i in a:\n",
    "    if type(i)==str:\n",
    "        b+=[i[::-1]]\n",
    "print(b)\n"
   ]
  },
  {
   "cell_type": "code",
   "execution_count": 12,
   "metadata": {},
   "outputs": [
    {
     "data": {
      "text/plain": [
       "'WEDSA'"
      ]
     },
     "execution_count": 12,
     "metadata": {},
     "output_type": "execute_result"
    }
   ],
   "source": [
    "a=[\"ASDEW\"]\n",
    "a[0][::-1]"
   ]
  },
  {
   "cell_type": "code",
   "execution_count": 50,
   "metadata": {},
   "outputs": [
    {
     "name": "stdout",
     "output_type": "stream",
     "text": [
      "[1233, 3.4, (2+3j), 52]\n",
      "62\n"
     ]
    }
   ],
   "source": [
    "# WAP to extract all the individual data items of a list. If length of extracted output is more than 4, print the first value of output else print last value of the output list and add 10 to it. \n",
    "\n",
    "a=[1233,3.4,2+3j,\"defrgtyui\",\"sdftgy\",52]\n",
    "b=[]\n",
    "for i in a:\n",
    "    if type(i) in [int,float,bool,complex]:\n",
    "            b+=[i]\n",
    "print(b)    \n",
    "if len(b)>4:\n",
    "    print(b[0])\n",
    "else:\n",
    "    print(b[-1]+10)"
   ]
  },
  {
   "cell_type": "code",
   "execution_count": 52,
   "metadata": {},
   "outputs": [],
   "source": [
    "# Reverse a string without using slicing. If the string is palindrome\n",
    "# print length of a string else print the output concatenated with ‘RCB’.\n",
    "\n",
    "a=\"MADAM\"\n",
    "b=\"\"\n",
    "for i in range(-1,-len(a)-1,-1):\n",
    "    b+=a[i]\n",
    "if b==a:\n",
    "    print(\"Palindrome\" , len(a))\n",
    "else:\n",
    "    print(\"Not a palindrome\",a+\"RCB\")"
   ]
  },
  {
   "cell_type": "code",
   "execution_count": 6,
   "metadata": {},
   "outputs": [
    {
     "name": "stdout",
     "output_type": "stream",
     "text": [
      "(1.4, 3.6)\n"
     ]
    }
   ],
   "source": [
    "#  WAP to extract all the floating values of a tuple present at even\n",
    "# index and ends with even number and starts with odd number. \n",
    "a=(1.4,2,3.6,6,6.5)\n",
    "a=a[::2]\n",
    "d=()\n",
    "for i in a:\n",
    "    if type(i)==float and int(str(i)[0])%2==1 and int(str(i)[-1])%2==0:\n",
    "        d+=i,\n",
    "print(d)"
   ]
  },
  {
   "cell_type": "code",
   "execution_count": 5,
   "metadata": {},
   "outputs": [
    {
     "name": "stdout",
     "output_type": "stream",
     "text": [
      "1234554553\n"
     ]
    }
   ],
   "source": [
    "#WAP to extract all the digits present in a string. \n",
    "a=\"qwer1234554553\"\n",
    "b=\"\"\n",
    "for i in a:\n",
    "    if '0'<i<='9':\n",
    "        b+=i\n",
    "print(b)"
   ]
  },
  {
   "cell_type": "code",
   "execution_count": 187,
   "metadata": {},
   "outputs": [
    {
     "name": "stdout",
     "output_type": "stream",
     "text": [
      "ee#sala#cup#namde\n"
     ]
    }
   ],
   "source": [
    "# WAP to replace space by ‘#’ of a string\n",
    "# Ex: i/p → ‘ee sala cup namde’\n",
    "#  o/p → ‘ee#sala#cup#namde’\n",
    "a=\"ee sala cup namde\"\n",
    "b=\"\"\n",
    "for i in a:\n",
    "    if i==\" \":\n",
    "        b+=\"#\"\n",
    "    else:\n",
    "        b+=i\n",
    "print(b)"
   ]
  },
  {
   "cell_type": "code",
   "execution_count": 4,
   "metadata": {},
   "outputs": [
    {
     "name": "stdout",
     "output_type": "stream",
     "text": [
      "ieoAEIoueee 11\n"
     ]
    }
   ],
   "source": [
    "# WAP to count the number of vowels present in a string.\n",
    "a=\"ieoAEIouswevcebhfe\"\n",
    "b=\"\"\n",
    "count=0\n",
    "for i in a:\n",
    "    if i in \"AEIOUaeiou\":\n",
    "        b+=i\n",
    "        count+=1\n",
    "print(b,count)"
   ]
  },
  {
   "cell_type": "code",
   "execution_count": 3,
   "metadata": {},
   "outputs": [
    {
     "name": "stdout",
     "output_type": "stream",
     "text": [
      ",,\n"
     ]
    }
   ],
   "source": [
    "# WAP to extract all the special characters present in string only if the ASCII value of the character is even and palindrome.\n",
    "a=\"$!,asdfvg!@#$%^^&*()(,.<>)\"\n",
    "b=\"\"\n",
    "for i in a:\n",
    "    if not('A'<=i<='Z' or 'a'<=i<='z' or '0'<=i<='9') and ord(i)%2==0 and str(ord(i))[::-1]==str(ord(i)):\n",
    "        b+=i\n",
    "print(b)\n",
    "\n",
    "                "
   ]
  },
  {
   "cell_type": "code",
   "execution_count": 27,
   "metadata": {},
   "outputs": [
    {
     "data": {
      "text/plain": [
       "True"
      ]
     },
     "execution_count": 27,
     "metadata": {},
     "output_type": "execute_result"
    }
   ],
   "source": [
    "str(ord('!'))[::-1]==str(ord(\"!\"))"
   ]
  },
  {
   "cell_type": "code",
   "execution_count": 105,
   "metadata": {},
   "outputs": [
    {
     "name": "stdout",
     "output_type": "stream",
     "text": [
      "[2, 4, 6, 8, 10]\n"
     ]
    }
   ],
   "source": [
    "# WAP to extract all the integers present in a list only if it is present in odd index.\n",
    "a=[1,2,3,4,5,6,7,8,9,10]\n",
    "b=[]\n",
    "for i in range(1,len(a),2):\n",
    "    b=b+[a[i]]\n",
    "print(b)"
   ]
  },
  {
   "cell_type": "code",
   "execution_count": 107,
   "metadata": {},
   "outputs": [
    {
     "name": "stdout",
     "output_type": "stream",
     "text": [
      "3375\n",
      "4096\n",
      "4913\n",
      "5832\n",
      "6859\n",
      "8000\n",
      "9261\n",
      "10648\n",
      "12167\n",
      "13824\n",
      "15625\n",
      "17576\n",
      "19683\n",
      "21952\n",
      "24389\n",
      "27000\n"
     ]
    }
   ],
   "source": [
    "# WAP to print cube of numbers between the range 15-30\n",
    "for i in range(15,31):\n",
    "    print(i**3)"
   ]
  },
  {
   "cell_type": "code",
   "execution_count": 53,
   "metadata": {},
   "outputs": [
    {
     "name": "stdout",
     "output_type": "stream",
     "text": [
      "1756.8319999999997\n"
     ]
    }
   ],
   "source": [
    "# WAP to find product of all the floating number present in a tuple collection.\n",
    "a=(2,3,4,5,5.5,6.2,9.2,5.6)\n",
    "b=1\n",
    "for i in a:\n",
    "    if type(i)==float:\n",
    "        b*=i\n",
    "        \n",
    "print(b)"
   ]
  },
  {
   "cell_type": "code",
   "execution_count": 119,
   "metadata": {},
   "outputs": [
    {
     "name": "stdout",
     "output_type": "stream",
     "text": [
      "18\n"
     ]
    }
   ],
   "source": [
    "# WAP to find sum of individual digits of a string.\n",
    "# Ex: i/p = “im a 420 you are 840”\n",
    "#  o/p = 18\n",
    "a=\"you a 420 you are 840\"\n",
    "b=0\n",
    "for i in a:\n",
    "    if '0'<=i<='9':\n",
    "        b+=int(i)\n",
    "print(b)\n",
    "        \n"
   ]
  },
  {
   "cell_type": "code",
   "execution_count": 133,
   "metadata": {},
   "outputs": [
    {
     "name": "stdout",
     "output_type": "stream",
     "text": [
      "56556\n"
     ]
    }
   ],
   "source": [
    "# WAP to find the greatest number in a given list of integers.\n",
    "a=[\"qwerty\",\"sdfgh\",5,5,8,9,552,56556,7,8.23]\n",
    "b=[]\n",
    "for i in a:\n",
    "    if type(i)==int:\n",
    "        b+=[i]\n",
    "        b.sort(reverse=True)\n",
    "print(b[0])"
   ]
  },
  {
   "cell_type": "code",
   "execution_count": 10,
   "metadata": {},
   "outputs": [
    {
     "name": "stdout",
     "output_type": "stream",
     "text": [
      "(2, 4, 66, 34, 56)\n",
      "(3, 3, 5, 5, 67, 89, 99)\n"
     ]
    }
   ],
   "source": [
    "# Consider a homogenous tuple and divide the input into two\n",
    "# outputs of even number and odd number \n",
    "a=(2,3,3,4,5,5,66,34,56,67,89,99)\n",
    "even=()\n",
    "odd=()\n",
    "for i in a:\n",
    "    if i%2==0:\n",
    "        even+=i,\n",
    "    else:\n",
    "        odd+=i,\n",
    "print(even,odd,sep=\"\\n\")"
   ]
  },
  {
   "cell_type": "code",
   "execution_count": 8,
   "metadata": {},
   "outputs": [
    {
     "name": "stdout",
     "output_type": "stream",
     "text": [
      "5\n"
     ]
    }
   ],
   "source": [
    "# WAP to count the number of occurrence of specified character.\n",
    "# Ex: st = ‘pyspiders rajajinagara’\n",
    "#  ch = ‘a’\n",
    "#  output = 5 (number of times ‘a’ is repeated)\n",
    "\n",
    "a=\"pyspiders rajajinagara\"\n",
    "se='a'\n",
    "count=0\n",
    "for i in a:\n",
    "    if i==se:\n",
    "        count+=1\n",
    "print(count)"
   ]
  },
  {
   "cell_type": "code",
   "execution_count": 11,
   "metadata": {},
   "outputs": [
    {
     "name": "stdout",
     "output_type": "stream",
     "text": [
      "145\n"
     ]
    }
   ],
   "source": [
    "# WAP to find the sum of cube of numbers in a given string.\n",
    "# string ='ab4hjk2dfjks12adsjk4'\n",
    "# out=145\n",
    "a=\"ab4hjk2dfjks12adsjk4\"\n",
    "sm=0\n",
    "for i in a:\n",
    "    if '0'<=i<='9':\n",
    "        sm+=int(i)**3\n",
    "print(sm)"
   ]
  },
  {
   "cell_type": "code",
   "execution_count": 12,
   "metadata": {},
   "outputs": [
    {
     "name": "stdout",
     "output_type": "stream",
     "text": [
      "[1, 2, 4, 5, 10, 20]\n"
     ]
    }
   ],
   "source": [
    "# WAP to store the factors of a integer number in a tuple.\n",
    "# Ex1: n = 6\n",
    "#  o/p = [1,2,3,6]\n",
    "# Ex2: n=20\n",
    "#  o/p = [1,2,5,10,20]\n",
    "\n",
    "n=20\n",
    "b=[]\n",
    "for i in range(1,n+1):\n",
    "    if n%i==0:\n",
    "        b+=[i]\n",
    "print(b)\n",
    "        "
   ]
  },
  {
   "cell_type": "code",
   "execution_count": 15,
   "metadata": {},
   "outputs": [
    {
     "name": "stdout",
     "output_type": "stream",
     "text": [
      "[[1, 2, 30], [1, 2, 3, 4, 5], [1, 2, 3, 4, 5, 6, 7, 8, 9]]\n"
     ]
    }
   ],
   "source": [
    "# WAP to extract all the list data items preset inside the list only\n",
    "# if those are having middle value.\n",
    "a=[[1,2,30],[1,2,3,4],[1,2,3,4,5],\"wsert\",[1,2,3,4,5,6,7,8,9]]\n",
    "b=[]\n",
    "for i in a:\n",
    "    if type(i)==list and len(i)%2==1:\n",
    "        #mid=len(i)//2\n",
    "        b+=[i]\n",
    "print(b)"
   ]
  },
  {
   "cell_type": "code",
   "execution_count": 189,
   "metadata": {},
   "outputs": [
    {
     "name": "stdout",
     "output_type": "stream",
     "text": [
      "2\n"
     ]
    }
   ],
   "source": [
    "a=[[1,2,3]]\n",
    "b=len(a[0])\n",
    "mid=b//2\n",
    "print(a[0][mid])"
   ]
  },
  {
   "cell_type": "code",
   "execution_count": 6,
   "metadata": {},
   "outputs": [
    {
     "name": "stdout",
     "output_type": "stream",
     "text": [
      "[11, 17]\n"
     ]
    }
   ],
   "source": [
    "#a=[[5,6],[1,3],[8,9],[10,11]]\n",
    "#out=[11,17]\n",
    "a=[[5,6],[1,3],[8,9],[10,12]]\n",
    "b=[]\n",
    "for i in a:\n",
    "    if i[0]+1==i[-1]:\n",
    "        b+=[i[0]+i[-1]]\n",
    "print(b)"
   ]
  },
  {
   "cell_type": "code",
   "execution_count": 6,
   "metadata": {},
   "outputs": [
    {
     "name": "stdout",
     "output_type": "stream",
     "text": [
      "['Today', 'Is', 'Happy', 'Day']\n"
     ]
    }
   ],
   "source": [
    "#a=\"today Is happy day\"\n",
    "#res=['Today','Is','Happy','Day']\n",
    "a=\"today Is happy day\"\n",
    "b=a.split()\n",
    "c=[]\n",
    "for i in b:\n",
    "    if 'A'<=i[0]<='Z':\n",
    "        c+=[i]\n",
    "    else:\n",
    "        c+=[chr(ord(i[0])-32)+i[1:]]\n",
    "print(c)"
   ]
  },
  {
   "cell_type": "code",
   "execution_count": 8,
   "metadata": {},
   "outputs": [
    {
     "name": "stdout",
     "output_type": "stream",
     "text": [
      "[[5, 4], [6, 3], [1, 2, 1, 5]]\n"
     ]
    }
   ],
   "source": [
    "#a=[1,2,1,5,4,2,6,3]\n",
    "#res=[[5,4],[6,3],[1,2,1,5]]\n",
    "#num=9\n",
    "\n",
    "my_list = [1, 2, 1, 5, 4, 2, 6, 3]\n",
    "num = 9\n",
    "res_list = []\n",
    "\n",
    "for i in range(1, len(my_list) - 1):\n",
    "    for j in range(0, len(my_list)):\n",
    "        b = my_list[j:j + i]\n",
    "        if b not in res_list:\n",
    "            if sum(b) == num :\n",
    "                res_list.append(b)\n",
    "\n",
    "print(res_list)"
   ]
  },
  {
   "cell_type": "code",
   "execution_count": 93,
   "metadata": {},
   "outputs": [],
   "source": [
    "a=[{2,3},25,['date',{'n':['jen',{'x':[22,{'y':'date'}]}]},234]]\n"
   ]
  },
  {
   "cell_type": "code",
   "execution_count": 89,
   "metadata": {},
   "outputs": [
    {
     "name": "stdout",
     "output_type": "stream",
     "text": [
      "2325\n"
     ]
    }
   ],
   "source": [
    "#2325\n",
    "b=str(a[1])\n",
    "c=str(a[2][-1])[:2]\n",
    "print(c+b)"
   ]
  },
  {
   "cell_type": "code",
   "execution_count": 79,
   "metadata": {},
   "outputs": [
    {
     "name": "stdout",
     "output_type": "stream",
     "text": [
      "dtjn\n"
     ]
    }
   ],
   "source": [
    "fir=a[2][0][::2]\n",
    "sec=a[2][1]['n'][0][::2]\n",
    "print(fir+sec)"
   ]
  },
  {
   "cell_type": "code",
   "execution_count": 75,
   "metadata": {},
   "outputs": [
    {
     "data": {
      "text/plain": [
       "'date'"
      ]
     },
     "execution_count": 75,
     "metadata": {},
     "output_type": "execute_result"
    }
   ],
   "source": [
    "# a={'n': ['jen', {'x': [22, {'y': 'date'}]}]}\n",
    "# a['n'][1]['x'][1]['y']"
   ]
  },
  {
   "cell_type": "code",
   "execution_count": 12,
   "metadata": {},
   "outputs": [],
   "source": [
    "a='abcsd'\n",
    "c=1\n",
    "for i in a:\n",
    "    pass\n",
    "    "
   ]
  },
  {
   "cell_type": "code",
   "execution_count": null,
   "metadata": {},
   "outputs": [],
   "source": []
  }
 ],
 "metadata": {
  "kernelspec": {
   "display_name": "Python 3",
   "language": "python",
   "name": "python3"
  },
  "language_info": {
   "codemirror_mode": {
    "name": "ipython",
    "version": 3
   },
   "file_extension": ".py",
   "mimetype": "text/x-python",
   "name": "python",
   "nbconvert_exporter": "python",
   "pygments_lexer": "ipython3",
   "version": "3.11.1"
  }
 },
 "nbformat": 4,
 "nbformat_minor": 2
}
