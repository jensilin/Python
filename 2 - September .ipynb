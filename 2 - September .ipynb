{
 "cells": [
  {
   "cell_type": "code",
   "execution_count": 12,
   "id": "ea7ded53",
   "metadata": {},
   "outputs": [
    {
     "name": "stdout",
     "output_type": "stream",
     "text": [
      "Enter the value {1:1}\n",
      "It is mutable\n"
     ]
    }
   ],
   "source": [
    "#WAP to check wheather the entire value is mutable or not\n",
    "a=eval(input(\"Enter the value \"))\n",
    "if type(a) in [list,set,dict]:\n",
    "    print(\"It is mutable\")\n",
    "else:\n",
    "    print(\"It is immutable\")\n",
    "        \n",
    "        \n"
   ]
  },
  {
   "cell_type": "code",
   "execution_count": 9,
   "id": "9f69f595",
   "metadata": {},
   "outputs": [
    {
     "name": "stdout",
     "output_type": "stream",
     "text": [
      "Enter the string  adfh\n",
      "Vowel is not present\n"
     ]
    }
   ],
   "source": [
    "#WAP to check whether the entire character is vowel or not\n",
    "a=input(\"Enter the string  \")\n",
    "if a in ['a','e','i','o','u','A','E','I','O','U']:\n",
    "    print(\"Vowel is present\")\n",
    "else:\n",
    "    print(\"Vowel is not present\")"
   ]
  },
  {
   "cell_type": "code",
   "execution_count": 8,
   "id": "e8d1ba64",
   "metadata": {},
   "outputs": [
    {
     "name": "stdout",
     "output_type": "stream",
     "text": [
      "Enter the string  aertyuiokjhgv\n",
      "Vowel is not present\n"
     ]
    }
   ],
   "source": [
    "#WAP to check whether the entire character is vowel or not\n",
    "a=input(\"Enter the string  \")\n",
    "if a in ['aeiouAEIOU']:\n",
    "    print(\"Vowel is present\")\n",
    "else:\n",
    "    print(\"Vowel is not present\")"
   ]
  },
  {
   "cell_type": "code",
   "execution_count": 7,
   "id": "bbdc4f1c",
   "metadata": {},
   "outputs": [
    {
     "name": "stdout",
     "output_type": "stream",
     "text": [
      "Enter the integer78\n",
      "Even 78\n"
     ]
    }
   ],
   "source": [
    "#WAP to check whether the number is even or odd\n",
    "a=int(input(\"Enter the integer\"))\n",
    "if a%2==0:\n",
    "    print(\"Even\",a)\n",
    "else:\n",
    "    print(\"Odd\",a)"
   ]
  },
  {
   "cell_type": "code",
   "execution_count": 37,
   "id": "d654a479",
   "metadata": {},
   "outputs": [
    {
     "name": "stdout",
     "output_type": "stream",
     "text": [
      "Enter the stringasdfghj\n",
      "It is in non-upper case\n"
     ]
    }
   ],
   "source": [
    "#WAP to check whether the entered character is upper case or not \n",
    "\n",
    "a=input(\"Enter the string\")\n",
    "if 'A'<=a<='Z':\n",
    "    print(\"Upper case it is \",a)\n",
    "else:\n",
    "    print(\"It is in non-upper case\")"
   ]
  },
  {
   "cell_type": "code",
   "execution_count": 41,
   "id": "39d25c65",
   "metadata": {},
   "outputs": [
    {
     "name": "stdout",
     "output_type": "stream",
     "text": [
      "Enter the stringH\n",
      "upper case it is  H\n"
     ]
    }
   ],
   "source": [
    "#WAP to print the first character of the string only if the last character of it is an upper\n",
    "\n",
    "a=input(\"Enter the string\")\n",
    "if 'A'<=a[-1]<='Z':\n",
    "    print(\"upper case it is \",a[0])\n",
    "else:\n",
    "    print(\"Failed\")"
   ]
  },
  {
   "cell_type": "code",
   "execution_count": 1,
   "id": "9fd8c294",
   "metadata": {},
   "outputs": [
    {
     "name": "stdout",
     "output_type": "stream",
     "text": [
      "Enter the string qwerty\n",
      "Even  qet\n"
     ]
    }
   ],
   "source": [
    "#WAP to print the reversed string if the length is odd and print the character at even index if the length is even\n",
    "a=input(\"Enter the string \")\n",
    "if len(a)%2==0:\n",
    "    print(\"Even \",a[::2])\n",
    "else:\n",
    "    print(\"Odd\",a[::-1])"
   ]
  },
  {
   "cell_type": "code",
   "execution_count": 33,
   "id": "072fdf40",
   "metadata": {},
   "outputs": [
    {
     "name": "stdout",
     "output_type": "stream",
     "text": [
      "Enter [1,2,4,5,{1:3}]\n",
      "collection\n"
     ]
    }
   ],
   "source": [
    "#WAP to check whaether the last value of the list is single value or collection\n",
    "a=eval(input(\"Enter \"))\n",
    "if type(a[-1]) in [list,set,dict,tuple,str]:\n",
    "    print(\"collection\")\n",
    "else:\n",
    "    print(\"Single value\")"
   ]
  },
  {
   "cell_type": "code",
   "execution_count": 7,
   "id": "880fb246",
   "metadata": {},
   "outputs": [
    {
     "name": "stdout",
     "output_type": "stream",
     "text": [
      "\n"
     ]
    }
   ],
   "source": [
    "#len %2= str not= print odd index of a string\n",
    "x=input(\"enter:\")\n",
    "if len(x)%2==0:\n",
    "    print(x)\n",
    "elif len(x)%2==1:\n",
    "    print(x[1::2])  "
   ]
  },
  {
   "cell_type": "code",
   "execution_count": 8,
   "id": "05df2863",
   "metadata": {},
   "outputs": [
    {
     "data": {
      "text/plain": [
       "1"
      ]
     },
     "execution_count": 8,
     "metadata": {},
     "output_type": "execute_result"
    }
   ],
   "source": [
    "1%2"
   ]
  },
  {
   "cell_type": "code",
   "execution_count": null,
   "id": "b0e29466",
   "metadata": {},
   "outputs": [],
   "source": []
  }
 ],
 "metadata": {
  "kernelspec": {
   "display_name": "Python 3",
   "language": "python",
   "name": "python3"
  },
  "language_info": {
   "codemirror_mode": {
    "name": "ipython",
    "version": 3
   },
   "file_extension": ".py",
   "mimetype": "text/x-python",
   "name": "python",
   "nbconvert_exporter": "python",
   "pygments_lexer": "ipython3",
   "version": "3.11.1"
  }
 },
 "nbformat": 4,
 "nbformat_minor": 5
}
