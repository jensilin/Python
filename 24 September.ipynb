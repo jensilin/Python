{
 "cells": [
  {
   "cell_type": "code",
   "execution_count": 42,
   "metadata": {},
   "outputs": [
    {
     "name": "stdout",
     "output_type": "stream",
     "text": [
      "8\n",
      "99\n",
      "(['wer', 8, 'sdf'], ['sdfg', 5, 99, 'dfg', 'defrgty'])\n"
     ]
    }
   ],
   "source": [
    "#WAP to extract all the list data items present in tuple collection on if the list contains minimum of 3 values and it \n",
    "#consist of middle value as integer\n",
    "\n",
    "a=([\"wer\",8,\"sdf\"],[\"sdfg\",5,99,\"dfg\",\"defrgty\"],\"defrtyuiop\")\n",
    "b=()\n",
    "for i in a:\n",
    "    if type(i)==list:\n",
    "        if len(i)>=3:\n",
    "            if len(i)%2==1:\n",
    "                mid=len(i)//2\n",
    "                if type(i[mid])==int:\n",
    "                    b+=(i,)\n",
    "                    print(i[mid])\n",
    "print(b)"
   ]
  },
  {
   "cell_type": "code",
   "execution_count": 62,
   "metadata": {},
   "outputs": [
    {
     "name": "stdout",
     "output_type": "stream",
     "text": [
      "{'ganchali': 'ilahcnag', 'bidu': 'udib', 'kannada': 'adannak', 'kali': 'ilak'}\n"
     ]
    }
   ],
   "source": [
    "#WAP \n",
    "#input = \"ganchali bidu kannada kali\"\n",
    "a=\"ganchali bidu kannada kali\"\n",
    "b=a.split()\n",
    "c={}\n",
    "for i in b:\n",
    "    c[i]=i[::-1]\n",
    "print(c)\n"
   ]
  },
  {
   "cell_type": "code",
   "execution_count": 64,
   "metadata": {},
   "outputs": [
    {
     "data": {
      "text/plain": [
       "{'cfghj': 'dfghj'}"
      ]
     },
     "execution_count": 64,
     "metadata": {},
     "output_type": "execute_result"
    }
   ],
   "source": [
    "a={}\n",
    "a[\"cfghj\"]='dfghj'\n",
    "a\n"
   ]
  },
  {
   "cell_type": "code",
   "execution_count": 67,
   "metadata": {},
   "outputs": [
    {
     "name": "stdout",
     "output_type": "stream",
     "text": [
      "{'qwetry': 6, 'ertyutv': 7, 'dfghyuyi': 8}\n"
     ]
    }
   ],
   "source": [
    "#WAP to store word and its length as key value pairs\n",
    "a=\"qwetry ertyutv dfghyuyi\"\n",
    "b=a.split()\n",
    "c={}\n",
    "for i in b:\n",
    "    c[i]=len(i)\n",
    "print(c)"
   ]
  },
  {
   "cell_type": "code",
   "execution_count": 79,
   "metadata": {},
   "outputs": [
    {
     "name": "stdout",
     "output_type": "stream",
     "text": [
      "[1, 2, 3, 4, 'desrtyu7i8u']\n"
     ]
    }
   ],
   "source": [
    "#WAP to remove the duplicates present in a list collection\n",
    "a=[1,2,3,4,4,3,2,1,\"desrtyu7i8u\"]\n",
    "b=[]\n",
    "for i in a:\n",
    "    if i not in b:\n",
    "        b+=[i]\n",
    "print(b)"
   ]
  },
  {
   "cell_type": "code",
   "execution_count": 84,
   "metadata": {},
   "outputs": [
    {
     "name": "stdout",
     "output_type": "stream",
     "text": [
      "10\n",
      "41\n"
     ]
    }
   ],
   "source": [
    "#WAP to count the number of vowels and consonants in a string\n",
    "a=\"QWERTYUIOPOKJHGFDSAZXCVBNMqwertyuioplkjhgfdszxcvbnm\"\n",
    "vov=0\n",
    "con=0\n",
    "for i in a:\n",
    "    if 'A'<=i<='Z' or 'a'<=i<='z':\n",
    "        if i in \"AEIOUaeiou\":\n",
    "            vov+=1\n",
    "        else:\n",
    "            con+=1\n",
    "print(vov)\n",
    "print(con)\n",
    "        "
   ]
  },
  {
   "cell_type": "code",
   "execution_count": 82,
   "metadata": {},
   "outputs": [
    {
     "name": "stdout",
     "output_type": "stream",
     "text": [
      "31\n"
     ]
    }
   ],
   "source": [
    "#WAP to find sum of all the integers in tuple collection\n",
    "\n",
    "a=(1,2,3,4,6,7,8,'qwertyu')\n",
    "sum=0\n",
    "\n",
    "for i in a:\n",
    "    if type(i)==int:\n",
    "        sum+=i\n",
    "print(sum)"
   ]
  },
  {
   "cell_type": "code",
   "execution_count": null,
   "metadata": {},
   "outputs": [],
   "source": []
  }
 ],
 "metadata": {
  "kernelspec": {
   "display_name": "Python 3",
   "language": "python",
   "name": "python3"
  },
  "language_info": {
   "codemirror_mode": {
    "name": "ipython",
    "version": 3
   },
   "file_extension": ".py",
   "mimetype": "text/x-python",
   "name": "python",
   "nbconvert_exporter": "python",
   "pygments_lexer": "ipython3",
   "version": "3.11.1"
  }
 },
 "nbformat": 4,
 "nbformat_minor": 2
}
