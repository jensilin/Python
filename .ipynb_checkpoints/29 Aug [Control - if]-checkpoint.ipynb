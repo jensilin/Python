{
 "cells": [
  {
   "cell_type": "code",
   "execution_count": 3,
   "id": "f3eb3800",
   "metadata": {},
   "outputs": [
    {
     "name": "stdout",
     "output_type": "stream",
     "text": [
      "The number  15 and the sqaure is  225\n"
     ]
    }
   ],
   "source": [
    "#WAP to square the integer number only if it is greater than 10\n",
    "\n",
    "a=eval(input(\"Enter the number\"))\n",
    "c=a**2\n",
    "if a>10:\n",
    "    print(\"The number \",a, \"and the sqaure is \",c)"
   ]
  },
  {
   "cell_type": "code",
   "execution_count": 4,
   "id": "3692f709",
   "metadata": {},
   "outputs": [
    {
     "name": "stdout",
     "output_type": "stream",
     "text": [
      "hehehw\n"
     ]
    }
   ],
   "source": [
    "#WAP to print the string only if the length of that is in between 3 to 6\n",
    "\n",
    "a=input(\"Enter the string \")\n",
    "if len(a)>=3 and len(a)<=6:\n",
    "    print(a)"
   ]
  },
  {
   "cell_type": "code",
   "execution_count": 5,
   "id": "57e1f5fa",
   "metadata": {},
   "outputs": [
    {
     "name": "stdout",
     "output_type": "stream",
     "text": [
      "gte\n"
     ]
    }
   ],
   "source": [
    "\n",
    "a=input(\"Enter the string \")\n",
    "if 3<=len(a)<=6:\n",
    "    print(a)"
   ]
  },
  {
   "cell_type": "code",
   "execution_count": 7,
   "id": "5e7481c9",
   "metadata": {},
   "outputs": [],
   "source": [
    "#WAP to print the reversed string only if it is starting with the upper case character\n",
    "\n",
    "a=input(\"Enter the string\")\n",
    "if a[0]> 'A' and a[0]<'Z':\n",
    "    print(a[::-1])"
   ]
  },
  {
   "cell_type": "code",
   "execution_count": 22,
   "id": "eb3ab4cf",
   "metadata": {},
   "outputs": [
    {
     "name": "stdout",
     "output_type": "stream",
     "text": [
      "dfghjklkjhgfdA\n"
     ]
    }
   ],
   "source": [
    "\n",
    "a=input(\"Enter the string\")\n",
    "if 'A'<=a[0]<='Z':\n",
    "    print(a[::-1])"
   ]
  },
  {
   "cell_type": "code",
   "execution_count": 1,
   "id": "c22b6a33",
   "metadata": {},
   "outputs": [
    {
     "name": "stdout",
     "output_type": "stream",
     "text": [
      "The result is  8\n"
     ]
    }
   ],
   "source": [
    "#WAP to print cube of a integer number only if it is a even number\n",
    "\n",
    "a = int(input(\"Enter the integer\"))\n",
    "b=a**3\n",
    "if b%2==0:\n",
    "    print(\"The result is \",b)"
   ]
  },
  {
   "cell_type": "code",
   "execution_count": 37,
   "id": "6c6b33ad",
   "metadata": {},
   "outputs": [],
   "source": [
    "#WAP to print the first value of list only if it is an even integer\n",
    "a=eval(input(\"Enter the list\"))\n",
    "if type(a[0])==int and a[0]%2==0:\n",
    "    print(a)"
   ]
  },
  {
   "cell_type": "code",
   "execution_count": 43,
   "id": "a35ac148",
   "metadata": {},
   "outputs": [
    {
     "name": "stdout",
     "output_type": "stream",
     "text": [
      "['dfgvhjkjhgf', 3, 2, 1]\n"
     ]
    }
   ],
   "source": [
    "#WAP to reverse the list collection only if the last value of it is a string\n",
    "a=eval(input(\"Enter the list\"))\n",
    "if type(a[-1])==str:\n",
    "    print(a[::-1])\n",
    "\n",
    "\n",
    "\n",
    "#a=[1,2,3,'werf']\n",
    "#type(a[-1])            a[-1] the output will be str          a[-1:] the output will be list because of :\n",
    "    "
   ]
  },
  {
   "cell_type": "code",
   "execution_count": 1,
   "id": "cf186186",
   "metadata": {},
   "outputs": [
    {
     "name": "stdout",
     "output_type": "stream",
     "text": [
      "107\n"
     ]
    }
   ],
   "source": [
    "#WAP to print the ASCII value of the last character of string only if it is lower case\n",
    "a=input(\"Enter the string\")\n",
    "if 97<=ord(a[-1::])<=122:\n",
    "    print(ord(a[-1]))\n"
   ]
  },
  {
   "cell_type": "code",
   "execution_count": 45,
   "id": "c21fa23c",
   "metadata": {},
   "outputs": [
    {
     "name": "stdout",
     "output_type": "stream",
     "text": [
      "111\n"
     ]
    }
   ],
   "source": [
    "a=input(\"Enter the string\")\n",
    "if 'a'<=a[-1]<='z':\n",
    "    print(ord(a[-1]))"
   ]
  },
  {
   "cell_type": "code",
   "execution_count": 3,
   "id": "4281555d",
   "metadata": {},
   "outputs": [
    {
     "name": "stdout",
     "output_type": "stream",
     "text": [
      "dsfghjqwertyuiopjhgfdsa\n"
     ]
    },
    {
     "data": {
      "text/plain": [
       "'a'"
      ]
     },
     "execution_count": 3,
     "metadata": {},
     "output_type": "execute_result"
    }
   ],
   "source": [
    "a=input(\"dsfghj\")\n",
    "a[-1]"
   ]
  },
  {
   "cell_type": "code",
   "execution_count": null,
   "id": "90348677",
   "metadata": {},
   "outputs": [],
   "source": [
    "a=['vijay']"
   ]
  },
  {
   "cell_type": "code",
   "execution_count": null,
   "id": "7afe0bf7",
   "metadata": {},
   "outputs": [],
   "source": []
  }
 ],
 "metadata": {
  "kernelspec": {
   "display_name": "Python 3 (ipykernel)",
   "language": "python",
   "name": "python3"
  },
  "language_info": {
   "codemirror_mode": {
    "name": "ipython",
    "version": 3
   },
   "file_extension": ".py",
   "mimetype": "text/x-python",
   "name": "python",
   "nbconvert_exporter": "python",
   "pygments_lexer": "ipython3",
   "version": "3.11.4"
  }
 },
 "nbformat": 4,
 "nbformat_minor": 5
}
