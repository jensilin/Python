{
 "cells": [
  {
   "cell_type": "code",
   "execution_count": 10,
   "id": "0c058ca3",
   "metadata": {},
   "outputs": [
    {
     "name": "stdout",
     "output_type": "stream",
     "text": [
      "Enter the value [1,2,3,4]\n",
      "It is mutable\n"
     ]
    }
   ],
   "source": [
    "#WAP to check wheather the entire value is mutable or not\n",
    "'''\n",
    "a=eval(input(\"Enter the value \"))\n",
    "b=a\n",
    "if a is b:\n",
    "    print(\"It is mutable\")\n",
    "else:\n",
    "    print(\"It is not mutable\")\n",
    "'''"
   ]
  },
  {
   "cell_type": "code",
   "execution_count": 12,
   "id": "ea7ded53",
   "metadata": {},
   "outputs": [
    {
     "name": "stdout",
     "output_type": "stream",
     "text": [
      "Enter the value {1:1}\n",
      "It is mutable\n"
     ]
    }
   ],
   "source": [
    "#WAP to check wheather the entire value is mutable or not\n",
    "a=eval(input(\"Enter the value \"))\n",
    "if type(a) in [list,set,dict]:\n",
    "    print(\"It is mutable\")\n",
    "else:\n",
    "    print(\"It is immutable\")\n",
    "        \n"
   ]
  },
  {
   "cell_type": "code",
   "execution_count": 3,
   "id": "e8d1ba64",
   "metadata": {},
   "outputs": [
    {
     "name": "stdout",
     "output_type": "stream",
     "text": [
      "Enter the string  aejhrgr\n",
      "Vowel is not present\n"
     ]
    }
   ],
   "source": [
    "#WAP to check whether the entire character is vowel or not\n",
    "a=input(\"Enter the string  \")\n",
    "if a in ['aeiouAEIOU']:\n",
    "    print(\"Vowel is present\")\n",
    "else:\n",
    "    print(\"Vowel is not present\")"
   ]
  },
  {
   "cell_type": "code",
   "execution_count": 5,
   "id": "bbdc4f1c",
   "metadata": {},
   "outputs": [
    {
     "name": "stdout",
     "output_type": "stream",
     "text": [
      "Enter the integer23\n",
      "Odd 23\n"
     ]
    }
   ],
   "source": [
    "#WAP to check whether the number is even or odd\n",
    "a=int(input(\"Enter the integer\"))\n",
    "if a%2==0:\n",
    "    print(\"Even\",a)\n",
    "else:\n",
    "    print(\"Odd\",a)"
   ]
  },
  {
   "cell_type": "code",
   "execution_count": null,
   "id": "741fc2ac",
   "metadata": {},
   "outputs": [],
   "source": []
  }
 ],
 "metadata": {
  "kernelspec": {
   "display_name": "Python 3 (ipykernel)",
   "language": "python",
   "name": "python3"
  },
  "language_info": {
   "codemirror_mode": {
    "name": "ipython",
    "version": 3
   },
   "file_extension": ".py",
   "mimetype": "text/x-python",
   "name": "python",
   "nbconvert_exporter": "python",
   "pygments_lexer": "ipython3",
   "version": "3.11.4"
  }
 },
 "nbformat": 4,
 "nbformat_minor": 5
}
