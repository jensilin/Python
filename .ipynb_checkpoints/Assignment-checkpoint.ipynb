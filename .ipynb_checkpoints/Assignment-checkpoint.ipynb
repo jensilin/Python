{
 "cells": [
  {
   "cell_type": "code",
   "execution_count": 11,
   "metadata": {},
   "outputs": [
    {
     "name": "stdout",
     "output_type": "stream",
     "text": [
      "The number is a palindrome 101\n"
     ]
    }
   ],
   "source": [
    "#WAP to check if the integer is palindrome or not \n",
    "a=int(input(\"Enter the integer \"))\n",
    "\n",
    "if str(a)[::-1] == str(a):\n",
    "    print(\"The number is a palindrome\",a)\n",
    "else:\n",
    "    print(\"The number is not a palindrome\",a)"
   ]
  },
  {
   "cell_type": "code",
   "execution_count": 8,
   "metadata": {},
   "outputs": [
    {
     "name": "stdout",
     "output_type": "stream",
     "text": [
      "Ascii value is even \n"
     ]
    }
   ],
   "source": [
    "#Consider a string input and check whether the ASCII value of first character is even or odd\n",
    "a = input(\"Enter the string \")\n",
    "if ord(a[0])%2==0:\n",
    "    print(\"Ascii value is even \")\n",
    "else:\n",
    "    print(\"Asci value is odd \")"
   ]
  },
  {
   "cell_type": "code",
   "execution_count": 16,
   "metadata": {},
   "outputs": [
    {
     "name": "stdout",
     "output_type": "stream",
     "text": [
      "[1, 2, 3, 4, 5, 6, 7] Odd index is  [2, 4, 6]\n"
     ]
    }
   ],
   "source": [
    "#Consider a list input print the values at even index if the length is odd and print the values at odd index if length is even\n",
    "a=eval(input(\"Enter the list collection \"))\n",
    "if len(a)%2==0:\n",
    "    print(a,\"Even idex is \",a[::2])\n",
    "else:\n",
    "    print(a,\"Odd index is \",a[1::2])\n",
    " "
   ]
  },
  {
   "cell_type": "code",
   "execution_count": 17,
   "metadata": {},
   "outputs": [
    {
     "name": "stdout",
     "output_type": "stream",
     "text": [
      "Different memory location \n"
     ]
    }
   ],
   "source": [
    "#Consider two inputs and check whether it is pointing towards same memory location or not\n",
    "a=eval(input(\"Enter the list \"))\n",
    "b=eval(input(\"Enter the list \"))\n",
    "if a is b:\n",
    "    print(\"Same memory location \")\n",
    "else:\n",
    "    print(\"Different memory location \")\n"
   ]
  },
  {
   "cell_type": "code",
   "execution_count": 38,
   "metadata": {},
   "outputs": [],
   "source": [
    "#Consider a tuple of length two and check whether the tuple is homogenoous or not\n",
    "a = eval(input(\"Enter the tuple \"))\n",
    "\n",
    "if type(a[0]) == type(a[1]):\n",
    "    print(\"Homogenous element \")\n",
    "else:\n",
    "    print(\"Hetrogenous elements \")"
   ]
  },
  {
   "cell_type": "code",
   "execution_count": 39,
   "metadata": {},
   "outputs": [
    {
     "name": "stdout",
     "output_type": "stream",
     "text": [
      "Negative number\n"
     ]
    }
   ],
   "source": [
    "#WAP to check whether the number is positive or negative\n",
    "a=int(input(\"Enter the input \"))\n",
    "if str(a)[0]== '-':\n",
    "    print(\"Negative number\")\n",
    "else:\n",
    "    print(\"Positive number\")"
   ]
  },
  {
   "cell_type": "code",
   "execution_count": 12,
   "metadata": {},
   "outputs": [],
   "source": [
    "#WAP to check whether the given string is keyword or not\n"
   ]
  },
  {
   "cell_type": "code",
   "execution_count": null,
   "metadata": {},
   "outputs": [],
   "source": [
    "# Consider a character input and if it is a upper case print the 1st digit of it's ASCII number, \n",
    "# if it is a lower case then print its last digit of ASCII, print the remainder when divided by 3 \n",
    "# if it is a number, print the reversed string if it is a special character.\n",
    "a=input(\"Enter the string \")\n",
    "if 'A'<="
   ]
  },
  {
   "cell_type": "code",
   "execution_count": null,
   "metadata": {},
   "outputs": [],
   "source": [
    "#WAP consider a string and if the last character's ASCII value is between 50-60,print the string as it is, \n",
    "# if the ASCII value is in between 61-75 print the character when added 5 to its ASCII value. \n",
    "# If it's between 76- 97 then print the concatenated output with first and last character of given string \n",
    "# ('JAAAM' ASCII value of 'M' is 77 output 'JM'). If it is other than those then print the reversed string.\n"
   ]
  },
  {
   "cell_type": "code",
   "execution_count": null,
   "metadata": {},
   "outputs": [],
   "source": [
    "#WAP to check the given points are lying in which quadrant (2 number inputs). (1,2,3,4 quadrants)."
   ]
  }
 ],
 "metadata": {
  "kernelspec": {
   "display_name": "Python 3 (ipykernel)",
   "language": "python",
   "name": "python3"
  },
  "language_info": {
   "codemirror_mode": {
    "name": "ipython",
    "version": 3
   },
   "file_extension": ".py",
   "mimetype": "text/x-python",
   "name": "python",
   "nbconvert_exporter": "python",
   "pygments_lexer": "ipython3",
   "version": "3.11.1"
  }
 },
 "nbformat": 4,
 "nbformat_minor": 2
}
