{
 "cells": [
  {
   "cell_type": "code",
   "execution_count": 2,
   "metadata": {},
   "outputs": [
    {
     "name": "stdout",
     "output_type": "stream",
     "text": [
      "10\n"
     ]
    }
   ],
   "source": [
    "#def function\n",
    "#functions without argument and without return values\n",
    "def add():\n",
    "    x=int(input(\"Enter\"))\n",
    "    y=int(input(\"enter\"))\n",
    "    print(x+y)\n",
    "add()"
   ]
  },
  {
   "cell_type": "code",
   "execution_count": 16,
   "metadata": {},
   "outputs": [
    {
     "name": "stdout",
     "output_type": "stream",
     "text": [
      "0\n"
     ]
    }
   ],
   "source": [
    "#WAP to count the number of integers present in a list collection\n",
    "def count():\n",
    "    a=[1,2,3,4,5,\"wdertyu7u89\"]\n",
    "    cpunt=0\n",
    "    for i in a:\n",
    "        if type(i)==int:\n",
    "            cpunt+=1\n",
    "    print(cpunt)\n",
    "count()"
   ]
  },
  {
   "cell_type": "code",
   "execution_count": 25,
   "metadata": {},
   "outputs": [
    {
     "name": "stdout",
     "output_type": "stream",
     "text": [
      "{'ayeH': 2}\n"
     ]
    }
   ],
   "source": [
    "#WAP to which counts all the voewels present in string collection and display the out in the form of dictionary where\n",
    "#in keys must be reversed string and value must be the count \n",
    "def vov():\n",
    "    a=\"Heya\"\n",
    "    b={}\n",
    "    # c=''\n",
    "    z=0\n",
    "    for i in a:\n",
    "        if i in 'aeiouAEIOU':\n",
    "            # c+=i\n",
    "            z+=1\n",
    "    b[a[::-1]]=z\n",
    "    print(b)\n",
    "vov()\n",
    "            "
   ]
  },
  {
   "cell_type": "code",
   "execution_count": 28,
   "metadata": {},
   "outputs": [
    {
     "name": "stdout",
     "output_type": "stream",
     "text": [
      "{'uygtredqw': 5}\n"
     ]
    }
   ],
   "source": [
    "a=\"wqdertgyu\"\n",
    "b={}\n",
    "c=5\n",
    "b[a[::-1]]=c\n",
    "print(b)"
   ]
  },
  {
   "cell_type": "code",
   "execution_count": 2,
   "metadata": {},
   "outputs": [
    {
     "name": "stdout",
     "output_type": "stream",
     "text": [
      "9654\n"
     ]
    }
   ],
   "source": [
    "#WAP to 15 reverse the integer number\n",
    "def rev():\n",
    "    a=int(input(\"Enter a number \"))\n",
    "    rev=0\n",
    "    while a!=0:\n",
    "        ld=a%10\n",
    "        rev=rev*10+ld\n",
    "        a=a//10\n",
    "    print(rev)  \n",
    "rev()"
   ]
  },
  {
   "cell_type": "code",
   "execution_count": 3,
   "metadata": {},
   "outputs": [
    {
     "name": "stdout",
     "output_type": "stream",
     "text": [
      "6\n"
     ]
    }
   ],
   "source": [
    "#Function with arguments and without return \n",
    "def prod(a,b,c):\n",
    "    print(a*b*c)\n",
    "prod(1,2,3)"
   ]
  },
  {
   "cell_type": "code",
   "execution_count": 7,
   "metadata": {},
   "outputs": [
    {
     "name": "stdout",
     "output_type": "stream",
     "text": [
      "even 10\n"
     ]
    }
   ],
   "source": [
    "#WAP to check the number is even or odd\n",
    "def eo(a):\n",
    "    if a%2==0:\n",
    "        print(\"even\",a)\n",
    "    else:\n",
    "        print(\"odd\",a)\n",
    "eo(int(input(\"Enter \")))"
   ]
  },
  {
   "cell_type": "code",
   "execution_count": null,
   "metadata": {},
   "outputs": [],
   "source": []
  },
  {
   "cell_type": "code",
   "execution_count": null,
   "metadata": {},
   "outputs": [],
   "source": []
  },
  {
   "cell_type": "code",
   "execution_count": null,
   "metadata": {},
   "outputs": [],
   "source": []
  }
 ],
 "metadata": {
  "kernelspec": {
   "display_name": "Python 3",
   "language": "python",
   "name": "python3"
  },
  "language_info": {
   "codemirror_mode": {
    "name": "ipython",
    "version": 3
   },
   "file_extension": ".py",
   "mimetype": "text/x-python",
   "name": "python",
   "nbconvert_exporter": "python",
   "pygments_lexer": "ipython3",
   "version": "3.11.1"
  }
 },
 "nbformat": 4,
 "nbformat_minor": 2
}
