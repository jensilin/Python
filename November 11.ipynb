{
 "cells": [
  {
   "cell_type": "markdown",
   "metadata": {},
   "source": [
    "Abstraction \n",
    "    It is a phenomenon of hiding the implementation from the user such that the functionality will work.\n",
    "    To understand abstraction we need concepts like \n",
    "        Abstract Method\n",
    "        Abstract class\n",
    "        Concrete class\n",
    "\n",
    "    Abstract Method\n",
    "            It is a method which has function declaration but it does not contain function definition or method definition\n",
    "                def fname(args):\n",
    "                    pass\n",
    "    \n",
    "    Abstract class\n",
    "            If a class contain atleast one abstract methos in it, it becomes abstract class.\n",
    "                from abc import ABC, abstractmethod\n",
    "            \n",
    "            Syntax:\n",
    "                class cname(ABC):\n",
    "\n",
    "                    @abstractmethod\n",
    "                    def fname(args):\n",
    "                    pass\n",
    "    \n",
    "    NOTE: It is not possible to create an object for abstract class \n",
    "            To convert an abstract class into concrete class, all the abstract methods must be given implementation in the derived class.\n",
    "\n",
    "\n",
    "    Cincrete class \n",
    "            To method which does not contain abstract class.\n",
    "            \n",
    "\n"
   ]
  },
  {
   "cell_type": "code",
   "execution_count": 5,
   "metadata": {},
   "outputs": [
    {
     "name": "stdout",
     "output_type": "stream",
     "text": [
      "magaaaa naanu kanooo\n",
      "maagaaa yello idhiya\n"
     ]
    }
   ],
   "source": [
    "from abc import ABC, abstractmethod\n",
    "\n",
    "class Demo(ABC):\n",
    "\n",
    "    @abstractmethod\n",
    "    def new():\n",
    "        pass\n",
    "\n",
    "    @abstractmethod\n",
    "    def newl():\n",
    "        pass\n",
    "\n",
    "class New(Demo):\n",
    "\n",
    "    def new(self):\n",
    "        print('magaaaa naanu kanooo')\n",
    "\n",
    "    def newl(self):\n",
    "        print('maagaaa yello idhiya')\n",
    "\n",
    "ob = New()\n",
    "ob.new()\n",
    "ob.newl()\n"
   ]
  },
  {
   "cell_type": "code",
   "execution_count": 9,
   "metadata": {},
   "outputs": [
    {
     "name": "stdout",
     "output_type": "stream",
     "text": [
      "True\n"
     ]
    }
   ],
   "source": [
    "#WAP which returns True if the integer number is even, if not return False\n",
    "\n",
    "a=int(input())\n",
    "b=False\n",
    "\n",
    "if a%2==0:\n",
    "    b=True\n",
    "\n",
    "print(b)"
   ]
  },
  {
   "cell_type": "code",
   "execution_count": 22,
   "metadata": {},
   "outputs": [
    {
     "data": {
      "text/plain": [
       "True"
      ]
     },
     "execution_count": 22,
     "metadata": {},
     "output_type": "execute_result"
    }
   ],
   "source": [
    "def even(a):\n",
    "    return a%2==0\n",
    "even(2)"
   ]
  },
  {
   "cell_type": "code",
   "execution_count": 25,
   "metadata": {},
   "outputs": [
    {
     "data": {
      "text/plain": [
       "False"
      ]
     },
     "execution_count": 25,
     "metadata": {},
     "output_type": "execute_result"
    }
   ],
   "source": [
    "bool(int(input())%2==0)"
   ]
  },
  {
   "cell_type": "markdown",
   "metadata": {},
   "source": [
    "Advanced topics in python\n",
    "    LAMDA\n",
    "        It is a keyword which acts like a anonymous function in python to perform simple operations.\n",
    "        var= lamda args:expression\n",
    "        print(var(values))"
   ]
  },
  {
   "cell_type": "code",
   "execution_count": 26,
   "metadata": {},
   "outputs": [
    {
     "name": "stdout",
     "output_type": "stream",
     "text": [
      "True\n"
     ]
    }
   ],
   "source": [
    "even_odd=lambda n:n%2==0\n",
    "print(even_odd(2))"
   ]
  },
  {
   "cell_type": "code",
   "execution_count": 29,
   "metadata": {},
   "outputs": [
    {
     "name": "stdout",
     "output_type": "stream",
     "text": [
      "25\n"
     ]
    }
   ],
   "source": [
    "#WAP to find square for integer number\n",
    "lo= lambda a:a*a\n",
    "print(lo(5))"
   ]
  },
  {
   "cell_type": "code",
   "execution_count": 38,
   "metadata": {},
   "outputs": [
    {
     "name": "stdout",
     "output_type": "stream",
     "text": [
      "9\n"
     ]
    }
   ],
   "source": [
    "#WAP which gives square of a number if it is odd get cube of the number if it is even\n",
    "\n",
    "sqr_cube = lambda z: z**3 if z % 2 == 0 else z**2\n",
    "print(sqr_cube(3))"
   ]
  },
  {
   "cell_type": "code",
   "execution_count": 1,
   "metadata": {},
   "outputs": [
    {
     "name": "stdout",
     "output_type": "stream",
     "text": [
      "1254\n"
     ]
    }
   ],
   "source": [
    "#WAP to reverse the value, if not possible to reverse print the value as it is\n",
    "rev=lambda n:n[::-1] if type(n) in[list,str,tuple] else n\n",
    "print(rev(1254))"
   ]
  },
  {
   "cell_type": "code",
   "execution_count": 55,
   "metadata": {},
   "outputs": [
    {
     "name": "stdout",
     "output_type": "stream",
     "text": [
      "yhtgrsfed\n"
     ]
    }
   ],
   "source": [
    "rev=lambda n:type(n)==str and n[::-1]\n",
    "print(rev(\"defsrgthy\"))\n"
   ]
  },
  {
   "cell_type": "code",
   "execution_count": 66,
   "metadata": {},
   "outputs": [
    {
     "name": "stdout",
     "output_type": "stream",
     "text": [
      "palindrome\n"
     ]
    }
   ],
   "source": [
    "rev=lambda n=input():print(\"palindrome\") if n== n[::-1] else print(\"not a palindrome\")\n",
    "rev()\n"
   ]
  },
  {
   "cell_type": "code",
   "execution_count": 1,
   "metadata": {},
   "outputs": [
    {
     "name": "stdout",
     "output_type": "stream",
     "text": [
      "62\n"
     ]
    }
   ],
   "source": [
    "#WAP to find sum of minimum three number and maximum 5 number\n",
    "\n",
    "num=lambda a,b,c,d=0,e=0: a+b+c+d+e\n",
    "print(num(1,2,5,54))"
   ]
  },
  {
   "cell_type": "code",
   "execution_count": 5,
   "metadata": {},
   "outputs": [
    {
     "name": "stdout",
     "output_type": "stream",
     "text": [
      "10 is the greatest\n"
     ]
    }
   ],
   "source": [
    "#WAP to find the greatest of two integer number\n",
    "ab=lambda a=int(input()), b=int(input()): print(a,\"is the greatest\") if a>b else print(b,\"is the greatest\")\n",
    "ab()"
   ]
  },
  {
   "cell_type": "code",
   "execution_count": null,
   "metadata": {},
   "outputs": [],
   "source": []
  }
 ],
 "metadata": {
  "kernelspec": {
   "display_name": "Python 3",
   "language": "python",
   "name": "python3"
  },
  "language_info": {
   "codemirror_mode": {
    "name": "ipython",
    "version": 3
   },
   "file_extension": ".py",
   "mimetype": "text/x-python",
   "name": "python",
   "nbconvert_exporter": "python",
   "pygments_lexer": "ipython3",
   "version": "3.11.1"
  }
 },
 "nbformat": 4,
 "nbformat_minor": 2
}
