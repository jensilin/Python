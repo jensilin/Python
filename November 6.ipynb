{
 "cells": [
  {
   "cell_type": "markdown",
   "metadata": {},
   "source": [
    "Hierarchial Inheritance  \n",
    "        It is a phenomenon of deriving property from a single parent class to multiple child claases \n",
    "\n",
    "        Syntax:\n",
    "            class PC:\n",
    "                S.B\n",
    "            class CC1(PC):\n",
    "                S.B\n",
    "            class CC2(PC):\n",
    "                S.B\n",
    "            class CC3(PC):\n",
    "                S.B \n",
    "            "
   ]
  },
  {
   "cell_type": "code",
   "execution_count": 4,
   "metadata": {},
   "outputs": [
    {
     "name": "stdout",
     "output_type": "stream",
     "text": [
      "90 50\n",
      "10 85\n",
      "10 90\n",
      "10 20\n"
     ]
    }
   ],
   "source": [
    "class P:\n",
    "    a=10\n",
    "    b=20\n",
    "    \n",
    "class A(P):\n",
    "    c=90\n",
    "    d=87\n",
    "    \n",
    "class C(P):\n",
    "    e=85\n",
    "    f=25\n",
    "    \n",
    "class D(P):\n",
    "    a=90\n",
    "    z=50\n",
    "    \n",
    "ob1=D()\n",
    "print(ob1.a,ob1.z)\n",
    "\n",
    "ob2=C()\n",
    "print(ob2.a,ob2.e)\n",
    "\n",
    "\n",
    "ob3=A()\n",
    "print(ob3.a,ob3.c)\n",
    "\n",
    "ob4=P()\n",
    "print(ob4.a,ob4.b)"
   ]
  },
  {
   "cell_type": "code",
   "execution_count": null,
   "metadata": {},
   "outputs": [
    {
     "name": "stdout",
     "output_type": "stream",
     "text": [
      "{'one': ['lo shisya'], 'two': [], 'three': []}\n"
     ]
    }
   ],
   "source": [
    "class Chat:\n",
    "    contacts={'one':[],'two':[],'three':[]}\n",
    "    def send_msg(self):\n",
    "        name=input(\"Enter the name \")\n",
    "        if name in Chat.contacts:\n",
    "            msg=input(\"Enter the message\")\n",
    "            Chat.contacts[name]+=[msg]\n",
    "        else:\n",
    "            print(\"Enter proper contact name\")\n",
    "\n",
    "class Whatsapp(Chat):\n",
    "    pass\n",
    "\n",
    "class Instagram(Chat):\n",
    "    pass\n",
    "\n",
    "loo=Chat()\n",
    "loo.send_msg()\n",
    "print(Chat.contacts)"
   ]
  },
  {
   "cell_type": "code",
   "execution_count": 10,
   "metadata": {},
   "outputs": [
    {
     "name": "stdout",
     "output_type": "stream",
     "text": [
      "{'one': ['lo shisya'], 'two': ['hehehehhhhheeeeee'], 'three': []}\n"
     ]
    }
   ],
   "source": [
    "she=Chat()\n",
    "she.send_msg()\n",
    "print(Chat.contacts)"
   ]
  },
  {
   "cell_type": "code",
   "execution_count": 12,
   "metadata": {},
   "outputs": [
    {
     "name": "stdout",
     "output_type": "stream",
     "text": [
      "{'one': ['lo shisya'], 'two': ['hehehehhhhheeeeee', 'wefgtrhyujio'], 'three': []}\n"
     ]
    }
   ],
   "source": [
    "oth=Chat()\n",
    "oth.send_msg()\n",
    "print(Chat.contacts)"
   ]
  },
  {
   "cell_type": "markdown",
   "metadata": {},
   "source": [
    "Hybrid Inheritance \n",
    "        It is a type of inheritance which is acheived by combining more than one type of inheritance.\n",
    "        Since it is done based on user requirement there is no proper syntax for it."
   ]
  },
  {
   "cell_type": "code",
   "execution_count": 19,
   "metadata": {},
   "outputs": [
    {
     "name": "stdout",
     "output_type": "stream",
     "text": [
      "10\n",
      "4\n",
      "1.8\n",
      "25\n"
     ]
    }
   ],
   "source": [
    "class Addition:\n",
    "    @staticmethod\n",
    "    def add(x,y):\n",
    "        return x+y\n",
    "    \n",
    "class Subtraction(Addition):\n",
    "    @staticmethod\n",
    "    def sub(x,y):\n",
    "        return x-y\n",
    "    \n",
    "class Multiplication:\n",
    "    @staticmethod\n",
    "    def mul(x,y):\n",
    "        return x*y\n",
    "\n",
    "class Calculator(Subtraction,Multiplication):\n",
    "    @staticmethod\n",
    "    def div(x,y):\n",
    "        return x/y\n",
    "\n",
    "print(Calculator.add(5,5))\n",
    "print(Calculator.sub(9,5))\n",
    "print(Calculator.div(9,5))\n",
    "print(Calculator.mul(5,5))\n",
    "\n"
   ]
  },
  {
   "cell_type": "code",
   "execution_count": null,
   "metadata": {},
   "outputs": [],
   "source": []
  }
 ],
 "metadata": {
  "kernelspec": {
   "display_name": "Python 3",
   "language": "python",
   "name": "python3"
  },
  "language_info": {
   "codemirror_mode": {
    "name": "ipython",
    "version": 3
   },
   "file_extension": ".py",
   "mimetype": "text/x-python",
   "name": "python",
   "nbconvert_exporter": "python",
   "pygments_lexer": "ipython3",
   "version": "3.11.1"
  }
 },
 "nbformat": 4,
 "nbformat_minor": 2
}
