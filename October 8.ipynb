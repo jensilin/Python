{
 "cells": [
  {
   "cell_type": "code",
   "execution_count": 6,
   "metadata": {},
   "outputs": [
    {
     "name": "stdout",
     "output_type": "stream",
     "text": [
      "wdefgtryedrftgy\n"
     ]
    }
   ],
   "source": [
    "#WAP which returns the string data items present in a list collection only if the sum of asci value of those strings is \n",
    "# exceeding 500\n",
    "a=[\"wd\",\"wdefgtryedrftgy\",1,234]\n",
    "\n",
    "for i in a:\n",
    "    sum=0\n",
    "    if type(i)==str:\n",
    "        for j in i:\n",
    "            sum+=ord(j)\n",
    "        if sum>500:\n",
    "            print(i)\n",
    "    "
   ]
  },
  {
   "cell_type": "code",
   "execution_count": 16,
   "metadata": {},
   "outputs": [
    {
     "data": {
      "text/plain": [
       "['wdsxdgtfhyujik', 'wdefgtryedrftgy', 'SDFGTYHUJ']"
      ]
     },
     "execution_count": 16,
     "metadata": {},
     "output_type": "execute_result"
    }
   ],
   "source": [
    "def strr():\n",
    "    a=[\"wdsxdgtfhyujik\",\"wdefgtryedrftgy\",1,234,\"weAS\",'SDFGTYHUJ']\n",
    "    b=[]\n",
    "    for i in a:\n",
    "        sum=0\n",
    "        if type(i)==str:\n",
    "            for j in i:\n",
    "                sum+=ord(j)\n",
    "            if sum>500:\n",
    "                b+=[i]\n",
    "    return b\n",
    "strr()\n",
    "    \n",
    "    "
   ]
  },
  {
   "cell_type": "code",
   "execution_count": 20,
   "metadata": {},
   "outputs": [
    {
     "name": "stdout",
     "output_type": "stream",
     "text": [
      "10\n"
     ]
    }
   ],
   "source": [
    "#function with arguments and return values\n",
    "#create a basic calculator\n",
    "def cal(a,b,o):\n",
    "    if o=='+':\n",
    "        print(a+b)\n",
    "    elif o=='-':\n",
    "        print(a-b)\n",
    "    elif o=='*':\n",
    "        print(a*b)\n",
    "    elif o=='/':\n",
    "        print(a/b)\n",
    "a=int(input(\"Enter the first number\"))\n",
    "b=int(input(\"Enter the second number\"))\n",
    "o=input(\"Enter the operation\")\n",
    "cal(a,b,o)"
   ]
  },
  {
   "cell_type": "code",
   "execution_count": 22,
   "metadata": {},
   "outputs": [
    {
     "name": "stdout",
     "output_type": "stream",
     "text": [
      "Click    +   for Addition\n",
      "Click    -   for Subtraction\n",
      "Click    *   for Multiplication\n",
      "Click    /   for Division\n",
      "sum of 5 and 5 is 10\n",
      "******************************\n",
      "Difference of 9 and 4 is 5\n",
      "******************************\n",
      "Product of 5 and 8 is 40\n",
      "******************************\n",
      "Invalid input\n",
      "Invalid input\n",
      "Difference of 96548 and 852 is 95696\n",
      "******************************\n"
     ]
    }
   ],
   "source": [
    "def add(a,b):\n",
    "    return a+b\n",
    "def sub(a,b):\n",
    "    return a-b\n",
    "def mul(a,b):\n",
    "    return a*b\n",
    "def div(a,b):\n",
    "    return a/b\n",
    "\n",
    "def fetch():\n",
    "    a=int(input(\"Enter the number\"))\n",
    "    b=int(input(\"Enter the number\"))\n",
    "    return a,b\n",
    "\n",
    "print(\"Click    +   for Addition\")\n",
    "print(\"Click    -   for Subtraction\")\n",
    "print(\"Click    *   for Multiplication\")\n",
    "print(\"Click    /   for Division\")\n",
    "\n",
    "while True:\n",
    "    operator=input(\"Enter \")\n",
    "    if operator=='+':\n",
    "        a,b=fetch()\n",
    "        print(f'sum of {a} and {b} is {add(a,b)}')\n",
    "        print(\"*\"*30)\n",
    "    elif operator=='-':\n",
    "        a,b=fetch()\n",
    "        print(f'Difference of {a} and {b} is {sub(a,b)}')\n",
    "        print(\"*\"*30)\n",
    "    elif operator=='*':\n",
    "        a,b=fetch()\n",
    "        print(f'Product of {a} and {b} is {mul(a,b)}')\n",
    "        print(\"*\"*30)\n",
    "    elif operator=='/':\n",
    "        a,b=fetch()\n",
    "        print(f'Division of {a} and {b} is {div(a,b)}')\n",
    "        print(\"*\"*30)\n",
    "    elif operator=='0':\n",
    "        break\n",
    "    else:\n",
    "        print(\"Invalid input\")\n",
    "        "
   ]
  },
  {
   "cell_type": "code",
   "execution_count": 23,
   "metadata": {},
   "outputs": [
    {
     "name": "stdout",
     "output_type": "stream",
     "text": [
      "Click    +   for Addition\n",
      "Click    -   for Subtraction\n",
      "Click    *   for Multiplication\n",
      "Click    /   for Division\n",
      "sum of 5 and 5 is 10\n",
      "******************************\n",
      "Difference of 98 and 65 is 33\n",
      "******************************\n",
      "Invalid input\n",
      "Product of 78 and 5 is 390\n",
      "******************************\n",
      "Division of 52 and 2 is 26.0\n",
      "******************************\n"
     ]
    }
   ],
   "source": [
    "def fetch():\n",
    "    a=int(input(\"Enter the number\"))\n",
    "    b=int(input(\"Enter the number\"))\n",
    "    return a,b\n",
    "\n",
    "print(\"Click    +   for Addition\")\n",
    "print(\"Click    -   for Subtraction\")\n",
    "print(\"Click    *   for Multiplication\")\n",
    "print(\"Click    /   for Division\")\n",
    "\n",
    "while True:\n",
    "    operator=input(\"Enter \")\n",
    "    if operator=='+':\n",
    "        a,b=fetch()\n",
    "        print(f'sum of {a} and {b} is {a+b}')\n",
    "        print(\"*\"*30)\n",
    "    elif operator=='-':\n",
    "        a,b=fetch()\n",
    "        print(f'Difference of {a} and {b} is {a-b}')\n",
    "        print(\"*\"*30)\n",
    "    elif operator=='*':\n",
    "        a,b=fetch()\n",
    "        print(f'Product of {a} and {b} is {a*b}')\n",
    "        print(\"*\"*30)\n",
    "    elif operator=='/':\n",
    "        a,b=fetch()\n",
    "        print(f'Division of {a} and {b} is {a/b}')\n",
    "        print(\"*\"*30)\n",
    "    elif operator=='0':\n",
    "        break\n",
    "    else:\n",
    "        print(\"Invalid input\")\n",
    "        "
   ]
  },
  {
   "cell_type": "code",
   "execution_count": null,
   "metadata": {},
   "outputs": [],
   "source": [
    "a=\"onetwothree\"\n",
    "b={\"one\":1,\"two\":2,\"three\":3}\n",
    "c=\"\"\n",
    "d=b.keys()\n",
    "e=list(d)\n",
    "for i in a:\n",
    "    c+=i\n",
    "    if c in e:\n",
    "        print(b[c])\n",
    "        c=\"\""
   ]
  },
  {
   "cell_type": "code",
   "execution_count": 54,
   "metadata": {},
   "outputs": [
    {
     "name": "stdout",
     "output_type": "stream",
     "text": [
      "1 2 3 10 8 5 "
     ]
    }
   ],
   "source": [
    "def heh():\n",
    "    a=\"onetwothreeteneightfive\"\n",
    "    b={\"one\":1,\"two\":2,\"three\":3,\"four\":4,\"five\":5,\"six\":6,\"seven\":7,\"eight\":8,\"nine\":9,\"ten\":10}\n",
    "    c=\"\"\n",
    "    d=b.keys()\n",
    "    e=list(d)\n",
    "    for i in a:\n",
    "        c+=i\n",
    "        if c in e:\n",
    "            print(b[c],end=\" \")\n",
    "            c=\"\"\n",
    "heh()\n"
   ]
  },
  {
   "cell_type": "code",
   "execution_count": 65,
   "metadata": {},
   "outputs": [
    {
     "name": "stdout",
     "output_type": "stream",
     "text": [
      "1 2 3 10 8 5 "
     ]
    }
   ],
   "source": [
    "a=\"one two three ten eight five\"\n",
    "b={\"one\":1,\"two\":2,\"three\":3,\"four\":4,\"five\":5,\"six\":6,\"seven\":7,\"eight\":8,\"nine\":9,\"ten\":10}\n",
    "z=a.split()\n",
    "d=b.keys()\n",
    "e=list(d)\n",
    "for i in z:\n",
    "    if i in e:\n",
    "        print(b[i],end=\" \")\n",
    "    \n",
    "    "
   ]
  },
  {
   "cell_type": "code",
   "execution_count": 78,
   "metadata": {},
   "outputs": [
    {
     "name": "stdout",
     "output_type": "stream",
     "text": [
      "one two three four five "
     ]
    }
   ],
   "source": [
    "a=\"1 2 3 4 5\"\n",
    "b={'1': 'one', '2': 'two', '3': 'three', '4': 'four', '5': 'five', '6': 'six', '7': 'seven', '8': 'eight', '9': 'nine', '10': 'ten'}\n",
    "d=b.keys()\n",
    "e=list(d)\n",
    "for i in z:\n",
    "    if i in e:\n",
    "        print(b[i],end=\" \")\n",
    "    \n",
    "    \n",
    "    "
   ]
  },
  {
   "cell_type": "code",
   "execution_count": 1,
   "metadata": {},
   "outputs": [
    {
     "ename": "NameError",
     "evalue": "name 'z' is not defined",
     "output_type": "error",
     "traceback": [
      "\u001b[1;31m---------------------------------------------------------------------------\u001b[0m",
      "\u001b[1;31mNameError\u001b[0m                                 Traceback (most recent call last)",
      "Cell \u001b[1;32mIn[1], line 5\u001b[0m\n\u001b[0;32m      3\u001b[0m d\u001b[38;5;241m=\u001b[39mb\u001b[38;5;241m.\u001b[39mkeys()\n\u001b[0;32m      4\u001b[0m e\u001b[38;5;241m=\u001b[39m\u001b[38;5;28mlist\u001b[39m(d)\n\u001b[1;32m----> 5\u001b[0m \u001b[38;5;28;01mfor\u001b[39;00m i \u001b[38;5;129;01min\u001b[39;00m \u001b[43mz\u001b[49m:\n\u001b[0;32m      6\u001b[0m     \u001b[38;5;28msum\u001b[39m\u001b[38;5;241m+\u001b[39m\u001b[38;5;241m=\u001b[39m\u001b[38;5;28mint\u001b[39m(i)\n\u001b[0;32m      7\u001b[0m     \u001b[38;5;66;03m# if i in e:\u001b[39;00m\n\u001b[0;32m      8\u001b[0m     \u001b[38;5;66;03m#     print(b[i],end=\" \")\u001b[39;00m\n",
      "\u001b[1;31mNameError\u001b[0m: name 'z' is not defined"
     ]
    }
   ],
   "source": [
    "a=\"1 2 3 4 5\"\n",
    "b={'1': 'one', '2': 'two', '3': 'three', '4': 'four', '5': 'five', '6': 'six', '7': 'seven', '8': 'eight', '9': 'nine', '10': 'ten','0':'zero'}\n",
    "d=b.keys()\n",
    "e=list(d)\n",
    "for i in z:\n",
    "    sum+=int(i)\n",
    "    # if i in e:\n",
    "    #     print(b[i],end=\" \")\n",
    "    for j in str(sum):\n",
    "        print(j)\n",
    "        if j in e:\n",
    "            print(b[j],end=\" \")\n",
    "\n",
    "\n",
    "    \n",
    "    \n",
    "    "
   ]
  },
  {
   "cell_type": "code",
   "execution_count": null,
   "metadata": {},
   "outputs": [],
   "source": []
  }
 ],
 "metadata": {
  "kernelspec": {
   "display_name": "Python 3",
   "language": "python",
   "name": "python3"
  },
  "language_info": {
   "codemirror_mode": {
    "name": "ipython",
    "version": 3
   },
   "file_extension": ".py",
   "mimetype": "text/x-python",
   "name": "python",
   "nbconvert_exporter": "python",
   "pygments_lexer": "ipython3",
   "version": "3.11.1"
  }
 },
 "nbformat": 4,
 "nbformat_minor": 2
}
