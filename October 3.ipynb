{
 "cells": [
  {
   "cell_type": "code",
   "execution_count": 3,
   "metadata": {},
   "outputs": [
    {
     "name": "stdout",
     "output_type": "stream",
     "text": [
      "S\n",
      "a\n",
      "t\n",
      "y\n",
      "a\n",
      "m\n"
     ]
    }
   ],
   "source": [
    "#\n",
    "for i in \"Satyam\":\n",
    "    for j in i:\n",
    "        print(j)"
   ]
  },
  {
   "cell_type": "code",
   "execution_count": 47,
   "metadata": {},
   "outputs": [
    {
     "name": "stdout",
     "output_type": "stream",
     "text": [
      "['vimal', 'pan', 'masala']\n",
      "{'vimal': ['', 5], 'pan': ['', 3], 'masala': ['', 6]}\n"
     ]
    }
   ],
   "source": [
    "#WAP to get the following output\n",
    "a=\"vimal pan masala\"\n",
    "z={}\n",
    "b=a.split()\n",
    "print(b)\n",
    "#length of odd consonanats\n",
    "#length is even vowels\n",
    "for i in b:\n",
    "    eve=''\n",
    "    evj=''\n",
    "    count=0\n",
    "    for j in i:\n",
    "        evj+=j\n",
    "        count+=1\n",
    "    if count%2==0:\n",
    "        if evj in 'aeiouAEIOU':\n",
    "            eve+=evj\n",
    "    else:\n",
    "        if not eve in 'aeiouAEIOU':\n",
    "            eve+=''\n",
    "    z[i]=[eve,count]\n",
    "print(z)\n",
    "        \n",
    "        "
   ]
  },
  {
   "cell_type": "code",
   "execution_count": 48,
   "metadata": {},
   "outputs": [
    {
     "name": "stdout",
     "output_type": "stream",
     "text": [
      "{'vimal': ['ia', 2], 'pan': ['a', 1], 'masala': ['msl', 3]}\n"
     ]
    }
   ],
   "source": [
    "#WAP to get the following output\n",
    "a=\"vimal pan masala\"\n",
    "out={}\n",
    "x=a.split()\n",
    "\n",
    "#length of odd consonanats\n",
    "#length is even vowels\n",
    "for i in x:\n",
    "    if len(i)%2==0:\n",
    "        con=''\n",
    "        for j in i:\n",
    "            if 'A'<=j<='Z' or 'a'<=j<='z':\n",
    "                if j not in \"aeiouAEIOU\":\n",
    "                    con+=j\n",
    "        out[i]=[con,len(con)]\n",
    "    else:\n",
    "        vow=''\n",
    "        for j in i:\n",
    "            if j in 'aeiouAEIOU':\n",
    "                vow+=j\n",
    "        out[i]=[vow,len(vow)]\n",
    "print(out)\n",
    "        "
   ]
  },
  {
   "cell_type": "code",
   "execution_count": 49,
   "metadata": {},
   "outputs": [
    {
     "name": "stdout",
     "output_type": "stream",
     "text": [
      "1\n",
      "2\n",
      "3\n",
      "4\n",
      "5\n",
      "1\n",
      "2\n",
      "3\n",
      "1\n",
      "2\n",
      "3\n",
      "4\n",
      "5\n",
      "6\n"
     ]
    }
   ],
   "source": [
    "#WAP to get the following output\n",
    "a=\"vimal pan masala\"\n",
    "out={}\n",
    "x=a.split()\n",
    "\n",
    "#length of odd consonanats\n",
    "#length is even vowels\n",
    "for i in x:\n",
    "    vov=''\n",
    "    con=''\n",
    "    eve=''\n",
    "    count=0\n",
    "    for j in i:\n",
    "        count+=1\n",
    "        print(count)\n",
    "    \n",
    "\n",
    "        "
   ]
  },
  {
   "cell_type": "code",
   "execution_count": 80,
   "metadata": {},
   "outputs": [
    {
     "name": "stdout",
     "output_type": "stream",
     "text": [
      "a1 b4 c1 d1 e1 r2 t2 i2 j2 o1 f2 \n"
     ]
    }
   ],
   "source": [
    "#WAP to write number of characters \n",
    "#output in dictionary\n",
    "a='abbcderttijijobbrff'\n",
    "b=''\n",
    "# count=0\n",
    "for i in a:\n",
    "    if i not in b:\n",
    "        count=0\n",
    "        for j in a:\n",
    "            if i == j:\n",
    "                count+=1\n",
    "        b+=i+str(count)+\" \"\n",
    "print(b)"
   ]
  },
  {
   "cell_type": "code",
   "execution_count": 3,
   "metadata": {},
   "outputs": [
    {
     "name": "stdout",
     "output_type": "stream",
     "text": [
      "a3 b2 c1 a2 c2 b3 \n"
     ]
    }
   ],
   "source": [
    "a='aaabbcaaccbbb'\n",
    "count=1\n",
    "b=''\n",
    "for i in range(0,len(a)-1):\n",
    "    if a[i] == a[i+1]:\n",
    "        count+=1\n",
    "    else:\n",
    "        b+=a[i]+str(count)+\" \"\n",
    "        count=1\n",
    "b+=a[-1]+str(count)+\" \"\n",
    "print(b)"
   ]
  },
  {
   "cell_type": "code",
   "execution_count": null,
   "metadata": {},
   "outputs": [],
   "source": [
    "#even andre factorial \n",
    "a=[4,3,\"yenri media\",\"navratri\",6]\n",
    "c=1\n",
    "for i in a:\n",
    "    if type(i)==int:\n",
    "        if i%2==0:\n",
    "            for j in range(0,i+1):\n",
    "                c=i%j"
   ]
  },
  {
   "cell_type": "code",
   "execution_count": null,
   "metadata": {},
   "outputs": [],
   "source": []
  }
 ],
 "metadata": {
  "kernelspec": {
   "display_name": "Python 3",
   "language": "python",
   "name": "python3"
  },
  "language_info": {
   "codemirror_mode": {
    "name": "ipython",
    "version": 3
   },
   "file_extension": ".py",
   "mimetype": "text/x-python",
   "name": "python",
   "nbconvert_exporter": "python",
   "pygments_lexer": "ipython3",
   "version": "3.11.1"
  }
 },
 "nbformat": 4,
 "nbformat_minor": 2
}
