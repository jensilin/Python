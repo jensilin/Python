{
 "cells": [
  {
   "cell_type": "code",
   "execution_count": 15,
   "metadata": {},
   "outputs": [
    {
     "name": "stdout",
     "output_type": "stream",
     "text": [
      "56\n"
     ]
    }
   ],
   "source": [
    "#Consider a string collection and print the resvered string if the first character is a digit, \n",
    "# if the first character is uppercase print the reversed asci valur of tht character\n",
    "#if it is a special character print the conacatinated output of first and last character \n",
    "#if not print the last character of a string\n",
    "\n",
    "a=input(\"Enter the String \")\n",
    "# b=str(ord(a[0]))\n",
    "\n",
    "if '0'<=a[0]<='9':\n",
    "    print(a,a[::-1])\n",
    "elif 'A'<=a[0]<='Z':\n",
    "    # b=str(ord(a[0]))\n",
    "    print(str(ord(a[0]))[::-1])\n",
    "elif  not('a'<=a<='z'):\n",
    "    print(a,a[0]+a[-1])\n",
    "else:\n",
    "    print(a,a[-1])"
   ]
  },
  {
   "cell_type": "code",
   "execution_count": 29,
   "metadata": {},
   "outputs": [
    {
     "name": "stdout",
     "output_type": "stream",
     "text": [
      "Yeno sisya Juice kuditiya \n"
     ]
    }
   ],
   "source": [
    "#WAP to print 'yeno sisya' if the number is divisible by 5 , print 'juice kuditiya' if the number is divisible by 4,\n",
    "# print 'yeno sisya' 'juice kuditiya' if the number is divisible by both 5 and 4\n",
    "a=int(input(\"Enter the number \"))\n",
    "if a%4==0 and a%5==0:\n",
    "    print(\"Yeno sisya\",\"Juice kuditiya \")\n",
    "elif a%5==0:\n",
    "    print('yeno sisya ')\n",
    "elif a%4==0:\n",
    "    print(\"Juice kuditiya \")\n"
   ]
  },
  {
   "cell_type": "code",
   "execution_count": 34,
   "metadata": {},
   "outputs": [
    {
     "name": "stdout",
     "output_type": "stream",
     "text": [
      "54 545 78 It is greater 545\n"
     ]
    }
   ],
   "source": [
    "#WAP to find the greatest of three unique integer number \n",
    "a=int(input(\"Enter the first number \"))\n",
    "b=int(input(\"Enter the second number \"))\n",
    "c=int(input(\"Enter the third number \"))\n",
    "\n",
    "if a>b and a>c:\n",
    "    print(a,b,c,\"It is greater\",a)\n",
    "elif b>a and b>c:\n",
    "    print(a,b,c,\"It is greater\",b)\n",
    "elif c>b and c>a:\n",
    "    print(a,b,c,\"It is greater\",c)"
   ]
  },
  {
   "cell_type": "code",
   "execution_count": 45,
   "metadata": {},
   "outputs": [
    {
     "name": "stdout",
     "output_type": "stream",
     "text": [
      "QWERTY WRY\n"
     ]
    }
   ],
   "source": [
    "#WAP to print the string as it is .............  if it is palindrome,\n",
    "#print the characters present at even index if the length of string is odd,\n",
    "#print the character present at odd index if the length is even\n",
    "a=input(\"Enter the string  \")\n",
    "if a[::-1] in a:\n",
    "    print(a)\n",
    "elif len(a)%2==1:\n",
    "    print(a,a[::2])\n",
    "elif len(a)%2==0:\n",
    "    print(a,a[1::2])"
   ]
  },
  {
   "cell_type": "code",
   "execution_count": null,
   "metadata": {},
   "outputs": [],
   "source": []
  }
 ],
 "metadata": {
  "kernelspec": {
   "display_name": "Python 3",
   "language": "python",
   "name": "python3"
  },
  "language_info": {
   "codemirror_mode": {
    "name": "ipython",
    "version": 3
   },
   "file_extension": ".py",
   "mimetype": "text/x-python",
   "name": "python",
   "nbconvert_exporter": "python",
   "pygments_lexer": "ipython3",
   "version": "3.11.1"
  }
 },
 "nbformat": 4,
 "nbformat_minor": 2
}
