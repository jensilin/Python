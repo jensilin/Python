{
 "cells": [
  {
   "cell_type": "code",
   "execution_count": 8,
   "metadata": {},
   "outputs": [
    {
     "name": "stdout",
     "output_type": "stream",
     "text": [
      "0 0\n",
      "0 1\n",
      "0 2\n",
      "0 3\n",
      "0 4\n",
      "0 5\n",
      "1 0\n",
      "1 1\n",
      "1 2\n",
      "1 3\n",
      "1 4\n",
      "1 5\n",
      "2 0\n",
      "2 1\n",
      "2 2\n",
      "2 3\n",
      "2 4\n",
      "2 5\n"
     ]
    }
   ],
   "source": [
    "#Nested for loop\n",
    "for i in range(3):\n",
    "    for j in range(6):\n",
    "        print(i,j)"
   ]
  },
  {
   "cell_type": "code",
   "execution_count": 17,
   "metadata": {},
   "outputs": [
    {
     "name": "stdout",
     "output_type": "stream",
     "text": [
      "1 11 30\n",
      "1 11 40\n",
      "1 17 30\n",
      "1 17 40\n",
      "1 23 30\n",
      "1 23 40\n",
      "4 11 30\n",
      "4 11 40\n",
      "4 17 30\n",
      "4 17 40\n",
      "4 23 30\n",
      "4 23 40\n"
     ]
    }
   ],
   "source": [
    "for i in range(1,6,3):\n",
    "    for j in range(11,25,6):\n",
    "        for k in range(30,50,10):\n",
    "            print(i,j,k)"
   ]
  },
  {
   "cell_type": "code",
   "execution_count": 23,
   "metadata": {},
   "outputs": [
    {
     "name": "stdout",
     "output_type": "stream",
     "text": [
      "{'kannadave': 4, 'sathya': 2, 'kanndavuu': 4, 'nithya': 2}\n"
     ]
    }
   ],
   "source": [
    "#a=\"kannadave sathya kanndavuu nithya\"\n",
    "a=\"kannadave sathya kanndavuu nithya\"\n",
    "c=a.split()\n",
    "b={}\n",
    "for i in c:\n",
    "    count=0\n",
    "    for j in i:\n",
    "        if j in 'aeiouAEIOU':\n",
    "            count+=1\n",
    "    b[i]=count\n",
    "print(b)"
   ]
  },
  {
   "cell_type": "code",
   "execution_count": 27,
   "metadata": {},
   "outputs": [
    {
     "name": "stdout",
     "output_type": "stream",
     "text": [
      "{'kannadave': 9, 'sathya': 6, 'kanndavuu': 9, 'nithya': 6}\n"
     ]
    }
   ],
   "source": [
    "#WAP\n",
    "#a=\"kannadave sathya kanndavuu nithya\"\n",
    "a=\"kannadave sathya kanndavuu nithya\"\n",
    "c=a.split()\n",
    "b={}\n",
    "for i in c:\n",
    "    count=0\n",
    "    for j in i:\n",
    "        count+=1\n",
    "    b[i]=count\n",
    "print(b)"
   ]
  },
  {
   "cell_type": "code",
   "execution_count": 68,
   "metadata": {},
   "outputs": [
    {
     "name": "stdout",
     "output_type": "stream",
     "text": [
      "[1, 'yhtgfds', 'ytgrfeds', 1, 3]\n"
     ]
    }
   ],
   "source": [
    "#int print 1\n",
    "#str and palindrome print length\n",
    "#str and non palindrome reversed string\n",
    "a=[120,\"sdfgthy\",\"sdefrgty\",541,\"mom\"]\n",
    "out=[]\n",
    "for i in a:\n",
    "    c,d='',0\n",
    "    if type(i)==int:\n",
    "        out+=[1]\n",
    "    if type(i)==str:\n",
    "        for j in i:\n",
    "            c=j+c\n",
    "            d+=1\n",
    "        if c==i:\n",
    "            out+=[d]\n",
    "        else:\n",
    "            out+=[c]\n",
    "print(out)"
   ]
  },
  {
   "cell_type": "code",
   "execution_count": 84,
   "metadata": {},
   "outputs": [
    {
     "name": "stdout",
     "output_type": "stream",
     "text": [
      "[321, 'madve ota', 544, 92.7, (3+2j), 213]\n"
     ]
    }
   ],
   "source": [
    "a=[123,'madve ota',445,92.7,3+2j,312]\n",
    "b=[]\n",
    "for i in a:\n",
    "    rev=0\n",
    "    if type(i)==int:\n",
    "        while i!=0:\n",
    "            ld=i%10\n",
    "            rev=rev*10+ld\n",
    "            i=i//10\n",
    "        b+=[rev]\n",
    "    else:\n",
    "        b+=[i]\n",
    "print(b)"
   ]
  },
  {
   "cell_type": "code",
   "execution_count": null,
   "metadata": {},
   "outputs": [],
   "source": []
  }
 ],
 "metadata": {
  "kernelspec": {
   "display_name": "Python 3",
   "language": "python",
   "name": "python3"
  },
  "language_info": {
   "codemirror_mode": {
    "name": "ipython",
    "version": 3
   },
   "file_extension": ".py",
   "mimetype": "text/x-python",
   "name": "python",
   "nbconvert_exporter": "python",
   "pygments_lexer": "ipython3",
   "version": "3.11.1"
  }
 },
 "nbformat": 4,
 "nbformat_minor": 2
}
