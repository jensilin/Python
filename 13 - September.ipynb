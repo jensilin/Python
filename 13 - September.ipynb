{
 "cells": [
  {
   "cell_type": "code",
   "execution_count": 9,
   "metadata": {},
   "outputs": [
    {
     "name": "stdout",
     "output_type": "stream",
     "text": [
      "ord is even\n"
     ]
    }
   ],
   "source": [
    "#WAP to print the first character of a string only if it is even digit , having asci value odd and greater than > 50\n",
    "a=input(\"Enter the string \")                      \n",
    "if int(a[0])%2==0:                          \n",
    "    if ord(a[0])%2!=0:\n",
    "        if ord(a[0])>50:\n",
    "            print(a[0])\n",
    "        else:\n",
    "            print(\"ord is less than 50\")\n",
    "    else:\n",
    "        print(\"ord is even\")\n",
    "else:\n",
    "    print(\"first character is odd\")"
   ]
  },
  {
   "cell_type": "code",
   "execution_count": 10,
   "metadata": {},
   "outputs": [
    {
     "name": "stdout",
     "output_type": "stream",
     "text": [
      "first character is  5\n"
     ]
    }
   ],
   "source": [
    "#WAP to print the first character of a string only if it is even digit , having asci value odd and greater than > 50\n",
    "a=input(\"Enter the string \")                      \n",
    "if '0'<=a<='9' and int(a[0])%2==0:                         \n",
    "    if ord(a[0])%2!=0:\n",
    "        if ord(a[0])>50:\n",
    "            print(a[0])\n",
    "        else:\n",
    "            print(\"ord is less than 50\")\n",
    "    else:\n",
    "        print(\"ord is even\")\n",
    "else:\n",
    "    print(\"first character is \",a[0])"
   ]
  },
  {
   "cell_type": "code",
   "execution_count": 11,
   "metadata": {},
   "outputs": [
    {
     "name": "stdout",
     "output_type": "stream",
     "text": [
      "1\n",
      "2\n",
      "3\n",
      "4\n",
      "5\n"
     ]
    }
   ],
   "source": [
    "#While loop example\n",
    "\n",
    "i = 1\n",
    "while i<=5:\n",
    "    print(i)\n",
    "    i+=1"
   ]
  },
  {
   "cell_type": "code",
   "execution_count": 1,
   "metadata": {},
   "outputs": [
    {
     "name": "stdout",
     "output_type": "stream",
     "text": [
      "CSK\n",
      "CSK\n",
      "CSK\n",
      "CSK\n",
      "CSK\n",
      "CSK\n",
      "CSK\n",
      "CSK\n",
      "CSK\n",
      "CSK\n"
     ]
    }
   ],
   "source": [
    "#WAP to print \"CSK\" 10 times\n",
    "\n",
    "i = 1\n",
    "while i<=10:\n",
    "    print(\"CSK\")\n",
    "    i+=1\n",
    "    "
   ]
  },
  {
   "cell_type": "code",
   "execution_count": 19,
   "metadata": {},
   "outputs": [
    {
     "name": "stdout",
     "output_type": "stream",
     "text": [
      "30\n",
      "32\n",
      "34\n",
      "36\n",
      "38\n",
      "40\n",
      "42\n",
      "44\n",
      "46\n",
      "48\n",
      "50\n",
      "52\n",
      "54\n",
      "56\n",
      "58\n",
      "60\n"
     ]
    }
   ],
   "source": [
    "#WAP to print all the even number between 30 to 60\n",
    "i =30\n",
    "while i<=60:\n",
    "    if i%2==0:\n",
    "        print(i)\n",
    "    i+=1"
   ]
  },
  {
   "cell_type": "code",
   "execution_count": 20,
   "metadata": {},
   "outputs": [
    {
     "name": "stdout",
     "output_type": "stream",
     "text": [
      "30\n",
      "32\n",
      "34\n",
      "36\n",
      "38\n",
      "40\n",
      "42\n",
      "44\n",
      "46\n",
      "48\n",
      "50\n",
      "52\n",
      "54\n",
      "56\n",
      "58\n",
      "60\n"
     ]
    }
   ],
   "source": [
    "#WAP to print all the even number between 30 to 60\n",
    "i =30\n",
    "while i<=60:\n",
    "    print(i)\n",
    "    i+=2"
   ]
  },
  {
   "cell_type": "code",
   "execution_count": 2,
   "metadata": {},
   "outputs": [
    {
     "name": "stdout",
     "output_type": "stream",
     "text": [
      "6\n"
     ]
    }
   ],
   "source": [
    "#WAP to find sum of n natural number \n",
    "n = int(input(\"Enter the integer \"))\n",
    "i=0\n",
    "sum=0\n",
    "while i<n:\n",
    "    sum+=i\n",
    "    i=i+1\n",
    "print(sum)"
   ]
  },
  {
   "cell_type": "code",
   "execution_count": null,
   "metadata": {},
   "outputs": [],
   "source": []
  }
 ],
 "metadata": {
  "kernelspec": {
   "display_name": "Python 3",
   "language": "python",
   "name": "python3"
  },
  "language_info": {
   "codemirror_mode": {
    "name": "ipython",
    "version": 3
   },
   "file_extension": ".py",
   "mimetype": "text/x-python",
   "name": "python",
   "nbconvert_exporter": "python",
   "pygments_lexer": "ipython3",
   "version": "3.11.1"
  }
 },
 "nbformat": 4,
 "nbformat_minor": 2
}
