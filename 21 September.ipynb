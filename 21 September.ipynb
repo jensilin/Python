{
 "cells": [
  {
   "cell_type": "code",
   "execution_count": 14,
   "metadata": {},
   "outputs": [
    {
     "name": "stdout",
     "output_type": "stream",
     "text": [
      "0\n",
      "1\n",
      "1\n",
      "2\n",
      "3\n"
     ]
    }
   ],
   "source": [
    "#WAP to print nth fibonacci series \n",
    "a=5\n",
    "i=0\n",
    "n1=0\n",
    "n2=1\n",
    "while i<a:\n",
    "    print(n1)\n",
    "    n=n1+n2\n",
    "    n1=n2\n",
    "    n2=n\n",
    "    i+=1"
   ]
  },
  {
   "cell_type": "code",
   "execution_count": 25,
   "metadata": {},
   "outputs": [
    {
     "name": "stdout",
     "output_type": "stream",
     "text": [
      "3\n"
     ]
    }
   ],
   "source": [
    "#WAP to count the number of occurences of a particular character in a string collection\n",
    "a=\"ASAADD\"\n",
    "# a=input(\"Enter the input \")\n",
    "i=0\n",
    "se=input(\"Enter the search element \")\n",
    "# se='A'\n",
    "count=0\n",
    "while i<len(a):\n",
    "    if a[i]==se:\n",
    "        count+=1\n",
    "    i+=1\n",
    "print(count)\n"
   ]
  },
  {
   "cell_type": "code",
   "execution_count": 1,
   "metadata": {},
   "outputs": [
    {
     "name": "stdout",
     "output_type": "stream",
     "text": [
      "!!Qwrtr\n"
     ]
    }
   ],
   "source": [
    "#WAP to program replace space by '!'\n",
    "a='  Qwrtr'\n",
    "#a=input(\"enter\")\n",
    "b=''\n",
    "i=0\n",
    "while i<len(a):\n",
    "    if a[i]==' ':\n",
    "        b=b+'!'\n",
    "    else:\n",
    "        b+=a[i]\n",
    "    i+=1\n",
    "print(b)"
   ]
  },
  {
   "cell_type": "code",
   "execution_count": 5,
   "metadata": {},
   "outputs": [
    {
     "name": "stdout",
     "output_type": "stream",
     "text": [
      "123"
     ]
    }
   ],
   "source": [
    "#WAP to \n",
    "a=3\n",
    "for i in range(1,a+1):\n",
    "    print(i,end=\"\")\n"
   ]
  },
  {
   "cell_type": "code",
   "execution_count": 23,
   "metadata": {},
   "outputs": [
    {
     "name": "stdout",
     "output_type": "stream",
     "text": [
      "465\n"
     ]
    }
   ],
   "source": [
    "a=\"saak manege bidoo\"\n",
    "b=a.split()\n",
    "c=\"\"\n",
    "for i in b:\n",
    "    c+=str(len(i))\n",
    "print(c)\n"
   ]
  },
  {
   "cell_type": "markdown",
   "metadata": {},
   "source": []
  }
 ],
 "metadata": {
  "kernelspec": {
   "display_name": "Python 3",
   "language": "python",
   "name": "python3"
  },
  "language_info": {
   "codemirror_mode": {
    "name": "ipython",
    "version": 3
   },
   "file_extension": ".py",
   "mimetype": "text/x-python",
   "name": "python",
   "nbconvert_exporter": "python",
   "pygments_lexer": "ipython3",
   "version": "3.11.1"
  }
 },
 "nbformat": 4,
 "nbformat_minor": 2
}
