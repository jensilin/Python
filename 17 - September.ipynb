{
 "cells": [
  {
   "cell_type": "code",
   "execution_count": 11,
   "metadata": {},
   "outputs": [
    {
     "name": "stdout",
     "output_type": "stream",
     "text": [
      "0.8 2.34 3.45 "
     ]
    }
   ],
   "source": [
    "#to extract all the floating values in the list collection\n",
    "a=[1,2,0.8,34,2.34,3.45]\n",
    "i=0\n",
    "\n",
    "while i<len(a):\n",
    "    if type(a[i])==float:\n",
    "        print(a[i],end=' ')\n",
    "    i+=1"
   ]
  },
  {
   "cell_type": "code",
   "execution_count": 12,
   "metadata": {},
   "outputs": [
    {
     "name": "stdout",
     "output_type": "stream",
     "text": [
      "[0.8, 2.34, 3.45]\n"
     ]
    }
   ],
   "source": [
    "#a=[1,2,0.8,34,2.34,3.45]\n",
    "a=eval(input(\"Enter the list \"))\n",
    "i=0\n",
    "b=[]\n",
    "while i<len(a):\n",
    "    if type(a[i])==float:\n",
    "        b.append(a[i])\n",
    "        #b+=[a[i]]\n",
    "    i+=1\n",
    "print(b)"
   ]
  },
  {
   "cell_type": "code",
   "execution_count": 15,
   "metadata": {},
   "outputs": [
    {
     "name": "stdout",
     "output_type": "stream",
     "text": [
      "5 * 1 = 5\n",
      "5 * 2 = 10\n",
      "5 * 3 = 15\n",
      "5 * 4 = 20\n",
      "5 * 5 = 25\n",
      "5 * 6 = 30\n",
      "5 * 7 = 35\n",
      "5 * 8 = 40\n",
      "5 * 9 = 45\n",
      "5 * 10 = 50\n"
     ]
    }
   ],
   "source": [
    "#WAP to print nth multiplication table\n",
    "a=int(input(\"Enter the num \"))\n",
    "i=1\n",
    "while i<11:\n",
    "    c=a*i\n",
    "    print(a,\"*\",i,\"=\",c)\n",
    "    i+=1\n"
   ]
  },
  {
   "cell_type": "code",
   "execution_count": 3,
   "metadata": {},
   "outputs": [],
   "source": [
    "#WAP to extract all the palindrome strings present in a list collection\n",
    "#WAP to check the string is palindrome or not without slicing\n",
    "#a=eval(input(\"Enter\"))\n",
    "a=[\"MOM\",\"DAD\",\"qwert\",\"MADAM\",65,56]\n",
    "b=[]\n",
    "i=0\n",
    "while i<len(a):\n",
    "    if type(a[i])==str:\n",
    "        if a[i]==a[i][::-1]:\n",
    "            b.append(a[i])\n",
    "            #print(a[i])\n",
    "        i+=1\n",
    "print(b)"
   ]
  },
  {
   "cell_type": "code",
   "execution_count": 27,
   "metadata": {},
   "outputs": [
    {
     "name": "stdout",
     "output_type": "stream",
     "text": [
      "['MOM', 'DAD', 'MADAM']\n"
     ]
    }
   ],
   "source": [
    "a=[\"MOM\",\"DAD\",\"qwert\",\"MADAM\"]\n",
    "b=[]\n",
    "i=0\n",
    "if type(a)==list:\n",
    "    while i<len(a):\n",
    "        if a[i]==a[i][::-1]:\n",
    "            b.append(a[i])\n",
    "        #print(a[i])\n",
    "        i+=1\n",
    "print(b)"
   ]
  },
  {
   "cell_type": "code",
   "execution_count": 9,
   "metadata": {},
   "outputs": [
    {
     "name": "stdout",
     "output_type": "stream",
     "text": [
      "Upper Case: QDKUHWUK Lower case: jghrskufhrku Numbers: 123333 Special Charcaters: @#$$%\n"
     ]
    }
   ],
   "source": [
    "#WAP to extract all the uppercase, lowercase, digits and special characters into 4 different output \n",
    "# collection present in a string collection\n",
    "\n",
    "st =input(\"Enter the string \")\n",
    "a=''\n",
    "b=''\n",
    "c=''\n",
    "d=''\n",
    "i=0\n",
    "while i < len(st):\n",
    "    if 'A'<=st[i]<='Z':\n",
    "        a+=st[i]\n",
    "    elif 'a'<=st[i]<='z':\n",
    "        b=b+st[i]\n",
    "    elif '0'<=st[i]<='9':\n",
    "        c=c+st[i]\n",
    "    else:\n",
    "        d=d+st[i]\n",
    "    i+=1\n",
    "print(f\"Upper Case: {a} Lower case: {b} Numbers: {c} Special Charcaters: {d}\")"
   ]
  },
  {
   "cell_type": "code",
   "execution_count": 7,
   "metadata": {},
   "outputs": [
    {
     "data": {
      "text/plain": [
       "True"
      ]
     },
     "execution_count": 7,
     "metadata": {},
     "output_type": "execute_result"
    }
   ],
   "source": [
    "a='YADAL'\n",
    "a[0]==a[0][::-1]"
   ]
  },
  {
   "cell_type": "code",
   "execution_count": 8,
   "metadata": {},
   "outputs": [
    {
     "data": {
      "text/plain": [
       "'Y'"
      ]
     },
     "execution_count": 8,
     "metadata": {},
     "output_type": "execute_result"
    }
   ],
   "source": [
    "a[0][::-1]"
   ]
  },
  {
   "cell_type": "code",
   "execution_count": null,
   "metadata": {},
   "outputs": [
    {
     "name": "stdout",
     "output_type": "stream",
     "text": [
      "['MADAM', 'MALAYALAM', '101']\n",
      "['LUFFY', 'ZORO']\n",
      "Palindrome is greater than Non Palindrome\n"
     ]
    }
   ],
   "source": [
    "#First input will be string inside list string palindrome mate non palindrome agirbeku \n",
    "#We have to extract it saperately\n",
    "#We have to print first value if the len of non- palindromestr is greater than palindrome str \n",
    "#It's palindrome str len is greater than non- palindrome then print the first value[0] of the palindrome str\n",
    "\n",
    "#a=eval(input(\"Enter the list\"))\n",
    "a=[\"MADAM\",\"MALAYALAM\",\"LUFFY\",\"ZORO\",\"101\"]\n",
    "palin=[]\n",
    "np=[]\n",
    "i=0\n",
    "while i<len(a):\n",
    "    if a[i]==a[i][::-1]:\n",
    "        palin+=[a[i]]\n",
    "    else:\n",
    "        np+=[a[i]]\n",
    "    i+=1\n",
    "print(palin)\n",
    "print(np)\n",
    "\n",
    "if len(np)>len(palin):\n",
    "    print(\"Non Palindrome is greater than Palindrome\",p[0])\n",
    "elif len(np)==len(palin):\n",
    "    print(\"Palindrome and Non Palindrome are equal\")\n",
    "else:\n",
    "    print(\"Palindrome is greater than Non Palindrome\")"
   ]
  },
  {
   "cell_type": "code",
   "execution_count": 31,
   "metadata": {},
   "outputs": [
    {
     "name": "stdout",
     "output_type": "stream",
     "text": [
      "['MADAM', 'MALAYALAM', '101']\n",
      "['LUFFY', 'ZORO']\n",
      "Palindrome is greater than Non Palindrome\n"
     ]
    }
   ],
   "source": [
    "a=[\"MADAM\",\"MALAYALAM\",\"LUFFY\",\"ZORO\",\"101\"]\n",
    "palin=[]\n",
    "np=[]\n",
    "i=0\n",
    "\n",
    "while i<len(a):\n",
    "    if type(a[i])==str:\n",
    "        if a[i]==a[i][::-1]:\n",
    "            palin+=[a[i]]\n",
    "        else:\n",
    "            np+=[a[i]]\n",
    "    i+=1\n",
    "print(palin)\n",
    "print(np)\n",
    "\n",
    "if len(np)>len(palin):\n",
    "    print(\"Non Palindrome is greater than Palindrome\",p[0])\n",
    "elif len(np)==len(palin):\n",
    "    print(\"Palindrome and Non Palindrome are equal\")\n",
    "else:\n",
    "    print(\"Palindrome is greater than Non Palindrome\")\n"
   ]
  },
  {
   "cell_type": "code",
   "execution_count": 5,
   "metadata": {},
   "outputs": [
    {
     "name": "stdout",
     "output_type": "stream",
     "text": [
      "['MADAM', 'MALAYALAM', '101']\n",
      "['LUFFY', 'ZORO']\n",
      "The length of palindrome of each element  17\n",
      "The non palindrome length of each element is 9\n",
      "Palindrome is greater than Non Palindrome\n"
     ]
    }
   ],
   "source": [
    "a=[\"MADAM\",\"MALAYALAM\",\"LUFFY\",\"ZORO\",\"101\"]\n",
    "palin=[]\n",
    "np=[]\n",
    "i=0\n",
    "\n",
    "while i<len(a):\n",
    "    if type(a[i])==str:\n",
    "        if a[i]==a[i][::-1]:\n",
    "            palin+=[a[i]]\n",
    "        else:\n",
    "            np+=[a[i]]\n",
    "    i+=1\n",
    "print(palin)\n",
    "print(np)\n",
    "\n",
    "j=0\n",
    "c=0\n",
    "while j<len(palin):\n",
    "    d=len(palin[j])\n",
    "    c+=d        #c palin\n",
    "    j+=1\n",
    "print(\"The length of palindrome of each element \",c)\n",
    "\n",
    "q=0\n",
    "s=0\n",
    "while q<len(np):\n",
    "    r=len(np[q])\n",
    "    s+=r     #s np\n",
    "    q+=1\n",
    "print(\"The non palindrome length of each element is\",s)\n",
    "\n",
    "\n",
    "if s>c:\n",
    "    print(\"Non Palindrome is greater than Palindrome\",p[0])\n",
    "elif s==c:\n",
    "    print(\"Palindrome and Non Palindrome are equal\")\n",
    "else:\n",
    "    print(\"Palindrome is greater than Non Palindrome\")\n"
   ]
  },
  {
   "cell_type": "code",
   "execution_count": 3,
   "metadata": {},
   "outputs": [
    {
     "name": "stdout",
     "output_type": "stream",
     "text": [
      "frgt\n"
     ]
    }
   ],
   "source": [
    "a=\"23\"\n",
    "if int(a[0])%2==0:\n",
    "    print(\"frgt\")"
   ]
  },
  {
   "cell_type": "code",
   "execution_count": 4,
   "metadata": {},
   "outputs": [
    {
     "name": "stdout",
     "output_type": "stream",
     "text": [
      "even 24\n",
      "odd 135\n"
     ]
    }
   ],
   "source": [
    "a=\"12345\"\n",
    "b=\"\"\n",
    "c=\"\"\n",
    "i=0\n",
    "while i<len(a):\n",
    "    if int(a[i])%2==0:\n",
    "        b+=a[i]\n",
    "    else:\n",
    "        c+=a[i]\n",
    "    i+=1 \n",
    "print(\"even\",b)\n",
    "print(\"odd\",c)"
   ]
  },
  {
   "cell_type": "markdown",
   "metadata": {},
   "source": []
  }
 ],
 "metadata": {
  "kernelspec": {
   "display_name": "Python 3",
   "language": "python",
   "name": "python3"
  },
  "language_info": {
   "codemirror_mode": {
    "name": "ipython",
    "version": 3
   },
   "file_extension": ".py",
   "mimetype": "text/x-python",
   "name": "python",
   "nbconvert_exporter": "python",
   "pygments_lexer": "ipython3",
   "version": "3.11.1"
  }
 },
 "nbformat": 4,
 "nbformat_minor": 2
}
