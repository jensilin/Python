{
 "cells": [
  {
   "cell_type": "code",
   "execution_count": 4,
   "metadata": {},
   "outputs": [
    {
     "name": "stdout",
     "output_type": "stream",
     "text": [
      "Username is correct\n",
      "Login successful\n"
     ]
    }
   ],
   "source": [
    "#LOGIN Page\n",
    "a=input(\"Enter the username \")\n",
    "b=eval(input(\"Enter the password \"))\n",
    "user_name=\"hey\"\n",
    "password=12345678\n",
    "if a==user_name:\n",
    "    print(\"Username is correct\")\n",
    "else:\n",
    "    print(\"Wrong username\")\n",
    "if b==password:\n",
    "    print(\"Login successful\")\n",
    "else:\n",
    "    print(\"Unsuccessful login\")"
   ]
  },
  {
   "cell_type": "code",
   "execution_count": 4,
   "metadata": {},
   "outputs": [
    {
     "name": "stdout",
     "output_type": "stream",
     "text": [
      "Invalid username\n"
     ]
    }
   ],
   "source": [
    "user=\"qwer\"\n",
    "passw=1234\n",
    "a=input(\"Enter the username \")\n",
    "if a==user:\n",
    "    b=int(input(\"Enter the password \"))\n",
    "    if b==passw:\n",
    "        print(\"Login Successfull\")\n",
    "    else:\n",
    "        print(\"Invalid Password\")\n",
    "else:\n",
    "    print(\"Invalid username\")"
   ]
  },
  {
   "cell_type": "code",
   "execution_count": 19,
   "metadata": {},
   "outputs": [
    {
     "name": "stdout",
     "output_type": "stream",
     "text": [
      "Login Successfull\n"
     ]
    }
   ],
   "source": [
    "#Login page as data store in dictionary\n",
    "data={'jen':'1234','hey':456,'qwer':896}\n",
    "uname=input(\"Enter the username: \")\n",
    "pword=input(\"Enter the password: \")\n",
    "if uname in data:\n",
    "    if uname in data.keys():\n",
    "        if pword==data[uname]:\n",
    "            print(\"Login Successfull\")\n",
    "        else:\n",
    "            print(\"Invalid\")\n",
    "    else:\n",
    "        print(\"Invalid\")\n",
    "else:\n",
    "    print(\"Invalid\")"
   ]
  },
  {
   "cell_type": "code",
   "execution_count": null,
   "metadata": {},
   "outputs": [],
   "source": [
    "#Vowels or Consonants\n",
    "a=input(\"Enter the String \")\n",
    "if 'A'<=a<='Z' and 'a'<=a<='z':\n",
    "    if a in \"aeiouAEIOU\":\n",
    "        print(\"Vowels\")\n",
    "    else:\n",
    "        print(\"Connsonants\")\n",
    "else:\n",
    "    print(\"it is not a character\")"
   ]
  },
  {
   "cell_type": "code",
   "execution_count": 37,
   "metadata": {},
   "outputs": [
    {
     "name": "stdout",
     "output_type": "stream",
     "text": [
      "6\n"
     ]
    }
   ],
   "source": [
    "a=eval(input(\"Enter the list \"))\n",
    "if type(a)==list:\n",
    "    if a!=[]:\n",
    "        if type(a[-1])==int and len(str(a[-1]))==3:\n",
    "            if a[-1]>0:\n",
    "                print(str(a[-1])[-1])"
   ]
  },
  {
   "cell_type": "code",
   "execution_count": 32,
   "metadata": {},
   "outputs": [
    {
     "data": {
      "text/plain": [
       "True"
      ]
     },
     "execution_count": 32,
     "metadata": {},
     "output_type": "execute_result"
    }
   ],
   "source": [
    "a=[1,2,3,456]\n",
    "type(a)\n",
    "type(a[-1])\n",
    "len(str(a[-1]))==3"
   ]
  },
  {
   "cell_type": "code",
   "execution_count": null,
   "metadata": {},
   "outputs": [],
   "source": []
  }
 ],
 "metadata": {
  "kernelspec": {
   "display_name": "Python 3",
   "language": "python",
   "name": "python3"
  },
  "language_info": {
   "codemirror_mode": {
    "name": "ipython",
    "version": 3
   },
   "file_extension": ".py",
   "mimetype": "text/x-python",
   "name": "python",
   "nbconvert_exporter": "python",
   "pygments_lexer": "ipython3",
   "version": "3.11.1"
  }
 },
 "nbformat": 4,
 "nbformat_minor": 2
}
