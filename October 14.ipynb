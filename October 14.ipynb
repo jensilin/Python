{
 "cells": [
  {
   "cell_type": "code",
   "execution_count": null,
   "metadata": {},
   "outputs": [],
   "source": [
    "out=[]\n",
    "for i in range(2,101):\n",
    "    "
   ]
  },
  {
   "cell_type": "code",
   "execution_count": 2,
   "metadata": {},
   "outputs": [
    {
     "name": "stdout",
     "output_type": "stream",
     "text": [
      "aababcabcd\n"
     ]
    }
   ],
   "source": [
    "a='abcd'\n",
    "b=''\n",
    "for i in range(0,len(a)):\n",
    "    b+=a[0:i+1]\n",
    "print(b)"
   ]
  },
  {
   "cell_type": "code",
   "execution_count": 7,
   "metadata": {},
   "outputs": [
    {
     "name": "stdout",
     "output_type": "stream",
     "text": [
      "aababcabcd\n"
     ]
    }
   ],
   "source": [
    "a='abcd'\n",
    "b=''\n",
    "c=''\n",
    "for i in a:\n",
    "    b+=i\n",
    "    c+=b\n",
    "\n",
    "print(c)"
   ]
  },
  {
   "cell_type": "code",
   "execution_count": 13,
   "metadata": {},
   "outputs": [
    {
     "name": "stdout",
     "output_type": "stream",
     "text": [
      "20\n"
     ]
    }
   ],
   "source": [
    "#2nd largest element\n",
    "a=[3,20,15,82]\n",
    "b=max(a)\n",
    "a.remove(b)\n",
    "b=max(a)\n",
    "print(b)"
   ]
  },
  {
   "cell_type": "code",
   "execution_count": 29,
   "metadata": {},
   "outputs": [
    {
     "name": "stdout",
     "output_type": "stream",
     "text": [
      "82\n"
     ]
    }
   ],
   "source": [
    "def lar(a):\n",
    "    a=list(set(a))\n",
    "    lar=0\n",
    "    for i in a:\n",
    "        if i>lar:\n",
    "            lar=i\n",
    "            print(lar)\n",
    "            a.remove(lar)\n",
    "            \n",
    "        \n",
    "b=[3,20,15,82]\n",
    "lar(b)\n",
    "\n"
   ]
  },
  {
   "cell_type": "code",
   "execution_count": 33,
   "metadata": {},
   "outputs": [
    {
     "data": {
      "text/plain": [
       "'cffhirruuz'"
      ]
     },
     "execution_count": 33,
     "metadata": {},
     "output_type": "execute_result"
    }
   ],
   "source": [
    "#SORTED FUNCTION\n",
    "a='zchufruifr'\n",
    "sorted(a)\n",
    "''.join(sorted(a))\n",
    "sorted(a,reverse=True)\n"
   ]
  },
  {
   "cell_type": "code",
   "execution_count": 34,
   "metadata": {},
   "outputs": [
    {
     "data": {
      "text/plain": [
       "['sdrf', 'edrtgy', 'xcfvgbhy']"
      ]
     },
     "execution_count": 34,
     "metadata": {},
     "output_type": "execute_result"
    }
   ],
   "source": [
    "d=['sdrf','xcfvgbhy','edrtgy']\n",
    "sorted(d)\n",
    "sorted(d,key=len)\n"
   ]
  },
  {
   "cell_type": "code",
   "execution_count": 38,
   "metadata": {},
   "outputs": [
    {
     "name": "stdout",
     "output_type": "stream",
     "text": [
      "['sadfga', 'iujyhgtrfew', 'asdfgy', 'zxcvbnmnbvcxz']\n"
     ]
    }
   ],
   "source": [
    "def last_char(x):\n",
    "    return x[-1]\n",
    "d=['sadfga','asdfgy','iujyhgtrfew','zxcvbnmnbvcxz']\n",
    "res=sorted(d,key=last_char)\n",
    "print(res)"
   ]
  },
  {
   "cell_type": "code",
   "execution_count": null,
   "metadata": {},
   "outputs": [],
   "source": [
    "a = input(\"Enter a string: \")\n",
    "\n",
    "# Check if the length of the string is greater than 8 and less than or equal to 20\n",
    "if len(a) > 8 and len(a) <= 20:\n",
    "    upper = False\n",
    "    lower = False\n",
    "    number = False\n",
    "    special = False\n",
    "\n",
    "    # Iterate through each character to check for uppercase, lowercase, digit, and special characters\n",
    "    for i in a:\n",
    "        if 'A' <= i <= 'Z':\n",
    "            upper = True\n",
    "        elif 'a' <= i <= 'z':\n",
    "            lower = True\n",
    "        elif i.isdigit():  # Correct check for digits\n",
    "            number = True\n",
    "        else:\n",
    "            special = True  # Assuming everything else is a special character\n",
    "\n",
    "    # If all conditions are met, print the string\n",
    "    if upper and lower and number and special:\n",
    "        print(a)\n",
    "    else:\n",
    "        print(\"The string must contain at least one uppercase letter, one lowercase letter, one digit, and one special character.\")\n",
    "else:\n",
    "    print(\"The string length must be between 9 and 20 characters.\")\n"
   ]
  }
 ],
 "metadata": {
  "kernelspec": {
   "display_name": "Python 3",
   "language": "python",
   "name": "python3"
  },
  "language_info": {
   "codemirror_mode": {
    "name": "ipython",
    "version": 3
   },
   "file_extension": ".py",
   "mimetype": "text/x-python",
   "name": "python",
   "nbconvert_exporter": "python",
   "pygments_lexer": "ipython3",
   "version": "3.11.1"
  }
 },
 "nbformat": 4,
 "nbformat_minor": 2
}
