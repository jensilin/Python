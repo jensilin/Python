{
 "cells": [
  {
   "cell_type": "code",
   "execution_count": 2,
   "metadata": {},
   "outputs": [
    {
     "name": "stdout",
     "output_type": "stream",
     "text": [
      "Jenny Vines Lakshith Jallahalli\n",
      "Black and White Kabab Aditya\n",
      "Aditya Aditya\n",
      "Black and White Kabab Aditya Aditya\n"
     ]
    }
   ],
   "source": [
    "#Bar is the class\n",
    "class bar:\n",
    "    bar_name=\"Jenny Vines\"\n",
    "    bar_owner=\"Lakshith\"\n",
    "    no_of_tables=10\n",
    "    location=\"Jallahalli\"\n",
    "print(bar.bar_name,bar.bar_owner,bar.location)\n",
    "\n",
    "#ad is the object\n",
    "ad=bar()\n",
    "\n",
    "#These are the properties created for the object ad it will not appear in the main class\n",
    "ad.brand=\"Black and White\"\n",
    "ad.sides=\"Kabab\"\n",
    "ad.name=\"Aditya\"\n",
    "print(ad.brand,ad.sides,ad.name)\n",
    "\n",
    "#I can alter the bar properties\n",
    "bar.bar_owner=\"Aditya\"\n",
    "print(bar.bar_owner,ad.name)\n",
    "\n",
    "#if we make changes in the main class it will affect the objects\n",
    "print(ad.brand,ad.sides,ad.name,ad.bar_owner)\n"
   ]
  },
  {
   "cell_type": "code",
   "execution_count": 21,
   "metadata": {},
   "outputs": [
    {
     "name": "stdout",
     "output_type": "stream",
     "text": [
      "[1, 2, 3, 4, 5]\n"
     ]
    }
   ],
   "source": [
    "a=list(map(int,input().split()))\n",
    "print(a)"
   ]
  },
  {
   "cell_type": "code",
   "execution_count": null,
   "metadata": {},
   "outputs": [],
   "source": []
  },
  {
   "cell_type": "markdown",
   "metadata": {},
   "source": [
    "Initialization Method / __init__method / method\n",
    "initialise - object memebers\n",
    "        It is a method which is used to initialise members of object.\n",
    "        Passing self as first argument is mandatory.\n",
    "        self will take the object address.\n",
    "    NOTE : Different variable can be given in place of self but according to industrial standards self have been passed.\n",
    "           __init__ method will be automatically invoked when an object is created for the class.\n",
    "Syntax:\n",
    "    class cname:\n",
    "        --------\n",
    "        --------\n",
    "        --------\n",
    "        def __init__(self,arg1,arg2,..............argn):\n",
    "            self.arg1=arg1\n",
    "            self.arg2=arg2\n",
    "            ----\n",
    "            ----\n",
    "            self.argn=argn\n",
    "    obj=cname(value1,value2,............valuen)"
   ]
  },
  {
   "cell_type": "code",
   "execution_count": 1,
   "metadata": {},
   "outputs": [
    {
     "name": "stdout",
     "output_type": "stream",
     "text": [
      "Lollipop Monkey_D_Luufy\n"
     ]
    }
   ],
   "source": [
    "class bar:\n",
    "    bar_name=\"Jenny Vines\"\n",
    "    bar_owner=\"Lakshith\"\n",
    "    no_of_tables=10\n",
    "    location=\"Jallahalli\"\n",
    "    def __init__(self,brand,sides,name):\n",
    "        self.brand=brand                            #object_name.variable=value\n",
    "        self.sides=sides                            #luffy.sides='lollipop'\n",
    "        self.name=name\n",
    "luffy=bar('omr','Lollipop','Monkey_D_Luufy')\n",
    "print(luffy.sides,luffy.name)"
   ]
  },
  {
   "cell_type": "code",
   "execution_count": 1,
   "metadata": {},
   "outputs": [
    {
     "name": "stdout",
     "output_type": "stream",
     "text": [
      "[1, 2, 3, 4, 5]\n"
     ]
    }
   ],
   "source": [
    "a=list(map(int, input().split()))\n",
    "print(a)"
   ]
  }
 ],
 "metadata": {
  "kernelspec": {
   "display_name": "Python 3",
   "language": "python",
   "name": "python3"
  },
  "language_info": {
   "codemirror_mode": {
    "name": "ipython",
    "version": 3
   },
   "file_extension": ".py",
   "mimetype": "text/x-python",
   "name": "python",
   "nbconvert_exporter": "python",
   "pygments_lexer": "ipython3",
   "version": "3.11.1"
  }
 },
 "nbformat": 4,
 "nbformat_minor": 2
}
