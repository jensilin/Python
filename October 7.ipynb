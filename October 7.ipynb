{
 "cells": [
  {
   "cell_type": "code",
   "execution_count": 1,
   "metadata": {},
   "outputs": [
    {
     "data": {
      "text/plain": [
       "48"
      ]
     },
     "execution_count": 1,
     "metadata": {},
     "output_type": "execute_result"
    }
   ],
   "source": [
    "def  gcd(a,b):\n",
    "    while b:\n",
    "        a,b=b,a%b\n",
    "        return a\n",
    "gcd(60,48)"
   ]
  },
  {
   "cell_type": "code",
   "execution_count": 7,
   "metadata": {},
   "outputs": [
    {
     "name": "stdout",
     "output_type": "stream",
     "text": [
      "prime 1\n",
      "prime 2\n",
      "prime 3\n",
      "Not a prime 4\n",
      "prime 5\n",
      "prime 7\n"
     ]
    }
   ],
   "source": [
    "a=[1,2,3,4,5,7]\n",
    "i=0\n",
    "while i<len(a):\n",
    "    for j in range(2,a[i]):\n",
    "        if a[i]%j==0:\n",
    "            print(\"Not a prime\",a[i])\n",
    "            break\n",
    "    else:\n",
    "        print(\"prime\",a[i])\n",
    "    i+=1"
   ]
  },
  {
   "cell_type": "code",
   "execution_count": 13,
   "metadata": {},
   "outputs": [
    {
     "name": "stdout",
     "output_type": "stream",
     "text": [
      "prime 1\n",
      "prime 2\n",
      "prime 3\n",
      "Not a prime 4\n",
      "prime 5\n",
      "prime 7\n"
     ]
    }
   ],
   "source": [
    "#WAP to extract all the prime number present in a list collection\n",
    "\n",
    "def pm(a):\n",
    "    i=0\n",
    "    while i<len(a):\n",
    "        for j in range(2,a[i]):\n",
    "            if a[i]%j==0:\n",
    "                print(\"Not a prime\",a[i])\n",
    "                break\n",
    "        else:\n",
    "            print(\"prime\",a[i])\n",
    "        i+=1\n",
    "pm([1,2,3,4,5,7])"
   ]
  },
  {
   "cell_type": "code",
   "execution_count": 22,
   "metadata": {},
   "outputs": [
    {
     "name": "stdout",
     "output_type": "stream",
     "text": [
      "Prime [2, 3, 5, 7]\n",
      "Not a prime [1, 4]\n"
     ]
    }
   ],
   "source": [
    "#WAP to extract all the prime number present in a list collection\n",
    "\n",
    "def pm(a):\n",
    "    i=0\n",
    "    np=[]\n",
    "    p=[]\n",
    "    while i<len(a):\n",
    "        if type(a[i])==int :\n",
    "            if a[i]>1:\n",
    "                for j in range(2,a[i]):\n",
    "                    if a[i]%j==0:\n",
    "                        np+=[a[i]]\n",
    "                        break\n",
    "                else:\n",
    "                    p+=[a[i]]\n",
    "            else:\n",
    "                np+=[a[i]]\n",
    "            i+=1\n",
    "    print(\"Prime\",p)\n",
    "    print(\"Not a prime\",np)\n",
    "pm([1,2,3,4,5,7])\n"
   ]
  },
  {
   "cell_type": "code",
   "execution_count": 37,
   "metadata": {},
   "outputs": [
    {
     "name": "stdout",
     "output_type": "stream",
     "text": [
      "['com', 'in', 'org', 'abhi']\n"
     ]
    }
   ],
   "source": [
    "x=['intragram.com','chess.in','python.org','kingfisher.abhi']\n",
    "b=[]\n",
    "for i in x:\n",
    "    y=i.split('.')\n",
    "    b+=[y[1]]\n",
    "print(b)"
   ]
  },
  {
   "cell_type": "code",
   "execution_count": 39,
   "metadata": {},
   "outputs": [
    {
     "name": "stdout",
     "output_type": "stream",
     "text": [
      "['com', 'in', 'org', 'abhi']\n"
     ]
    }
   ],
   "source": [
    "def extension(x):\n",
    "    b=[]\n",
    "    for i in x:\n",
    "            y=i.split('.')\n",
    "            b+=[y[1]]\n",
    "    print(b)\n",
    "extension(['intragram.com','chess.in','python.org','kingfisher.abhi'])"
   ]
  },
  {
   "cell_type": "code",
   "execution_count": null,
   "metadata": {},
   "outputs": [],
   "source": [
    "x=['intragram.com','chess.in','python.org','kingfisher.abhi']\n",
    "b=[]\n",
    "j=0\n",
    "for i in x:\n",
    "    while j<len(i):\n",
    "        if i[j]=='.':\n",
    "            break\n",
    "        else:\n",
    "            b+=[i[j]]\n",
    "        j+=1\n",
    "print(b)"
   ]
  },
  {
   "cell_type": "code",
   "execution_count": 45,
   "metadata": {},
   "outputs": [
    {
     "name": "stdout",
     "output_type": "stream",
     "text": [
      "(40, 13, 1.6, 3)\n",
      "330\n",
      "61\n",
      "9.166666666666666\n"
     ]
    }
   ],
   "source": [
    "#Function without argument and with return value\n",
    "def prod():\n",
    "    a=int(input(\"Enter \"))\n",
    "    b=int(input(\"Enter\"))\n",
    "    return a*b,a+b,a/b,a-b\n",
    "print(prod())\n",
    "prod()\n",
    "mul,add,div,sub=prod()\n",
    "print(mul)\n",
    "print(add)\n",
    "print(div)\n"
   ]
  },
  {
   "cell_type": "code",
   "execution_count": 55,
   "metadata": {},
   "outputs": [
    {
     "name": "stdout",
     "output_type": "stream",
     "text": [
      "ASDDF\n",
      "wertsf\n",
      "1234\n",
      "@#$\n"
     ]
    }
   ],
   "source": [
    "#WAP to program to separate all the upcase lwcase digits and special into four different output collection\n",
    "def coll():\n",
    "    a=\"ASDwert1234@#$DFsf\"\n",
    "    upr,lwr,digi,spec='','','',''\n",
    "    for i in a:\n",
    "        if i.isupper():\n",
    "            upr+=i\n",
    "        elif i.islower():\n",
    "            lwr+=i\n",
    "        elif i.isdigit():\n",
    "            digi+=i\n",
    "        else:\n",
    "            spec+=i\n",
    "    return upr,lwr,digi,spec\n",
    "# coll()\n",
    "upr,lwr,digi,spec=coll()\n",
    "print(upr)\n",
    "print(lwr)\n",
    "print(digi)\n",
    "print(spec)"
   ]
  },
  {
   "cell_type": "code",
   "execution_count": 62,
   "metadata": {},
   "outputs": [
    {
     "data": {
      "text/plain": [
       "[['python', 'org'], ['while', 'org']]"
      ]
     },
     "execution_count": 62,
     "metadata": {},
     "output_type": "execute_result"
    }
   ],
   "source": [
    "a=\"python.org\"\n",
    "c=\"while.org\"\n",
    "# a=['while.jpg','photo.jpg','pyspider.org','python.ord']\n",
    "b=[a.split('.')]\n",
    "b+[c.split('.')]"
   ]
  },
  {
   "cell_type": "code",
   "execution_count": 86,
   "metadata": {},
   "outputs": [
    {
     "name": "stdout",
     "output_type": "stream",
     "text": [
      "while\n",
      "photo\n",
      "pyspider\n",
      "python\n",
      "{'jpg': 'photo', 'org': 'python'}\n"
     ]
    }
   ],
   "source": [
    "a=['while.jpg','photo.jpg','pyspider.org','python.org']\n",
    "z={}\n",
    "for i in a:\n",
    "    b=i.split('.')\n",
    "    c=b[1]\n",
    "    d=''\n",
    "    if b[1]==c:\n",
    "        # z[c]=b[0] \n",
    "        d+=b[0]\n",
    "    z[c]=d\n",
    "print(z)        "
   ]
  },
  {
   "cell_type": "code",
   "execution_count": null,
   "metadata": {},
   "outputs": [],
   "source": []
  }
 ],
 "metadata": {
  "kernelspec": {
   "display_name": "Python 3",
   "language": "python",
   "name": "python3"
  },
  "language_info": {
   "codemirror_mode": {
    "name": "ipython",
    "version": 3
   },
   "file_extension": ".py",
   "mimetype": "text/x-python",
   "name": "python",
   "nbconvert_exporter": "python",
   "pygments_lexer": "ipython3",
   "version": "3.11.1"
  }
 },
 "nbformat": 4,
 "nbformat_minor": 2
}
