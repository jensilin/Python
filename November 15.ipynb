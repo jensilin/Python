{
 "cells": [
  {
   "cell_type": "markdown",
   "metadata": {},
   "source": [
    "Generator Function\n",
    "        It is a function which is used to generate sequence of values using yield keyword.\n",
    "        When a user defined function consist of yeild keyword, It becomes generator function.\n",
    "\n",
    "    Diifference between Return and Yeild\n",
    "        Return\n",
    "            It is a keyword wich is used to stop the function excution \n",
    "            Return is used in normal user defined function \n",
    "            Type casting is not required \n",
    "\n",
    "        Yield\n",
    "            It is a keyword which is used to pause the function execution and it continues the next instructions \n",
    "            yield is used in generator function \n",
    "            Type casting is required \n",
    "\n"
   ]
  },
  {
   "cell_type": "code",
   "execution_count": 2,
   "metadata": {},
   "outputs": [
    {
     "name": "stdout",
     "output_type": "stream",
     "text": [
      "29\n",
      "5\n"
     ]
    }
   ],
   "source": [
    "def hello():\n",
    "    print(29)\n",
    "    return 5\n",
    "    print(50)\n",
    "    return 40\n",
    "print(hello())\n"
   ]
  },
  {
   "cell_type": "code",
   "execution_count": null,
   "metadata": {},
   "outputs": [
    {
     "name": "stdout",
     "output_type": "stream",
     "text": [
      "29\n",
      "50\n",
      "[5, 40]\n"
     ]
    }
   ],
   "source": [
    "def hello():\n",
    "    print(29)\n",
    "    yield 5                                                         #For Yield to display in the output we need to type cast\n",
    "    print(50)\n",
    "    yield 40\n",
    "print(list(hello()))\n"
   ]
  },
  {
   "cell_type": "code",
   "execution_count": null,
   "metadata": {},
   "outputs": [
    {
     "data": {
      "text/plain": [
       "[1, 2, 3, 4, 56, 78]"
      ]
     },
     "execution_count": 6,
     "metadata": {},
     "output_type": "execute_result"
    }
   ],
   "source": [
    "#program to extract all the integers from a list collection using function with return\n",
    "\n",
    "def ext(a):\n",
    "    b=[]\n",
    "    for i in a:\n",
    "        if type(i)==int:\n",
    "            b+=[i]\n",
    "    return b\n",
    "ext([1,2,3,4,\"dfrgthy\",[1,2,3],56,78])"
   ]
  },
  {
   "cell_type": "code",
   "execution_count": 7,
   "metadata": {},
   "outputs": [
    {
     "name": "stdout",
     "output_type": "stream",
     "text": [
      "[1, 2, 3, 4, 56, 78]\n"
     ]
    }
   ],
   "source": [
    "def ext(a):\n",
    "    b=[]\n",
    "    for i in a:\n",
    "        if type(i)==int:\n",
    "            yield i\n",
    "print(list(ext([1,2,3,4,\"dfrgthy\",[1,2,3],56,78])))"
   ]
  },
  {
   "cell_type": "code",
   "execution_count": 8,
   "metadata": {},
   "outputs": [
    {
     "name": "stdout",
     "output_type": "stream",
     "text": [
      "[9, 18, 27, 36, 45, 54, 63, 72, 81, 90]\n"
     ]
    }
   ],
   "source": [
    "#WAP to get multiplication table of a integer number stored in a list\n",
    "def tables(a):\n",
    "    for i in range(1,11):\n",
    "        yield a*i\n",
    "        \n",
    "print(list(tables(9)))"
   ]
  },
  {
   "cell_type": "code",
   "execution_count": 10,
   "metadata": {},
   "outputs": [
    {
     "name": "stdout",
     "output_type": "stream",
     "text": [
      "[0, 1, 1, 2, 3, 5, 8, 13, 21, 34]\n"
     ]
    }
   ],
   "source": [
    "#WAP to generate a fibonacci series yeid keyword\n",
    "\n",
    "def fibo(a):\n",
    "    x,y=0,1\n",
    "    for i in range(a):\n",
    "         yield x\n",
    "         x,y=y,x+y\n",
    "\n",
    "print(list(fibo(10)))\n",
    "        "
   ]
  },
  {
   "cell_type": "code",
   "execution_count": 31,
   "metadata": {},
   "outputs": [],
   "source": [
    "#Generate the prime number series from 1 to 100\n",
    "\n",
    "def check_prime(n):\n",
    "    for i in range(2,n):\n",
    "        if n%i==0:\n",
    "            return False\n",
    "    return True"
   ]
  },
  {
   "cell_type": "code",
   "execution_count": 32,
   "metadata": {},
   "outputs": [
    {
     "name": "stdout",
     "output_type": "stream",
     "text": [
      "[2, 3, 5, 7, 11, 13, 17, 19, 23, 29, 31, 37, 41, 43, 47, 53, 59, 61, 67, 71, 73, 79, 83, 89, 97]\n"
     ]
    }
   ],
   "source": [
    "def oye_prime():\n",
    "    for i in range(2,100):\n",
    "        if check_prime(i):\n",
    "            yield i\n",
    "\n",
    "print(list(oye_prime()))"
   ]
  },
  {
   "cell_type": "markdown",
   "metadata": {},
   "source": [
    "Iterator \n",
    "        It is a function which is used to traverse through the collection by fetching individual values \n",
    "        For Loop is considered as in-built iterator \n",
    "        \n",
    "        NOTE : FOR LOOP WILL START FROM INITIAL VALUE, TRAVERSES THROUGH THE COLLECTION AND IT AUTOMATICALLY STOPS WHEN IT REACHES END OF THE COLLECTION\n",
    "\n",
    "        Traversing can be done manually using iter function and next function\n",
    "\n",
    "        Iter Function\n",
    "            It is a function which is used to point towards initial node address.\n",
    "            Syntax:\n",
    "                iter_variable=iter(collection)\n",
    "            \n",
    "        Next Function\n",
    "            It is a function which is used to traverse through the collection.\n",
    "            Syntax:\n",
    "                next(iter_variable)\n",
    "            NOTE: WHEN IT REACHES END OF THE COLLECTION AND IF next FUNCTION IS USED AGAIN IT THROWS Stop Iteration Error message"
   ]
  },
  {
   "cell_type": "code",
   "execution_count": 37,
   "metadata": {},
   "outputs": [
    {
     "name": "stdout",
     "output_type": "stream",
     "text": [
      "10\n",
      "34\n",
      "177\n"
     ]
    }
   ],
   "source": [
    "x=[10,34,177]\n",
    "i=iter(x)\n",
    "print(next(i))\n",
    "print(next(i))\n",
    "print(next(i))\n",
    "# print(next(i))            Here it throws the error message StopIteration\n"
   ]
  }
 ],
 "metadata": {
  "kernelspec": {
   "display_name": "Python 3",
   "language": "python",
   "name": "python3"
  },
  "language_info": {
   "codemirror_mode": {
    "name": "ipython",
    "version": 3
   },
   "file_extension": ".py",
   "mimetype": "text/x-python",
   "name": "python",
   "nbconvert_exporter": "python",
   "pygments_lexer": "ipython3",
   "version": "3.11.1"
  }
 },
 "nbformat": 4,
 "nbformat_minor": 2
}
