{
 "cells": [
  {
   "cell_type": "code",
   "execution_count": 14,
   "metadata": {},
   "outputs": [
    {
     "name": "stdout",
     "output_type": "stream",
     "text": [
      "Anagram\n"
     ]
    }
   ],
   "source": [
    "#WAP to check the two strings are angram or not\n",
    "a=sorted(input('Enter the string').lower().replace(' ',''))\n",
    "b=sorted(input('Enter the string').lower().replace(' ',''))\n",
    "\n",
    "if a==b:\n",
    "    print('Anagram')\n",
    "else:\n",
    "    print(\"not anagram\")"
   ]
  },
  {
   "cell_type": "code",
   "execution_count": 17,
   "metadata": {},
   "outputs": [
    {
     "name": "stdout",
     "output_type": "stream",
     "text": [
      "False\n"
     ]
    }
   ],
   "source": [
    "print(sorted(input('Enter the string').lower().replace(' ',''))==sorted(input('Enter the string').lower().replace(' ','')))"
   ]
  },
  {
   "cell_type": "code",
   "execution_count": 18,
   "metadata": {},
   "outputs": [
    {
     "name": "stdout",
     "output_type": "stream",
     "text": [
      "Anagram \n"
     ]
    }
   ],
   "source": [
    "if sorted(input('Enter the string').lower().replace(' ',''))==sorted(input('Enter the string').lower().replace(' ','')):\n",
    "    print(\"Anagram \")\n",
    "else:\n",
    "    print(\"Not a Angram \")"
   ]
  },
  {
   "cell_type": "code",
   "execution_count": 25,
   "metadata": {},
   "outputs": [
    {
     "name": "stdout",
     "output_type": "stream",
     "text": [
      "Panagram\n"
     ]
    }
   ],
   "source": [
    "#Panagram\n",
    "a=sorted(input('Enter the string').lower().replace(' ',''))\n",
    "s=0\n",
    "b=''\n",
    "for i in a:\n",
    "    if i not in b:\n",
    "        if 'a'<=i<='z':\n",
    "            s+=ord(i)\n",
    "            b+=i\n",
    "if len(b)==26:\n",
    "    print('Panagram')\n"
   ]
  },
  {
   "cell_type": "code",
   "execution_count": 34,
   "metadata": {},
   "outputs": [
    {
     "name": "stdout",
     "output_type": "stream",
     "text": [
      "Not panagram\n"
     ]
    }
   ],
   "source": [
    "low=''\n",
    "for i in range(97,123):\n",
    "    low+=chr(i)\n",
    "\n",
    "a=sorted(input('Enter the string').lower().replace(' ',''))\n",
    "x=''.join(set(a))\n",
    "\n",
    "c=0\n",
    "for i in low:\n",
    "    if i in x:\n",
    "        c+=1\n",
    "if c==26:\n",
    "    print(\"Panagram\")\n",
    "else:\n",
    "    print(\"Not panagram\")"
   ]
  },
  {
   "cell_type": "code",
   "execution_count": 26,
   "metadata": {},
   "outputs": [
    {
     "name": "stdout",
     "output_type": "stream",
     "text": [
      "Panagram\n"
     ]
    }
   ],
   "source": [
    "a=sorted(input('Enter the string').lower().replace(' ',''))\n",
    "x=''.join(set(a))\n",
    "\n",
    "c=0\n",
    "for i in range(97,123):\n",
    "    if chr(i) in x:\n",
    "        c+=1\n",
    "\n",
    "if c==26:\n",
    "    print(\"Panagram\")\n",
    "else:\n",
    "    print(\"Not apanagram\")"
   ]
  },
  {
   "cell_type": "code",
   "execution_count": 30,
   "metadata": {},
   "outputs": [
    {
     "name": "stdout",
     "output_type": "stream",
     "text": [
      "10\n",
      "20\n",
      "10 20\n",
      "200\n",
      "10 20\n"
     ]
    }
   ],
   "source": [
    "x=10\n",
    "y=20\n",
    "def hehe():\n",
    "    print(x,y)\n",
    "    print(y*x)\n",
    "print(x)\n",
    "print(y)\n",
    "hehe()\n",
    "print(x,y)"
   ]
  },
  {
   "cell_type": "code",
   "execution_count": 31,
   "metadata": {},
   "outputs": [
    {
     "name": "stdout",
     "output_type": "stream",
     "text": [
      "10\n",
      "20\n",
      "56 20\n",
      "1120\n",
      "56 20\n"
     ]
    }
   ],
   "source": [
    "#Using global keyword\n",
    "x=10\n",
    "y=20\n",
    "def hehe():\n",
    "    global x\n",
    "    x=56\n",
    "    print(x,y)\n",
    "    print(y*x)\n",
    "print(x)\n",
    "print(y)\n",
    "hehe()\n",
    "print(x,y)"
   ]
  },
  {
   "cell_type": "code",
   "execution_count": 32,
   "metadata": {},
   "outputs": [
    {
     "name": "stdout",
     "output_type": "stream",
     "text": [
      "10\n",
      "20\n",
      "56 20\n",
      "1120\n",
      "10 20\n"
     ]
    }
   ],
   "source": [
    "#Without Using global keyword\n",
    "x=10\n",
    "y=20\n",
    "def hehe():\n",
    "    x=56\n",
    "    print(x,y)\n",
    "    print(y*x)\n",
    "print(x)\n",
    "print(y)\n",
    "hehe()\n",
    "print(x,y)"
   ]
  },
  {
   "cell_type": "code",
   "execution_count": null,
   "metadata": {},
   "outputs": [],
   "source": []
  },
  {
   "cell_type": "code",
   "execution_count": null,
   "metadata": {},
   "outputs": [],
   "source": []
  }
 ],
 "metadata": {
  "kernelspec": {
   "display_name": "Python 3",
   "language": "python",
   "name": "python3"
  },
  "language_info": {
   "codemirror_mode": {
    "name": "ipython",
    "version": 3
   },
   "file_extension": ".py",
   "mimetype": "text/x-python",
   "name": "python",
   "nbconvert_exporter": "python",
   "pygments_lexer": "ipython3",
   "version": "3.11.1"
  }
 },
 "nbformat": 4,
 "nbformat_minor": 2
}
