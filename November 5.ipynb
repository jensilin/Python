{
 "cells": [
  {
   "cell_type": "markdown",
   "metadata": {},
   "source": [
    "Multi-level Inheritance :\n",
    "        It is a type of inheritance where in the properties are derived from one class to another class by considering more than one level.\n",
    "            syntax: class A:\n",
    "                        S.B\n",
    "\n",
    "                    class B(A):\n",
    "                        S.B\n",
    "\n",
    "                    class C(B):\n",
    "                        S.B\n",
    "\n",
    "                    "
   ]
  },
  {
   "cell_type": "code",
   "execution_count": null,
   "metadata": {},
   "outputs": [
    {
     "name": "stdout",
     "output_type": "stream",
     "text": [
      "10\n",
      "20\n",
      "30\n"
     ]
    }
   ],
   "source": [
    "class A:\n",
    "    x=10\n",
    "\n",
    "class B(A):\n",
    "    y=20\n",
    "\n",
    "class C(B):\n",
    "    z=30\n",
    "\n",
    "ob=C()\n",
    "print(ob.x)\n",
    "print(ob.y)\n",
    "print(ob.z)"
   ]
  },
  {
   "cell_type": "code",
   "execution_count": 18,
   "metadata": {},
   "outputs": [
    {
     "name": "stdout",
     "output_type": "stream",
     "text": [
      "Name: Luffy  Age: 20 Tenth Marks: 90%  Tenth YOP: 2019    12th percentage: 85%  12th YOP: 2021   Degree Percentage: 89%  Degree YOP: 2024\n"
     ]
    }
   ],
   "source": [
    "class tenth:\n",
    "    def __init__(self,name,age,ten_marks,ten_yop):\n",
    "        self.name=name\n",
    "        self.age=age\n",
    "        self.ten_marks=ten_marks\n",
    "        self.ten_yop=ten_yop\n",
    "        \n",
    "    def dis10(self):\n",
    "        print(\"Name:\",self.name,\"Age:\",self.age,\"Tenth Marks:\",self.ten_marks,\"Tenth YOP:\",self.ten_yop,end=\"    \")\n",
    "    \n",
    "    \n",
    "class twel(tenth):\n",
    "    def __init__(self, name, age, ten_marks, ten_yop,twel_per,twel_yop):\n",
    "        super().__init__(name, age, ten_marks, ten_yop)\n",
    "        self.twel_per=twel_per\n",
    "        self.twel_yop=twel_yop\n",
    "        \n",
    "    def dis12(self):\n",
    "        super().dis10()\n",
    "        print(\"12th percentage:\",self.twel_per,\"12th YOP:\",self.twel_yop, end=\"   \")\n",
    "    \n",
    "class degree(twel):\n",
    "    def __init__(self, name, age, ten_marks, ten_yop, twel_per, twel_yop, degree_per,degree_yop):\n",
    "        super().__init__(name, age, ten_marks, ten_yop, twel_per, twel_yop)\n",
    "        self.degree_per=degree_per\n",
    "        self.degree_yop=degree_yop\n",
    "        \n",
    "    def display(self):\n",
    "        super().dis12()\n",
    "        print(\"Degree Percentage:\",self.degree_per,\"Degree YOP:\",self.degree_yop)\n",
    "\n",
    "luffy=degree(\"Luffy \",20,\"90% \",2019,\"85% \",2021,\"89% \",2024)\n",
    "luffy.display()"
   ]
  },
  {
   "cell_type": "markdown",
   "metadata": {},
   "source": [
    "Multiple Inheritance \n",
    "        It is a phenomenon of deriving properties from multiple parent classes to a single child class \n",
    "\n",
    "        syntax:\n",
    "            class parent_class1:\n",
    "                S.B\n",
    "            class parent_class2:\n",
    "                S.B\n",
    "            class parent_class3:\n",
    "                S.B\n",
    "            class child_class(parent_class1,parent_class2,parent_class3)                                                        parent_class will be accesed from parent_class3 , parent_class2, parent_class1 it moves from right to left"
   ]
  },
  {
   "cell_type": "code",
   "execution_count": null,
   "metadata": {},
   "outputs": [
    {
     "data": {
      "text/plain": [
       "25"
      ]
     },
     "execution_count": 20,
     "metadata": {},
     "output_type": "execute_result"
    }
   ],
   "source": [
    "class old:\n",
    "    a=10\n",
    "class older:\n",
    "    b=20\n",
    "class oldest:\n",
    "    c=10\n",
    "    a=25\n",
    "class child(old,older,oldest):\n",
    "    d=20\n",
    "    \n",
    "child.a                          #parent_class will be accesed from parent_class3 , parent_class2, parent_class1 it moves from right to left"
   ]
  },
  {
   "cell_type": "code",
   "execution_count": null,
   "metadata": {},
   "outputs": [],
   "source": []
  }
 ],
 "metadata": {
  "kernelspec": {
   "display_name": "Python 3",
   "language": "python",
   "name": "python3"
  },
  "language_info": {
   "codemirror_mode": {
    "name": "ipython",
    "version": 3
   },
   "file_extension": ".py",
   "mimetype": "text/x-python",
   "name": "python",
   "nbconvert_exporter": "python",
   "pygments_lexer": "ipython3",
   "version": "3.11.1"
  }
 },
 "nbformat": 4,
 "nbformat_minor": 2
}
