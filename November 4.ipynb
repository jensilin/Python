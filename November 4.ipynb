{
 "cells": [
  {
   "cell_type": "markdown",
   "metadata": {},
   "source": [
    "INHERITANCE \n",
    "        It is a phenomenon of deriving properties from one class to another class. \n",
    "        The class from where properties are derived is called as parent class or superclass.\n",
    "        The class to which properties are derived is called as child class or derived class or sub class\n",
    "        Using inheritance it reduces the instructions and also it decreases code repitation \n",
    "\n",
    "        There are 5 types of Inheritance:\n",
    "            Single level inheritance              \n",
    "            Multilevel inheritance\n",
    "            Multiple inheritance\n",
    "            Hiearchial inheritance\n",
    "            Hybrid inheritance\n",
    "\n",
    "        Single level inheritance\n",
    "            It is the phenomenon of deriving properties from a single parent class to single child class (parent class to child class)\n",
    "\n",
    "            Syntax:\n",
    "                class A:\n",
    "                    S.B\n",
    "                class B(A):\n",
    "                    S.B\n",
    "\n",
    "            Here after creating an object to B i can inherit class A properties (I can inherit parent class property)\n",
    "            After creating object for class A i cannot inherit class properties (Parent cannot access child class properties)"
   ]
  },
  {
   "cell_type": "code",
   "execution_count": 9,
   "metadata": {},
   "outputs": [
    {
     "data": {
      "text/plain": [
       "45"
      ]
     },
     "execution_count": 9,
     "metadata": {},
     "output_type": "execute_result"
    }
   ],
   "source": [
    "class A:\n",
    "    x=24\n",
    "    y=17\n",
    "    def __init__(self,a,b):\n",
    "        self.a=a \n",
    "        self.b=b\n",
    "        \n",
    "class B(A):\n",
    "    r=45\n",
    "    y=45\n",
    "    s=24\n",
    "    def __init__(self, c,d,e):\n",
    "        self.c=c\n",
    "        self.d=d\n",
    "        self.e=e\n",
    "    \n",
    "    \n",
    "ob=B(75,41,51)                     #here if i pass two argument it throws an error\n",
    "ob.y                               #it overrides the value of y\n",
    "# ob.a                              #it throws an error because of overriding\n"
   ]
  },
  {
   "cell_type": "markdown",
   "metadata": {},
   "source": [
    "Constructor Chaining :\n",
    "        It is a phenomenon of invoking the constructor(__int__) of parent class from child class \n",
    "            super().__init__(args)\n",
    "            super(self,child).__init__(args)\n",
    "            parent_class_name.__init__(self,args)\n",
    "            \n",
    "Method Chaining:\n",
    "        It is a phenomenon of invoking the method of parent class from child class\n",
    "            super().method_name(args)\n",
    "            super(self,child).method_name(args)\n",
    "            parent_class_name.method_name(self,args) \n",
    "            "
   ]
  },
  {
   "cell_type": "code",
   "execution_count": 14,
   "metadata": {},
   "outputs": [
    {
     "name": "stdout",
     "output_type": "stream",
     "text": [
      "Jensilin 25 something None of your business\n"
     ]
    }
   ],
   "source": [
    "class superhero:\n",
    "    hero=\"Jensilin\"\n",
    "    power=\"invisible\"\n",
    "    def __init__(self,name,age):\n",
    "        self.name=name\n",
    "        self.age=age\n",
    "    \n",
    "    def display(self):\n",
    "        print(self.name,self.age, end=\" \")\n",
    "        \n",
    "class supersuperhero(superhero):\n",
    "    updated_power=\"Speeed and Invisible\"\n",
    "    def __init__(self, name,age,category,art):\n",
    "        super().__init__(name, age)\n",
    "        self.category=category\n",
    "        self.art=art\n",
    "    \n",
    "    def dis1(self):\n",
    "        super().display()\n",
    "        print(self.category,self.art)\n",
    "        \n",
    "jenny=supersuperhero(\"Jensilin\",25,\"something\",\"None of your business\")\n",
    "jenny.dis1()\n",
    "        "
   ]
  },
  {
   "cell_type": "code",
   "execution_count": null,
   "metadata": {},
   "outputs": [],
   "source": []
  }
 ],
 "metadata": {
  "kernelspec": {
   "display_name": "Python 3",
   "language": "python",
   "name": "python3"
  },
  "language_info": {
   "codemirror_mode": {
    "name": "ipython",
    "version": 3
   },
   "file_extension": ".py",
   "mimetype": "text/x-python",
   "name": "python",
   "nbconvert_exporter": "python",
   "pygments_lexer": "ipython3",
   "version": "3.11.1"
  }
 },
 "nbformat": 4,
 "nbformat_minor": 2
}
