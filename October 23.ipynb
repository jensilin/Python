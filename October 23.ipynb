{
 "cells": [
  {
   "cell_type": "code",
   "execution_count": 18,
   "metadata": {},
   "outputs": [
    {
     "data": {
      "text/plain": [
       "3"
      ]
     },
     "execution_count": 18,
     "metadata": {},
     "output_type": "execute_result"
    }
   ],
   "source": [
    "def hola(a,s=0):\n",
    "    if len(str(a))==1:\n",
    "        return a\n",
    "    for i in str(a):\n",
    "        s+=int(i)\n",
    "    return hola(s)\n",
    "hola(687)"
   ]
  },
  {
   "cell_type": "code",
   "execution_count": 12,
   "metadata": {},
   "outputs": [],
   "source": [
    "a=[333,[45,\"dfrtg\"],(\"sdfvgb\",234,(12,3,4,(1233)))]\n",
    "s=0\n"
   ]
  },
  {
   "cell_type": "code",
   "execution_count": 13,
   "metadata": {},
   "outputs": [
    {
     "name": "stdout",
     "output_type": "stream",
     "text": [
      "sdfvgb\n",
      "234 int\n",
      "(12, 3, 4, (1, 2, 3, 3))\n"
     ]
    }
   ],
   "source": [
    "b=(\"sdfvgb\",234,(12,3,4,(1,2,3,3)))\n",
    "for i in b:\n",
    "    if type(i)==int:\n",
    "        print(i,\"int\")\n",
    "    else:\n",
    "        print(i)"
   ]
  },
  {
   "cell_type": "code",
   "execution_count": 17,
   "metadata": {},
   "outputs": [
    {
     "data": {
      "text/plain": [
       "tuple"
      ]
     },
     "execution_count": 17,
     "metadata": {},
     "output_type": "execute_result"
    }
   ],
   "source": [
    "b=(\"sdfvgb\",234,(12,3,4,(1,2,3,3)))\n",
    "type(b[2])"
   ]
  },
  {
   "cell_type": "code",
   "execution_count": 2,
   "metadata": {},
   "outputs": [],
   "source": [
    "def addie(a,s=0):\n",
    "    if len(a)==1:\n",
    "        return a\n",
    "    for i in a:\n",
    "        if type(i)==int:\n",
    "            s+=i\n",
    "        elif type(i)==[list,tuple,dict,set,str]:\n",
    "            s+=addie(s)\n",
    "addie((\"sdfvgb\",234,(12,3,4,(1,2,3,3))))"
   ]
  },
  {
   "cell_type": "code",
   "execution_count": 4,
   "metadata": {},
   "outputs": [
    {
     "data": {
      "text/plain": [
       "5"
      ]
     },
     "execution_count": 4,
     "metadata": {},
     "output_type": "execute_result"
    }
   ],
   "source": [
    "def hola(a,s=0):\n",
    "    if len(str(a))==1:\n",
    "        return a\n",
    "    for i in str(a):\n",
    "        s+=int(i)\n",
    "    return hola(s)\n",
    "hola(68)"
   ]
  },
  {
   "cell_type": "code",
   "execution_count": 2,
   "metadata": {},
   "outputs": [
    {
     "data": {
      "text/plain": [
       "'235'"
      ]
     },
     "execution_count": 2,
     "metadata": {},
     "output_type": "execute_result"
    }
   ],
   "source": [
    "def asci(a,b=\"\"):\n",
    "    for i in a:\n",
    "        b+=str(hola(ord(i)))\n",
    "    return b\n",
    "asci(\"ABD\")"
   ]
  },
  {
   "cell_type": "code",
   "execution_count": null,
   "metadata": {},
   "outputs": [],
   "source": []
  },
  {
   "cell_type": "code",
   "execution_count": 2,
   "metadata": {},
   "outputs": [
    {
     "data": {
      "text/plain": [
       "10"
      ]
     },
     "execution_count": 2,
     "metadata": {},
     "output_type": "execute_result"
    }
   ],
   "source": [
    "def add(a,b,c=0):\n",
    "    return a+b+c\n",
    "add(5,5)"
   ]
  },
  {
   "cell_type": "code",
   "execution_count": null,
   "metadata": {},
   "outputs": [],
   "source": []
  }
 ],
 "metadata": {
  "kernelspec": {
   "display_name": "Python 3",
   "language": "python",
   "name": "python3"
  },
  "language_info": {
   "codemirror_mode": {
    "name": "ipython",
    "version": 3
   },
   "file_extension": ".py",
   "mimetype": "text/x-python",
   "name": "python",
   "nbconvert_exporter": "python",
   "pygments_lexer": "ipython3",
   "version": "3.11.1"
  }
 },
 "nbformat": 4,
 "nbformat_minor": 2
}
