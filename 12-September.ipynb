{
 "cells": [
  {
   "cell_type": "code",
   "execution_count": 21,
   "metadata": {},
   "outputs": [
    {
     "name": "stdout",
     "output_type": "stream",
     "text": [
      "100 is the largest\n"
     ]
    }
   ],
   "source": [
    "#WAP to find the greatest of 4 unique integers without using and operator\n",
    "a=int(input(\"Enter the first number:\"))\n",
    "b=int(input(\"Enter the second number:\"))\n",
    "c=int(input(\"Enter the third number:\"))\n",
    "d=int(input(\"Enter the fourth number:\"))\n",
    "\n",
    "if a>b:\n",
    "    if a>c:\n",
    "        if a>d:\n",
    "            print(a,\"is the largest\")\n",
    "        else:\n",
    "            print(d,\"is the largest\")\n",
    "    elif c>d:\n",
    "        print(c,\"is the largest\")\n",
    "    else:\n",
    "        print(d,\"is the lagrgest\")\n",
    "elif b>c:\n",
    "    if b>d:\n",
    "        print(b,\"is the largest\")\n",
    "    else:\n",
    "        print(d,\"is the largest\")\n",
    "elif c>d:\n",
    "    print(c,\"is the largest\")\n",
    "else:\n",
    "    print(d,\"is the largest\")"
   ]
  },
  {
   "cell_type": "code",
   "execution_count": 27,
   "metadata": {},
   "outputs": [
    {
     "name": "stdout",
     "output_type": "stream",
     "text": [
      "700 is the largest\n"
     ]
    }
   ],
   "source": [
    "#WAP to find the greatest of 5 unique integers without using and operator\n",
    "a=int(input(\"Enter the first number \"))\n",
    "b=int(input(\"Enter the second number \"))\n",
    "c=int(input(\"Enter the third number \"))\n",
    "d=int(input(\"Enter the fourth number \"))\n",
    "e=int(input(\"Enter the five number \"))\n",
    "\n",
    "if a>b:\n",
    "    if a>c:\n",
    "        if a>d:\n",
    "            if a>e:\n",
    "                print(a,\"is the greatest number\")\n",
    "            else:\n",
    "                print(c,\"is the largest\")\n",
    "        elif d>e:\n",
    "            print(d,\"is the largest\")\n",
    "        else:\n",
    "            print(e,\"is the largest\")\n",
    "    elif c>d:\n",
    "        if c>e:\n",
    "            print(c,\"is the largest\")\n",
    "        else:\n",
    "            print(e,\"is the largest\")\n",
    "    elif d>e:\n",
    "        print(d,\"is the largest\")\n",
    "    else:\n",
    "        print(e,\"is the largest\")\n",
    "elif b>c:\n",
    "    if b>d:\n",
    "        if b>e:\n",
    "            print(b,\"is the largest\")\n",
    "        else:\n",
    "            print(e,\"is the largest\")\n",
    "    elif d>e:\n",
    "        print(d,\"is the largest\")\n",
    "    else:\n",
    "        print(e,\"is the largest\")\n",
    "elif c>d:\n",
    "    if c>e:\n",
    "        print(c,\"is the largest\")\n",
    "    else:\n",
    "        print(e,\"is the largest\")\n",
    "elif d>e:\n",
    "    print(d,\"is the largest\")\n",
    "else:\n",
    "    print(e,\"is the largest\")"
   ]
  },
  {
   "cell_type": "code",
   "execution_count": 32,
   "metadata": {},
   "outputs": [
    {
     "name": "stdout",
     "output_type": "stream",
     "text": [
      "2 is the lowest number\n"
     ]
    }
   ],
   "source": [
    "#WAP to find the lowest of 5 unique integers without using and operator\n",
    "a = int(input(\"Enter the first number: \"))\n",
    "b = int(input(\"Enter the second number: \"))\n",
    "c = int(input(\"Enter the third number: \"))\n",
    "d = int(input(\"Enter the fourth number: \"))\n",
    "e = int(input(\"Enter the fifth number: \"))\n",
    "\n",
    "# Start with comparisons to find the lowest number\n",
    "if a < b:\n",
    "    if a < c:\n",
    "        if a < d:\n",
    "            if a < e:\n",
    "                print(a, \"is the lowest number\")\n",
    "            else:\n",
    "                print(e, \"is the lowest number\")\n",
    "        elif d < e:\n",
    "            print(d, \"is the lowest number\")\n",
    "        else:\n",
    "            print(e, \"is the lowest number\")\n",
    "    elif c < d:\n",
    "        if c < e:\n",
    "            print(c, \"is the lowest number\")\n",
    "        else:\n",
    "            print(e, \"is the lowest number\")\n",
    "    elif d < e:\n",
    "        print(d, \"is the lowest number\")\n",
    "    else:\n",
    "        print(e, \"is the lowest number\")\n",
    "elif b < c:\n",
    "    if b < d:\n",
    "        if b < e:\n",
    "            print(b, \"is the lowest number\")\n",
    "        else:\n",
    "            print(e, \"is the lowest number\")\n",
    "    elif d < e:\n",
    "        print(d, \"is the lowest number\")\n",
    "    else:\n",
    "        print(e, \"is the lowest number\")\n",
    "elif c < d:\n",
    "    if c < e:\n",
    "        print(c, \"is the lowest number\")\n",
    "    else:\n",
    "        print(e, \"is the lowest number\")\n",
    "elif d < e:\n",
    "    print(d, \"is the lowest number\")\n",
    "else:\n",
    "    print(e, \"is the lowest number\")\n"
   ]
  },
  {
   "cell_type": "code",
   "execution_count": 38,
   "metadata": {},
   "outputs": [
    {
     "name": "stdout",
     "output_type": "stream",
     "text": [
      "50 40 80 90 100 the sum of total mark is  460 the percentage is  76.66666666666667 %\n"
     ]
    }
   ],
   "source": [
    "# consider marks of a student in six subjects , Find the percentage of the marks onlt if he or she has scored more than thirty five \n",
    "#35 in all the subjects \n",
    "#print the results \n",
    "\n",
    "a = int(input(\"Enter the first subject marks: \"))\n",
    "b = int(input(\"Enter the second subject marks: \"))\n",
    "c = int(input(\"Enter the third subject marks: \"))\n",
    "d = int(input(\"Enter the fourth subject marks: \"))\n",
    "e = int(input(\"Enter the fifth subject marks: \"))\n",
    "f = int(input(\"Enter the sixth subject marks: \"))\n",
    "if a>35 and b>35 and c>35 and d>35 and e>35:\n",
    "    sum=a+b+c+d+e+f/600*100\n",
    "    if 90<=sum<=100\n",
    "                        "
   ]
  },
  {
   "cell_type": "code",
   "execution_count": 2,
   "metadata": {},
   "outputs": [
    {
     "data": {
      "text/plain": [
       "True"
      ]
     },
     "execution_count": 2,
     "metadata": {},
     "output_type": "execute_result"
    }
   ],
   "source": [
    "15>5"
   ]
  },
  {
   "cell_type": "code",
   "execution_count": null,
   "metadata": {},
   "outputs": [],
   "source": []
  },
  {
   "cell_type": "code",
   "execution_count": null,
   "metadata": {},
   "outputs": [],
   "source": []
  }
 ],
 "metadata": {
  "kernelspec": {
   "display_name": "Python 3",
   "language": "python",
   "name": "python3"
  },
  "language_info": {
   "codemirror_mode": {
    "name": "ipython",
    "version": 3
   },
   "file_extension": ".py",
   "mimetype": "text/x-python",
   "name": "python",
   "nbconvert_exporter": "python",
   "pygments_lexer": "ipython3",
   "version": "3.11.1"
  }
 },
 "nbformat": 4,
 "nbformat_minor": 2
}
