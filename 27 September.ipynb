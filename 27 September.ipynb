{
 "cells": [
  {
   "cell_type": "code",
   "execution_count": 1,
   "metadata": {},
   "outputs": [
    {
     "name": "stdout",
     "output_type": "stream",
     "text": [
      "29\n",
      "28\n"
     ]
    }
   ],
   "source": [
    "a=\"Thale bachkoli powder hakoli\"\n",
    "b=a.split()[::-1]\n",
    "c=\"\"\n",
    "for i in b:\n",
    "    c+=i+\" \"\n",
    "\n",
    "print(len(c))\n",
    "print(len(a))"
   ]
  },
  {
   "cell_type": "code",
   "execution_count": 3,
   "metadata": {},
   "outputs": [
    {
     "name": "stdout",
     "output_type": "stream",
     "text": [
      "28 elahT ilokhcab redwop ilokah\n",
      "28 Thale bachkoli powder hakoli\n"
     ]
    }
   ],
   "source": [
    "a=\"Thale bachkoli powder hakoli\"\n",
    "b=a.split()\n",
    "c=\"\"\n",
    "\n",
    "for i in range(len(b)):\n",
    "    if i==0:\n",
    "        c+=b[i][::-1]\n",
    "    else:\n",
    "        c+=\" \"+b[i][::-1]\n",
    "print(len(c),c)\n",
    "print(len(a),a)\n",
    "        "
   ]
  },
  {
   "cell_type": "code",
   "execution_count": 39,
   "metadata": {},
   "outputs": [
    {
     "name": "stdout",
     "output_type": "stream",
     "text": [
      "4\n",
      "3\n",
      "2\n",
      "1\n",
      "0\n"
     ]
    }
   ],
   "source": [
    "for i in range(5-1,-1,-1):\n",
    "    print(i)"
   ]
  },
  {
   "cell_type": "code",
   "execution_count": 56,
   "metadata": {},
   "outputs": [
    {
     "name": "stdout",
     "output_type": "stream",
     "text": [
      "elahT ilokhcab redwop ilokah\n"
     ]
    }
   ],
   "source": [
    "a=\"Thale bachkoli powder hakoli\"\n",
    "b=a.split()\n",
    "c=\"\"\n",
    "i=0\n",
    "while i<len(b):\n",
    "    if i==0:\n",
    "        c+=b[i][::-1]\n",
    "    else:\n",
    "        c+=\" \"+b[i][::-1]\n",
    "    i+=1\n",
    "print(c)\n",
    "    "
   ]
  },
  {
   "cell_type": "code",
   "execution_count": null,
   "metadata": {},
   "outputs": [],
   "source": []
  },
  {
   "cell_type": "code",
   "execution_count": 58,
   "metadata": {},
   "outputs": [
    {
     "name": "stdout",
     "output_type": "stream",
     "text": [
      "hakoli powder bachkoli Thale\n"
     ]
    }
   ],
   "source": [
    "a=\"Thale bachkoli powder hakoli\"\n",
    "b=a.split()[::-1]\n",
    "res=\" \".join(b)\n",
    "print(res)"
   ]
  },
  {
   "cell_type": "code",
   "execution_count": 59,
   "metadata": {},
   "outputs": [
    {
     "name": "stdout",
     "output_type": "stream",
     "text": [
      "hakoli powder bachkoli Thale\n"
     ]
    }
   ],
   "source": [
    "print(\" \".join(input(\"Enter\").split()[::-1]))"
   ]
  },
  {
   "cell_type": "code",
   "execution_count": 65,
   "metadata": {},
   "outputs": [
    {
     "name": "stdout",
     "output_type": "stream",
     "text": [
      "[4, 1, 4, 3, 4, 2, 3]\n"
     ]
    }
   ],
   "source": [
    "#WAP to get following output\n",
    "#a=[99,66,46,33,649,77,18]\n",
    "#output=[4,1,4,3,4,2,3]\n",
    "a=[99,66,49,33,649,77,18]\n",
    "b=[]\n",
    "for i in a:\n",
    "    b+=[i%5]\n",
    "print(b)"
   ]
  },
  {
   "cell_type": "code",
   "execution_count": 71,
   "metadata": {},
   "outputs": [
    {
     "name": "stdout",
     "output_type": "stream",
     "text": [
      "[4, 1, 4]\n"
     ]
    }
   ],
   "source": [
    "a=[99,66,49,33,649,77,18]\n",
    "b=[]\n",
    "for i in range(0,len(a)):\n",
    "    b+=[a[i]%5]\n",
    "    if i ==2:\n",
    "        break\n",
    "print(b)"
   ]
  },
  {
   "cell_type": "code",
   "execution_count": 75,
   "metadata": {},
   "outputs": [
    {
     "name": "stdout",
     "output_type": "stream",
     "text": [
      "KALAsI P@@lYa cHaKnAa\n"
     ]
    }
   ],
   "source": [
    "#a='KaLasi P@@lya chaknaa'\n",
    "a='KaLasi P@@lya chaknaa'\n",
    "b=\"\"\n",
    "for i in range(0,len(a)):\n",
    "    if i%2==1:\n",
    "        if 'a'<=a[i]<='z':\n",
    "            b=b+chr(ord(a[i])-32)\n",
    "        else:\n",
    "            b+=a[i]\n",
    "    else:\n",
    "        b+=a[i]\n",
    "print(b)"
   ]
  },
  {
   "cell_type": "code",
   "execution_count": 2,
   "metadata": {},
   "outputs": [
    {
     "name": "stdout",
     "output_type": "stream",
     "text": [
      "KALAsI P@@lYa cHaKnAa\n"
     ]
    }
   ],
   "source": [
    "#a='KaLasi P@@lya chaknaa'\n",
    "a='KaLasi P@@lya chaknaa'\n",
    "b=\"\"\n",
    "for i in range(len(a)):\n",
    "    if i%2==1 and 'a'<=a[i]<='z':\n",
    "        b=b+chr(ord(a[i])-32)\n",
    "    else:\n",
    "        b+=a[i]\n",
    "print(b)\n",
    "            "
   ]
  },
  {
   "cell_type": "code",
   "execution_count": 20,
   "metadata": {},
   "outputs": [
    {
     "name": "stdout",
     "output_type": "stream",
     "text": [
      "[5, 4, 3, 2, 1] 120\n"
     ]
    }
   ],
   "source": [
    "#factorial of a number\n",
    "a=5\n",
    "c=1\n",
    "d=[]\n",
    "for i in range(a,0,-1):\n",
    "    c=c*i\n",
    "    d+=[i]\n",
    "print(d,c)"
   ]
  },
  {
   "cell_type": "code",
   "execution_count": 21,
   "metadata": {},
   "outputs": [
    {
     "name": "stdout",
     "output_type": "stream",
     "text": [
      "1\n",
      "2\n",
      "3\n"
     ]
    }
   ],
   "source": [
    "a=\"onetwothree\"\n",
    "b={\"one\":1,\"two\":2,\"three\":3}\n",
    "c=\"\"\n",
    "d=b.keys()\n",
    "e=list(d)\n",
    "for i in a:\n",
    "    c+=i\n",
    "    if c in e:\n",
    "        print(b[c])\n",
    "        c=\"\""
   ]
  },
  {
   "cell_type": "code",
   "execution_count": 1,
   "metadata": {},
   "outputs": [
    {
     "name": "stdout",
     "output_type": "stream",
     "text": [
      "Enter the elements:\n"
     ]
    },
    {
     "ename": "ValueError",
     "evalue": "invalid literal for int() with base 10: ''",
     "output_type": "error",
     "traceback": [
      "\u001b[1;31m---------------------------------------------------------------------------\u001b[0m",
      "\u001b[1;31mValueError\u001b[0m                                Traceback (most recent call last)",
      "Cell \u001b[1;32mIn[1], line 10\u001b[0m\n\u001b[0;32m      7\u001b[0m     a\u001b[38;5;241m.\u001b[39mappend(\u001b[38;5;28minput\u001b[39m())\n\u001b[0;32m      9\u001b[0m \u001b[38;5;28;01mfor\u001b[39;00m s \u001b[38;5;129;01min\u001b[39;00m \u001b[38;5;28mrange\u001b[39m (\u001b[38;5;241m0\u001b[39m,n):\n\u001b[1;32m---> 10\u001b[0m     c\u001b[38;5;241m=\u001b[39mc\u001b[38;5;241m*\u001b[39m\u001b[38;5;28;43mint\u001b[39;49m\u001b[43m(\u001b[49m\u001b[43ma\u001b[49m\u001b[43m[\u001b[49m\u001b[43ms\u001b[49m\u001b[43m]\u001b[49m\u001b[43m)\u001b[49m\n\u001b[0;32m     11\u001b[0m \u001b[38;5;28mprint\u001b[39m(c)\n",
      "\u001b[1;31mValueError\u001b[0m: invalid literal for int() with base 10: ''"
     ]
    }
   ],
   "source": [
    "a=[]\n",
    "n=5\n",
    "pro=1\n",
    "c=1\n",
    "print (\"Enter the elements:\")\n",
    "for i in range (0,n):\n",
    "    a.append(input())\n",
    "\n",
    "for s in range (0,n):\n",
    "    c=c*int(a[s])\n",
    "print(c)"
   ]
  },
  {
   "cell_type": "code",
   "execution_count": 25,
   "metadata": {},
   "outputs": [
    {
     "name": "stdout",
     "output_type": "stream",
     "text": [
      "[1, 5, 25]\n"
     ]
    }
   ],
   "source": [
    "#factors of a number\n",
    "a=25\n",
    "b=[]\n",
    "for i in range(1,a+1):\n",
    "    if a%i==0:\n",
    "        b+=[i]\n",
    "print(b)"
   ]
  },
  {
   "cell_type": "code",
   "execution_count": null,
   "metadata": {},
   "outputs": [],
   "source": []
  }
 ],
 "metadata": {
  "kernelspec": {
   "display_name": "Python 3",
   "language": "python",
   "name": "python3"
  },
  "language_info": {
   "codemirror_mode": {
    "name": "ipython",
    "version": 3
   },
   "file_extension": ".py",
   "mimetype": "text/x-python",
   "name": "python",
   "nbconvert_exporter": "python",
   "pygments_lexer": "ipython3",
   "version": "3.11.1"
  }
 },
 "nbformat": 4,
 "nbformat_minor": 2
}
