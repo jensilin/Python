{
 "cells": [
  {
   "cell_type": "code",
   "execution_count": 8,
   "metadata": {},
   "outputs": [
    {
     "name": "stdout",
     "output_type": "stream",
     "text": [
      "yTREWQ\n"
     ]
    }
   ],
   "source": [
    "a=\"QWERTy\"\n",
    "c=\"\"\n",
    "for i in a[::-1]:\n",
    "    c+=i\n",
    "print(c)"
   ]
  },
  {
   "cell_type": "code",
   "execution_count": 11,
   "metadata": {},
   "outputs": [
    {
     "name": "stdout",
     "output_type": "stream",
     "text": [
      "1\n",
      "2\n",
      "34\n",
      "34\n",
      "3\n",
      "[1, 2, 34, 34, 3]\n"
     ]
    }
   ],
   "source": [
    "#WAP to print all the integers in a list collection\n",
    "\n",
    "a=[\"QWERTy\",1,2,34,34,\"rtfh\",3,\"rth\"]\n",
    "b=[]\n",
    "for i in a:\n",
    "    if type(i)==int:\n",
    "        b+=[i]\n",
    "        print(i)\n",
    "print(b)"
   ]
  },
  {
   "cell_type": "code",
   "execution_count": 13,
   "metadata": {},
   "outputs": [
    {
     "name": "stdout",
     "output_type": "stream",
     "text": [
      "1\n",
      "2\n",
      "3\n",
      "4\n",
      "6\n",
      "[1, 2, 34, 34, 3]\n"
     ]
    }
   ],
   "source": [
    "a=[\"QWERTy\",1,2,34,34,\"rtfh\",3,\"rth\"]\n",
    "b=[]\n",
    "i=0\n",
    "while i<len(a):\n",
    "    if type(a[i])==int:\n",
    "        b+=[a[i]]\n",
    "        print(i)\n",
    "    i+=1\n",
    "print(b)"
   ]
  },
  {
   "cell_type": "code",
   "execution_count": 14,
   "metadata": {},
   "outputs": [
    {
     "name": "stdout",
     "output_type": "stream",
     "text": [
      "A\n",
      "S\n",
      "D\n",
      "F\n",
      "G\n",
      "H\n",
      "A\n",
      "S\n",
      "D\n",
      "F\n",
      "G\n",
      "H\n"
     ]
    }
   ],
   "source": [
    "#WAP to print all the upper case character present in a string collection\n",
    "a=\"ASDFGHsdfghASDFGH\"\n",
    "for i in a:\n",
    "    if 'A'<=i<='Z':\n",
    "        print(i)"
   ]
  },
  {
   "cell_type": "code",
   "execution_count": 17,
   "metadata": {},
   "outputs": [
    {
     "name": "stdout",
     "output_type": "stream",
     "text": [
      "aeEAEIOaeiou\n"
     ]
    }
   ],
   "source": [
    "#WAP to extract all the vowels present in a string collection\n",
    "a=\"aeEWAEIOFBSCareiovdu\"\n",
    "b=\"\"\n",
    "for i in a:\n",
    "    if i in \"AEIOUaeiou\":\n",
    "        b+=i\n",
    "print(b)"
   ]
  },
  {
   "cell_type": "markdown",
   "metadata": {},
   "source": []
  },
  {
   "cell_type": "code",
   "execution_count": 25,
   "metadata": {},
   "outputs": [
    {
     "name": "stdout",
     "output_type": "stream",
     "text": [
      "['MADAM']\n"
     ]
    }
   ],
   "source": [
    "#WAP to extract all the palindrome strings in a list collectio\n",
    "a=[\"MADAM\",\"MOM\",\"DAD\",\"QWERTY\"]\n",
    "palin=[]\n",
    "j=0\n",
    "for i in a:\n",
    "    while j < len(a):\n",
    "        if i[::-1]==a[j]:\n",
    "            palin+=[a[j]]\n",
    "        j+=1\n",
    "print(palin)"
   ]
  },
  {
   "cell_type": "code",
   "execution_count": 29,
   "metadata": {},
   "outputs": [
    {
     "name": "stdout",
     "output_type": "stream",
     "text": [
      "['MADAM', 'MOM', 'DAD']\n"
     ]
    }
   ],
   "source": [
    "a=[\"MADAM\",\"MOM\",\"DAD\",\"QWERTY\",25,56]\n",
    "palin =[]\n",
    "for i in a:\n",
    "    if type(i)==str:\n",
    "        if i==i[::-1]:\n",
    "            palin+=[i]\n",
    "print(palin)"
   ]
  },
  {
   "cell_type": "code",
   "execution_count": 33,
   "metadata": {},
   "outputs": [
    {
     "name": "stdout",
     "output_type": "stream",
     "text": [
      "WFBSCrvd\n"
     ]
    }
   ],
   "source": [
    "#WAP to extract all the consonants \n",
    "a=\"aeEWAEIOFBSCareiovdu@#a4567890-=-09876543234567890-==\"\n",
    "b=\"\"\n",
    "for i in a:\n",
    "    if \"A\"<=i<=\"Z\" or \"a\"<=i<=\"z\":\n",
    "        if i not in \"AEIOUaeiou\":\n",
    "            b+=i\n",
    "        \n",
    "print(b)"
   ]
  },
  {
   "cell_type": "code",
   "execution_count": null,
   "metadata": {},
   "outputs": [],
   "source": [
    "#WAP to "
   ]
  },
  {
   "cell_type": "markdown",
   "metadata": {},
   "source": []
  },
  {
   "cell_type": "markdown",
   "metadata": {},
   "source": []
  }
 ],
 "metadata": {
  "kernelspec": {
   "display_name": "Python 3",
   "language": "python",
   "name": "python3"
  },
  "language_info": {
   "codemirror_mode": {
    "name": "ipython",
    "version": 3
   },
   "file_extension": ".py",
   "mimetype": "text/x-python",
   "name": "python",
   "nbconvert_exporter": "python",
   "pygments_lexer": "ipython3",
   "version": "3.11.1"
  }
 },
 "nbformat": 4,
 "nbformat_minor": 2
}
