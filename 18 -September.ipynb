{
 "cells": [
  {
   "cell_type": "code",
   "execution_count": 6,
   "metadata": {},
   "outputs": [
    {
     "name": "stdout",
     "output_type": "stream",
     "text": [
      "4\n"
     ]
    }
   ],
   "source": [
    "#Give two different strings as an input which are having same number of values and compare each position \n",
    "# value of both the string and get an output as an integer which represents a number of positions are same \n",
    "a='10101100'\n",
    "b='11001010'\n",
    "i=0\n",
    "j=0\n",
    "d=False\n",
    "while i<len(a):\n",
    "    while j<len(b):\n",
    "        if a[i]==b[j]:\n",
    "            c=a[i]==b[j]\n",
    "            d=d+c\n",
    "        i+=1\n",
    "        j+=1\n",
    "print(d)"
   ]
  },
  {
   "cell_type": "code",
   "execution_count": 1,
   "metadata": {},
   "outputs": [
    {
     "name": "stdout",
     "output_type": "stream",
     "text": [
      "4\n"
     ]
    }
   ],
   "source": [
    "a='10101100'\n",
    "b='11001010'\n",
    "i=0\n",
    "count=0\n",
    "while i<len(a):\n",
    "    if a[i]==b[i]:\n",
    "        count+=1\n",
    "    i+=1\n",
    "print(count)"
   ]
  },
  {
   "cell_type": "code",
   "execution_count": 14,
   "metadata": {},
   "outputs": [
    {
     "name": "stdout",
     "output_type": "stream",
     "text": [
      "6\n"
     ]
    }
   ],
   "source": [
    "#WAP to add all the divisors of a given number\n",
    "a=int(input('Enter the input '))\n",
    "i=1\n",
    "b=0\n",
    "while i<a:\n",
    "    if a%i==0:\n",
    "        b=b+i\n",
    "    i+=1\n",
    "print(b)\n",
    "\n"
   ]
  },
  {
   "cell_type": "code",
   "execution_count": 21,
   "metadata": {},
   "outputs": [
    {
     "name": "stdout",
     "output_type": "stream",
     "text": [
      "Perfect number 496\n"
     ]
    }
   ],
   "source": [
    "#WAP to check whether the given number is perfect number or not\n",
    "\n",
    "a=int(input('Enter the input '))\n",
    "i=1\n",
    "b=0\n",
    "while i<a:\n",
    "    if a%i==0:\n",
    "        b=b+i\n",
    "    i+=1\n",
    "\n",
    "if  b==a:\n",
    "    print(\"Perfect number\",b)\n",
    "else:\n",
    "    print(\"Not perfect \")"
   ]
  },
  {
   "cell_type": "code",
   "execution_count": 34,
   "metadata": {},
   "outputs": [
    {
     "name": "stdout",
     "output_type": "stream",
     "text": [
      "3\n"
     ]
    }
   ],
   "source": [
    "# #WAP to convert binary number into decimal and vice-versa(binary number will be in string format which consists of one and zeroes)\n",
    "# a=\"1101\"\n",
    "# i=0\n",
    "# s=0\n",
    "# while i<len(a):\n",
    "#     if a[i]=='1':\n",
    "#         c=int(a[i])\n",
    "#         s=s+c**2\n",
    "#     i+=1\n",
    "# print(s)\n",
    "    "
   ]
  },
  {
   "cell_type": "code",
   "execution_count": 40,
   "metadata": {},
   "outputs": [
    {
     "name": "stdout",
     "output_type": "stream",
     "text": [
      "8\n"
     ]
    }
   ],
   "source": [
    "# #WAP to convert binary number into decimal and vice-versa(binary number will be in string format which consists of one and zeroes)\n",
    "# a=\"0001\"\n",
    "# i=0\n",
    "# s=0\n",
    "# while i<len(a):\n",
    "#     if a[i]=='1':\n",
    "#         s=s+2**i\n",
    "#     i+=1\n",
    "# print(s)\n",
    "    "
   ]
  },
  {
   "cell_type": "code",
   "execution_count": 1,
   "metadata": {},
   "outputs": [
    {
     "name": "stdout",
     "output_type": "stream",
     "text": [
      "13\n"
     ]
    }
   ],
   "source": [
    "# a = \"1101\"\n",
    "# i = len(a)-1\n",
    "# s = 0\n",
    "# j=0\n",
    "# while i>=0:\n",
    "#     if a[i] == '1': \n",
    "#         s+=2**j\n",
    "#     elif a[i]==0:\n",
    "#         s+=0\n",
    "#     i -= 1\n",
    "#     j=j+1\n",
    "# print(s)  \n"
   ]
  },
  {
   "cell_type": "code",
   "execution_count": 2,
   "metadata": {},
   "outputs": [
    {
     "name": "stdout",
     "output_type": "stream",
     "text": [
      "13\n"
     ]
    }
   ],
   "source": [
    "a = '1101'\n",
    "a = a[::-1]  # Reverse the binary string\n",
    "dec = 0\n",
    "i = 0\n",
    "while i < len(a):\n",
    "    dec += (2**i) * int(a[i])\n",
    "    i += 1\n",
    "print(dec)\n",
    "\n"
   ]
  },
  {
   "cell_type": "code",
   "execution_count": 3,
   "metadata": {},
   "outputs": [
    {
     "data": {
      "text/plain": [
       "'0b10001001101'"
      ]
     },
     "execution_count": 3,
     "metadata": {},
     "output_type": "execute_result"
    }
   ],
   "source": [
    "bin(1101)"
   ]
  },
  {
   "cell_type": "code",
   "execution_count": 58,
   "metadata": {},
   "outputs": [
    {
     "data": {
      "text/plain": [
       "'0b1101'"
      ]
     },
     "execution_count": 58,
     "metadata": {},
     "output_type": "execute_result"
    }
   ],
   "source": [
    "#decimal to binary\n",
    "a=13\n",
    "bin=''\n",
    "while a!=0:\n",
    "    b=a%2\n",
    "    bin=str(b)+bin"
   ]
  },
  {
   "cell_type": "code",
   "execution_count": 55,
   "metadata": {},
   "outputs": [
    {
     "data": {
      "text/plain": [
       "0"
      ]
     },
     "execution_count": 55,
     "metadata": {},
     "output_type": "execute_result"
    }
   ],
   "source": [
    "a=13\n",
    "c=a%2\n",
    "d=a//2\n",
    "print(c)\n",
    "print(d)"
   ]
  }
 ],
 "metadata": {
  "kernelspec": {
   "display_name": "Python 3",
   "language": "python",
   "name": "python3"
  },
  "language_info": {
   "codemirror_mode": {
    "name": "ipython",
    "version": 3
   },
   "file_extension": ".py",
   "mimetype": "text/x-python",
   "name": "python",
   "nbconvert_exporter": "python",
   "pygments_lexer": "ipython3",
   "version": "3.11.1"
  }
 },
 "nbformat": 4,
 "nbformat_minor": 2
}
