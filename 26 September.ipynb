{
 "cells": [
  {
   "cell_type": "code",
   "execution_count": 6,
   "metadata": {},
   "outputs": [
    {
     "name": "stdout",
     "output_type": "stream",
     "text": [
      "120\n"
     ]
    }
   ],
   "source": [
    "#WAP to find factorial of a number\n",
    "a=5\n",
    "f=1\n",
    "for i in range(1,a+1):\n",
    "    f=f*i\n",
    "print(f)\n"
   ]
  },
  {
   "cell_type": "code",
   "execution_count": 17,
   "metadata": {},
   "outputs": [
    {
     "name": "stdout",
     "output_type": "stream",
     "text": [
      "110\n"
     ]
    }
   ],
   "source": [
    "#sum between any range\n",
    "sum=0\n",
    "for i in range(0,21,2):\n",
    "    sum+=i\n",
    "print(sum)"
   ]
  },
  {
   "cell_type": "code",
   "execution_count": null,
   "metadata": {},
   "outputs": [
    {
     "name": "stdout",
     "output_type": "stream",
     "text": [
      "Mutables [[1, 2, 3], {1}]\n",
      "Immutables ['sadfgh', 23, 1.5]\n"
     ]
    }
   ],
   "source": [
    "#WAP to divide the list collection into two parts which includes mutable and immutables\n",
    "#No range\n",
    "\n",
    "a=[\"sadfgh\",23,[1,2,3],{1},1.5]\n",
    "b=[]\n",
    "c=[]\n",
    "for i in a:\n",
    "    if type(i) in [list,set,dict]:\n",
    "        b+=[i]\n",
    "    else:\n",
    "        c+=[i]\n",
    "print(\"Mutables\",b)\n",
    "print(\"Immutables\",c)"
   ]
  },
  {
   "cell_type": "code",
   "execution_count": 29,
   "metadata": {},
   "outputs": [
    {
     "name": "stdout",
     "output_type": "stream",
     "text": [
      "Mutables [[1, 2, 3], {1}]\n",
      "Immutables ['sadfgh', 23, 1.5]\n"
     ]
    }
   ],
   "source": [
    "#Using range\n",
    "\n",
    "a=[\"sadfgh\",23,[1,2,3],{1},1.5]\n",
    "b=[]\n",
    "c=[]\n",
    "for i in range(len(a)):\n",
    "    if type(a[i]) in [list,set,dict]:\n",
    "        b+=[a[i]]\n",
    "    else:\n",
    "        c+=[a[i]]\n",
    "print(\"Mutables\",b)\n",
    "print(\"Immutables\",c)\n",
    "\n"
   ]
  },
  {
   "cell_type": "code",
   "execution_count": 17,
   "metadata": {},
   "outputs": [
    {
     "name": "stdout",
     "output_type": "stream",
     "text": [
      "101214\n",
      "024681618\n"
     ]
    }
   ],
   "source": [
    "a=\"AQWDYGWYasdrfgthyui1234567890!@#$%^&*()\"\n",
    "c=''\n",
    "d=\"\"\n",
    "for i in range(0,len(a),2):\n",
    "    if 'A'<=a[i]<='Z' or 'a'<=a[i]<='z':\n",
    "        if ord(a[i])%2==0 and str(ord(a[i]))[::-1]:\n",
    "            c+=str(i)\n",
    "        else:\n",
    "            d+=str(i)\n",
    "print(c)\n",
    "print(d)\n"
   ]
  },
  {
   "cell_type": "code",
   "execution_count": 1,
   "metadata": {},
   "outputs": [
    {
     "name": "stdout",
     "output_type": "stream",
     "text": [
      "Ea@r#L@\n",
      "\n"
     ]
    }
   ],
   "source": [
    "a=\"rE#aL@@\"\n",
    "alpha=''\n",
    "rem=''\n",
    "\n",
    "for i in range(1,len(a),2):\n",
    "    if 'A'<=a[i]<='Z' or 'a'<=a[i]<='z':\n",
    "        if ord(a[i])%2==0 and str(ord(a[i]))[::-1]==str(ord(a[i])):\n",
    "            alpha+=str(a[i])\n",
    "        else:\n",
    "            rem+=str(a[i])\n",
    "    else:\n",
    "        rem+=str(a[i])\n",
    "for j in range(0,len(a),2):\n",
    "    rem+=str(a[j])\n",
    "print(rem)\n",
    "print(alpha)\n",
    "\n"
   ]
  },
  {
   "cell_type": "code",
   "execution_count": null,
   "metadata": {},
   "outputs": [],
   "source": []
  },
  {
   "cell_type": "code",
   "execution_count": null,
   "metadata": {},
   "outputs": [],
   "source": []
  }
 ],
 "metadata": {
  "kernelspec": {
   "display_name": "Python 3",
   "language": "python",
   "name": "python3"
  },
  "language_info": {
   "codemirror_mode": {
    "name": "ipython",
    "version": 3
   },
   "file_extension": ".py",
   "mimetype": "text/x-python",
   "name": "python",
   "nbconvert_exporter": "python",
   "pygments_lexer": "ipython3",
   "version": "3.11.1"
  }
 },
 "nbformat": 4,
 "nbformat_minor": 2
}
