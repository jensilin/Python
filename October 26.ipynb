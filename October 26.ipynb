{
 "cells": [
  {
   "cell_type": "markdown",
   "metadata": {},
   "source": [
    "Types of methods:\n",
    "    Object method\n",
    "    Class method\n",
    "    Static method\n",
    "\n",
    "\n",
    "Object Method : It is a method which is used to access and modify the object members \n",
    "    Self is a mandatory argument which have to be passed as the first argument to store the address of an object \n",
    "    **Other than self any variable can be used **\n",
    "\n",
    "    Class cname:\n",
    "        properties / functionalities\n",
    "        Static\n",
    "\n",
    "        def membername(self,arg):\n",
    "            S.B\n",
    "\n",
    "    object=cname(arg)\n"
   ]
  },
  {
   "cell_type": "code",
   "execution_count": 14,
   "metadata": {},
   "outputs": [
    {
     "name": "stdout",
     "output_type": "stream",
     "text": [
      "Obito Uchiha 897456321 800 7412589636\n",
      "Madara Uchiha 78541236985 124 74125859635\n",
      "None\n",
      "Obito Uchiha 897456321 800 741258\n"
     ]
    },
    {
     "data": {
      "text/plain": [
       "'Axis bank'"
      ]
     },
     "execution_count": 14,
     "metadata": {},
     "output_type": "execute_result"
    }
   ],
   "source": [
    "class Bank:\n",
    "    bank_name=\"Axis bank\"\n",
    "    manager=\"Naruto\"\n",
    "    counter=5\n",
    "    def __init__(self,name,ac_num,bal,pho):\n",
    "        self.name=name\n",
    "        self.ac_num=ac_num\n",
    "        self.bal=bal\n",
    "        self.pho=pho\n",
    "    \n",
    "    def dis(self):\n",
    "        print(self.name,self.ac_num,self.bal,self.pho)\n",
    "    \n",
    "    def ch_pho(self,new):\n",
    "        self.pho=new\n",
    "\n",
    "obito=Bank(\"Obito Uchiha\",897456321,800,7412589636)\n",
    "maadara=Bank(\"Madara Uchiha\",78541236985,124,74125859635)\n",
    "\n",
    "obito.dis()\n",
    "print(maadara.dis())\n",
    "\n",
    "obito.ch_pho(741258)\n",
    "obito.dis()\n",
    "\n",
    "Bank.bank_name"
   ]
  },
  {
   "cell_type": "markdown",
   "metadata": {},
   "source": [
    "Class Method \n",
    "        It is a method which is used to access and modify the members of the class\n",
    "        A decoraator @classmethod have to be used.\n",
    "        Here cls will be passed as first argument (other variables can also be used)\n",
    "\n",
    "        Syntax:\n",
    "        \n",
    "        Class cname:\n",
    "        Properties / Functionalities\n",
    "        States / Behavior\n",
    "\n",
    "        @classmethod\n",
    "        def membername(cls,arg):\n",
    "            S.B\n",
    "\n",
    "    object=cname(arg)"
   ]
  },
  {
   "cell_type": "code",
   "execution_count": null,
   "metadata": {},
   "outputs": [],
   "source": [
    "a=[1,2,3,4]\n",
    "print(a)"
   ]
  },
  {
   "cell_type": "code",
   "execution_count": 19,
   "metadata": {},
   "outputs": [
    {
     "name": "stdout",
     "output_type": "stream",
     "text": [
      "Axis bank Naruto 5\n",
      "NARUTO\n",
      "Axis bank NARUTO 5\n"
     ]
    }
   ],
   "source": [
    "class Bank:\n",
    "    bank_name=\"Axis bank\"\n",
    "    manager=\"Naruto\"\n",
    "    counter=5\n",
    "    def __init__(self,name,ac_num,bal,pho):\n",
    "        self.name=name\n",
    "        self.ac_num=ac_num\n",
    "        self.bal=bal\n",
    "        self.pho=pho\n",
    "    \n",
    "    def dis(self):\n",
    "        print(self.name,self.ac_num,self.bal,self.pho)\n",
    "    \n",
    "    def ch_pho(self,new):\n",
    "        self.pho=new\n",
    "    \n",
    "    @classmethod\n",
    "    def display_class(cls):\n",
    "        print(cls.bank_name,cls.manager,cls.counter)\n",
    "    \n",
    "    @classmethod\n",
    "    def ch_manager(cls):\n",
    "        new=input(\"Enter\")\n",
    "        cls.manager=new\n",
    "        print(cls.manager)\n",
    "\n",
    "Bank.display_class()\n",
    "\n",
    "Bank.ch_manager()\n",
    "\n",
    "Bank.display_class()\n",
    "# obito=Bank(\"Obito Uchiha\",897456321,800,7412589636)\n",
    "# maadara=Bank(\"Madara Uchiha\",78541236985,124,74125859635)\n",
    "\n",
    "# obito.dis()\n",
    "# print(maadara.dis())\n",
    "\n",
    "# obito.ch_pho(741258)\n",
    "# obito.dis()\n"
   ]
  },
  {
   "cell_type": "markdown",
   "metadata": {},
   "source": [
    "Static Method \n",
    "        It is a method which neither belong to class member or object member but it place a supporting role for both class members and object members.\n",
    "        Decorator static method have to be passed before its declaration .\n",
    "        cls and self is not used.\n",
    "        it is not neccessary to call static method outside the class.\n",
    "\n",
    "        To call static method inside the class\n",
    "        Syntax:\n",
    "        \n",
    "        Class cname:\n",
    "        Properties / Functionalities\n",
    "        States / Behavior\n",
    "\n",
    "        @staticmethod\n",
    "        def membername(arg):\n",
    "            S.B\n",
    "        \n",
    "        "
   ]
  },
  {
   "cell_type": "code",
   "execution_count": 30,
   "metadata": {},
   "outputs": [
    {
     "name": "stdout",
     "output_type": "stream",
     "text": [
      "Obito Uchiha 897456321 80000 7412589636\n",
      "Obito Uchiha 897456321 80000 7412589636\n",
      "The amount credited is  20000\n",
      "Obito Uchiha 897456321 100000 7412589636\n"
     ]
    }
   ],
   "source": [
    "class Bank:\n",
    "    bank_name=\"Axis bank\"\n",
    "    manager=\"Naruto\"\n",
    "    counter=5\n",
    "    def __init__(self,name,ac_num,bal,pho):\n",
    "        self.name=name\n",
    "        self.ac_num=ac_num\n",
    "        self.bal=bal\n",
    "        self.pho=pho\n",
    "    \n",
    "    def dis(self):\n",
    "        print(self.name,self.ac_num,self.bal,self.pho)\n",
    "    \n",
    "    def ch_pho(self,new):\n",
    "        self.pho=new\n",
    "    \n",
    "    @classmethod\n",
    "    def display_class(cls):\n",
    "        print(cls.bank_name,cls.manager,cls.counter)\n",
    "    \n",
    "    @classmethod\n",
    "    def ch_manager(cls):\n",
    "        new=input(\"Enter\")\n",
    "        cls.manager=new\n",
    "        print(cls.manager)\n",
    "\n",
    "    def withdraw(self,amt):\n",
    "        if amt>self.bal:\n",
    "            self.bal=self.sub(self.bal,amt)\n",
    "    \n",
    "    def deposit(self,amt):\n",
    "        self.bal=self.add(self.bal,amt)\n",
    "        print(\"The amount credited is \",amt)\n",
    "    \n",
    "    @staticmethod\n",
    "    def add(x,y):\n",
    "        return x+y\n",
    "    \n",
    "    @staticmethod\n",
    "    def sub(x,y):\n",
    "        return x-y\n",
    "\n",
    "# Bank.display_class()\n",
    "\n",
    "# Bank.ch_manager()\n",
    "\n",
    "# Bank.display_class()\n",
    "obito=Bank(\"Obito Uchiha\",897456321,80000,7412589636)\n",
    "obito.dis()\n",
    "obito.withdraw(10000)\n",
    "obito.dis()\n",
    "obito.deposit(20000)\n",
    "obito.dis()\n",
    "# maadara=Bank(\"Madara Uchiha\",78541236985,124,74125859635)\n",
    "\n",
    "# obito.dis()\n",
    "# print(maadara.dis())\n",
    "\n",
    "# obito.ch_pho(741258)\n",
    "# obito.dis()"
   ]
  },
  {
   "cell_type": "code",
   "execution_count": 1,
   "metadata": {},
   "outputs": [
    {
     "name": "stdout",
     "output_type": "stream",
     "text": [
      "Obito Uchiha 897456321 80000 7412589636\n",
      "The amount credited is  500\n",
      "Obito Uchiha 897456321 80400 7412589636\n",
      "Madara Uchiha 78541236985 224 74125859635\n",
      "The amount to be withdrawn is 1000 and the balance is 80000\n",
      "The amount to be deposited is 500 and the balance is 80500\n",
      "The amount to be transferred is 100 and the balance is 80400 and sent to Madara Uchiha\n"
     ]
    }
   ],
   "source": [
    "class Bank:\n",
    "    bank_name=\"Axis bank\"\n",
    "    manager=\"Naruto\"\n",
    "    counter=5\n",
    "    def __init__(self,name,ac_num,bal,pho):\n",
    "        self.name=name\n",
    "        self.ac_num=ac_num\n",
    "        self.bal=bal\n",
    "        self.pho=pho\n",
    "        self.transaction=[]\n",
    "    \n",
    "    def dis(self):\n",
    "        print(self.name,self.ac_num,self.bal,self.pho)\n",
    "    \n",
    "    def ch_pho(self,new):\n",
    "        self.pho=new\n",
    "    \n",
    "    @classmethod\n",
    "    def display_class(cls):\n",
    "        print(cls.bank_name,cls.manager,cls.counter)\n",
    "    \n",
    "    @classmethod\n",
    "    def ch_manager(cls):\n",
    "        new=input(\"Enter\")\n",
    "        cls.manager=new\n",
    "        print(cls.manager)\n",
    "\n",
    "    def withdraw(self,amt):\n",
    "        if amt>self.bal:\n",
    "            self.bal=self.sub(self.bal,amt)\n",
    "        self.transaction+=[f'The amount to be withdrawn is {amt} and the balance is {self.bal}']\n",
    "    \n",
    "    def deposit(self,amt):\n",
    "        self.bal=self.add(self.bal,amt)\n",
    "        print(\"The amount credited is \",amt)\n",
    "        self.transaction+=[f'The amount to be deposited is {amt} and the balance is {self.bal}']\n",
    "    \n",
    "    @staticmethod\n",
    "    def add(x,y):\n",
    "        return x+y\n",
    "    \n",
    "    @staticmethod\n",
    "    def sub(x,y):\n",
    "        return x-y\n",
    "    \n",
    "    def transfer(self,sender):\n",
    "        amt=int(input(\"enter \"))\n",
    "        if self.bal>amt:\n",
    "            self.bal-=amt\n",
    "            sender.bal+=amt\n",
    "            self.transaction+=[f'The amount to be transferred is {amt} and the balance is {self.bal} and sent to {sender.name}']\n",
    "        else:\n",
    "            print(\"No money\")\n",
    "    \n",
    "    def passbook(self):\n",
    "        for i in self.transaction:\n",
    "            print(i)\n",
    "\n",
    "obito=Bank(\"Obito Uchiha\",897456321,80000,7412589636)\n",
    "maadara=Bank(\"Madara Uchiha\",78541236985,124,74125859635)\n",
    "obito.dis()\n",
    "obito.withdraw(1000)\n",
    "obito.deposit(500)\n",
    "obito.transfer(maadara)\n",
    "obito.dis()\n",
    "maadara.dis()\n",
    "obito.passbook()"
   ]
  },
  {
   "cell_type": "code",
   "execution_count": null,
   "metadata": {},
   "outputs": [],
   "source": []
  },
  {
   "cell_type": "code",
   "execution_count": null,
   "metadata": {},
   "outputs": [],
   "source": []
  }
 ],
 "metadata": {
  "kernelspec": {
   "display_name": "Python 3",
   "language": "python",
   "name": "python3"
  },
  "language_info": {
   "codemirror_mode": {
    "name": "ipython",
    "version": 3
   },
   "file_extension": ".py",
   "mimetype": "text/x-python",
   "name": "python",
   "nbconvert_exporter": "python",
   "pygments_lexer": "ipython3",
   "version": "3.11.1"
  }
 },
 "nbformat": 4,
 "nbformat_minor": 2
}
