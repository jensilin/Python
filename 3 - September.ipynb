{
 "cells": [
  {
   "cell_type": "code",
   "execution_count": 6,
   "id": "307d28fe",
   "metadata": {},
   "outputs": [
    {
     "name": "stdout",
     "output_type": "stream",
     "text": [
      "Enter the palindrome MALAYALAM\n",
      "It is a palindrome MALAYALAM\n"
     ]
    }
   ],
   "source": [
    "#WAP to check wheather the entered string is palindrome\n",
    "a=input(\"Enter the palindrome \")\n",
    "if a in a[::-1]:\n",
    "    print(\"It is a palindrome\",a)\n",
    "else:\n",
    "    print(\"It is not a palindrome\",a)"
   ]
  },
  {
   "cell_type": "code",
   "execution_count": null,
   "id": "3edc5d23",
   "metadata": {},
   "outputs": [],
   "source": [
    "#WAP to check wheather the entered character is speacial character or not\n",
    "a=input(\"Enter the string\")\n",
    "\n",
    "if 32<=ord(a)<=47 or  58<=ord(a)<=64 or  123<=ord(a)<=126:\n",
    "            print(\"Special\")    "
   ]
  },
  {
   "cell_type": "code",
   "execution_count": null,
   "id": "b68e9855",
   "metadata": {},
   "outputs": [],
   "source": [
    "b=input(\"Enter the string\")\n",
    "if not('A'<=b<='Z' or 'a'<=b<='z' or '1'<=b<='9'):\n",
    "    print(\"It is a special character\")\n",
    "else:\n",
    "    print(\"It is not a special character\")"
   ]
  },
  {
   "cell_type": "code",
   "execution_count": 2,
   "id": "a3d3d7aa",
   "metadata": {},
   "outputs": [
    {
     "name": "stdout",
     "output_type": "stream",
     "text": [
      "The entered character is lower case\n"
     ]
    }
   ],
   "source": [
    "#WAP to check whether the entered character is upper case or lower case or digits or a special character\n",
    "a = input(\"Enter the string\")\n",
    "if ('A'<=a<='Z'):\n",
    "    print(\"The entered character is upper case\")\n",
    "elif 'a'<=a<='z':\n",
    "    print(\"The entered character is lower case\")\n",
    "elif '1'<=a<='9':\n",
    "    print(\"The entered character is digits\")\n",
    "else:\n",
    "    print(\"Special character\")\n"
   ]
  },
  {
   "cell_type": "code",
   "execution_count": 14,
   "id": "dd0b555a",
   "metadata": {},
   "outputs": [
    {
     "name": "stdout",
     "output_type": "stream",
     "text": [
      "Dict\n"
     ]
    }
   ],
   "source": [
    "#WAP to check whether the first value of a list collection belongs to which collection datatype\n",
    "a = eval(input(\"Enter the list\"))\n",
    "if type(a[0])==list:\n",
    "    print(\"List\")\n",
    "elif type(a[0])==dict:\n",
    "    print(\"Dict\")\n",
    "elif type(a[0])==set:\n",
    "    print(\"Set\")\n",
    "elif type(a[0])==tuple:\n",
    "    print(\"Tuple\")    \n",
    "else:\n",
    "    print(\"It is not a collection data type\")"
   ]
  },
  {
   "cell_type": "code",
   "execution_count": 10,
   "id": "7f499dce",
   "metadata": {},
   "outputs": [
    {
     "data": {
      "text/plain": [
       "int"
      ]
     },
     "execution_count": 10,
     "metadata": {},
     "output_type": "execute_result"
    }
   ],
   "source": [
    "a=eval(input(\"fgdvhfjmk\"))\n",
    "type(a[0])"
   ]
  },
  {
   "cell_type": "code",
   "execution_count": 5,
   "id": "c216e4d4",
   "metadata": {},
   "outputs": [],
   "source": [
    "#WAP to check whether the string is having middle character or not and print if it is present(middle character)\n",
    "# a= input(\"Enter the string\")\n",
    "# first_index=a[0]\n",
    "# last_index=a[-1]\n",
    "# mid= first_index+(last_index-first_index)//2\n",
    "# if len(a)%2==1:\n",
    "#     print(a[mid])\n",
    "    "
   ]
  },
  {
   "cell_type": "code",
   "execution_count": 19,
   "id": "73d2ffa7",
   "metadata": {},
   "outputs": [
    {
     "name": "stdout",
     "output_type": "stream",
     "text": [
      "Middle character: L\n"
     ]
    }
   ],
   "source": [
    "#WAP to check whether the string is having middle character or not and print if it is present(middle character)\n",
    "a = input(\"Enter the string: \")\n",
    "if len(a) % 2 == 1:\n",
    "    mid_index = len(a) // 2\n",
    "    print(\"Middle character:\", a[mid_index])\n",
    "else:\n",
    "    print(\"The string has no middle character.\")\n"
   ]
  },
  {
   "cell_type": "code",
   "execution_count": null,
   "id": "18847887",
   "metadata": {},
   "outputs": [],
   "source": []
  }
 ],
 "metadata": {
  "kernelspec": {
   "display_name": "Python 3",
   "language": "python",
   "name": "python3"
  },
  "language_info": {
   "codemirror_mode": {
    "name": "ipython",
    "version": 3
   },
   "file_extension": ".py",
   "mimetype": "text/x-python",
   "name": "python",
   "nbconvert_exporter": "python",
   "pygments_lexer": "ipython3",
   "version": "3.11.1"
  }
 },
 "nbformat": 4,
 "nbformat_minor": 5
}
