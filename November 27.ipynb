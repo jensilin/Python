{
 "cells": [
  {
   "cell_type": "markdown",
   "metadata": {},
   "source": [
    "Exception handling\n",
    "    Exception is an unauthorised event occured during execution of \n",
    "\n",
    "    It can be handled usimg try and except block\n",
    "\n",
    "    Exception handling is of three types:\n",
    "        Specific Exception handling\n",
    "        Generic Exeption handling\n",
    "        Default Exeption handling\n",
    "\n",
    "    Specific Exception Handling\n",
    "            Whenever the name of the error is known specific exception handling is used\n",
    "\n",
    "            Syntax:\n",
    "                try:\n",
    "                    program\n",
    "                except Exception Name:\n",
    "                    Solution\n",
    "            \n",
    "            Except block will be executed when there is an error in an program \n",
    "            Multiple except can be wriiten \n",
    "            "
   ]
  },
  {
   "cell_type": "code",
   "execution_count": 2,
   "metadata": {},
   "outputs": [
    {
     "name": "stdout",
     "output_type": "stream",
     "text": [
      "Denominator cannot be zero\n"
     ]
    }
   ],
   "source": [
    "# Specific Exception Handling\n",
    "try: \n",
    "    a=int(input())\n",
    "    b=int(input())\n",
    "    print(a/b)\n",
    "except ZeroDivisionError:\n",
    "    print(\"Denominator cannot be zero\")\n",
    "except ValueError:\n",
    "    print(\"Given other than integers\")"
   ]
  },
  {
   "cell_type": "code",
   "execution_count": null,
   "metadata": {},
   "outputs": [],
   "source": [
    "#We use try except because when there is an large number of lines of program because of simple mistake code will get terminated to avoid that we use try except\n",
    "\n",
    "def some():\n",
    "    try: \n",
    "        a=int(input())\n",
    "        b=int(input())\n",
    "        print(a/b)\n",
    "    except ZeroDivisionError:\n",
    "        print(\"Denominator cannot be zero\")\n",
    "    except ValueError:\n",
    "        print(\"Given other than integers\")\n",
    "some()\n",
    "print(\"hfkjld\")\n",
    "some()\n",
    "print(\"defrgty\")"
   ]
  },
  {
   "cell_type": "markdown",
   "metadata": {},
   "source": [
    "Generic Exception handling\n",
    "    It is a type of exception handling which handles all the types of errors.\n",
    "    Generic exception handling will not handle keyboard interupt error \n",
    "    [While excecution of program if a user clicks on ctrl+c it throws keyboard interupt error]\n",
    "    Syntax:\n",
    "        try:\n",
    "            program\n",
    "        except exception:\n",
    "            solution"
   ]
  },
  {
   "cell_type": "code",
   "execution_count": 2,
   "metadata": {},
   "outputs": [
    {
     "name": "stdout",
     "output_type": "stream",
     "text": [
      "There is a error in the code\n"
     ]
    }
   ],
   "source": [
    "def some():\n",
    "    try: \n",
    "        a=int(input())\n",
    "        b=int(input())\n",
    "        print(a/b)\n",
    "    except Exception:\n",
    "        print(\"There is a error in the code\")\n",
    "some()"
   ]
  },
  {
   "cell_type": "markdown",
   "metadata": {},
   "source": [
    "Default Exception Handling \n",
    "        It is a type of exception handling which handles all the types of error including keyboard interupt error.\n",
    "\n",
    "        Syntax:\n",
    "            try:\n",
    "                program\n",
    "            except:\n",
    "                solution"
   ]
  },
  {
   "cell_type": "code",
   "execution_count": null,
   "metadata": {},
   "outputs": [],
   "source": [
    "try :\n",
    "    while True:\n",
    "        print(\"Hello\")\n",
    "except:\n",
    "    print(\"There is an error\")"
   ]
  },
  {
   "cell_type": "markdown",
   "metadata": {},
   "source": [
    "Else block:    \n",
    "    It is possible to write else block for try and except \n",
    "    It is executed when there are no errors in the program\n",
    "\n",
    "Finally :\n",
    "    It is block which will be executed with or without exception in a proggram \n",
    "\n",
    "try:\n",
    "    program\n",
    "except:\n",
    "    solution\n",
    "else:\n",
    "    F.S.B\n",
    "finally:\n",
    "    S.B"
   ]
  },
  {
   "cell_type": "code",
   "execution_count": 3,
   "metadata": {},
   "outputs": [
    {
     "name": "stdout",
     "output_type": "stream",
     "text": [
      "Error ide\n",
      "I will be excuted always\n"
     ]
    }
   ],
   "source": [
    "try:\n",
    "    a=int(input())\n",
    "    b=int(input())\n",
    "    print (a/b)\n",
    "except :\n",
    "    print(\"Error ide\")\n",
    "else:\n",
    "    print(\"No Error\")\n",
    "finally:\n",
    "    print(\"I will be excuted always\")"
   ]
  },
  {
   "cell_type": "markdown",
   "metadata": {},
   "source": [
    "Custom Exception:\n",
    "    In python it is possible to throw a error name based on the user-requirement using raise keyword.\n",
    "\n",
    "    Syntax:\n",
    "        raise ExceptioName('message')\n",
    "\n",
    "        'message' is optional\n",
    "        The ExeptionName used shoukd be a the standard ExeptionName.\n",
    "\n",
    "    User-Defined Exception:\n",
    "        When a error name have to be declared based on user requirement \n",
    "            class cname(Exception):\n",
    "                pass\n",
    "            raise cname(Exception)"
   ]
  },
  {
   "cell_type": "code",
   "execution_count": 4,
   "metadata": {},
   "outputs": [
    {
     "ename": "ValueError",
     "evalue": "a is lesser",
     "output_type": "error",
     "traceback": [
      "\u001b[1;31m---------------------------------------------------------------------------\u001b[0m",
      "\u001b[1;31mValueError\u001b[0m                                Traceback (most recent call last)",
      "Cell \u001b[1;32mIn[4], line 7\u001b[0m\n\u001b[0;32m      5\u001b[0m     \u001b[38;5;28mprint\u001b[39m(\u001b[38;5;124m\"\u001b[39m\u001b[38;5;124ma is greates\u001b[39m\u001b[38;5;124m\"\u001b[39m)\n\u001b[0;32m      6\u001b[0m \u001b[38;5;28;01melse\u001b[39;00m:\n\u001b[1;32m----> 7\u001b[0m     \u001b[38;5;28;01mraise\u001b[39;00m \u001b[38;5;167;01mValueError\u001b[39;00m(\u001b[38;5;124m\"\u001b[39m\u001b[38;5;124ma is lesser\u001b[39m\u001b[38;5;124m\"\u001b[39m)\n",
      "\u001b[1;31mValueError\u001b[0m: a is lesser"
     ]
    }
   ],
   "source": [
    "a=int(input())\n",
    "b=int(input())\n",
    "\n",
    "if a>b:\n",
    "    print(\"a is greates\")\n",
    "else:\n",
    "    raise ValueError(\"a is lesser\")"
   ]
  },
  {
   "cell_type": "code",
   "execution_count": 5,
   "metadata": {},
   "outputs": [
    {
     "ename": "luffy",
     "evalue": "Lo shyaaaa",
     "output_type": "error",
     "traceback": [
      "\u001b[1;31m---------------------------------------------------------------------------\u001b[0m",
      "\u001b[1;31mluffy\u001b[0m                                     Traceback (most recent call last)",
      "Cell \u001b[1;32mIn[5], line 10\u001b[0m\n\u001b[0;32m      8\u001b[0m     \u001b[38;5;28mprint\u001b[39m(\u001b[38;5;124m\"\u001b[39m\u001b[38;5;124ma is greates\u001b[39m\u001b[38;5;124m\"\u001b[39m)\n\u001b[0;32m      9\u001b[0m \u001b[38;5;28;01melse\u001b[39;00m:\n\u001b[1;32m---> 10\u001b[0m     \u001b[38;5;28;01mraise\u001b[39;00m luffy(\u001b[38;5;124m\"\u001b[39m\u001b[38;5;124mLo shyaaaa\u001b[39m\u001b[38;5;124m\"\u001b[39m)\n",
      "\u001b[1;31mluffy\u001b[0m: Lo shyaaaa"
     ]
    }
   ],
   "source": [
    "class luffy(Exception):\n",
    "    pass\n",
    "\n",
    "a=int(input())\n",
    "b=int(input())\n",
    "\n",
    "if a>b:\n",
    "    print(\"a is greates\")\n",
    "else:\n",
    "    raise luffy(\"Lo shyaaaa\")"
   ]
  },
  {
   "cell_type": "code",
   "execution_count": 7,
   "metadata": {},
   "outputs": [
    {
     "ename": "palindrome_not_found",
     "evalue": "Lo shyaaaa",
     "output_type": "error",
     "traceback": [
      "\u001b[1;31m---------------------------------------------------------------------------\u001b[0m",
      "\u001b[1;31mpalindrome_not_found\u001b[0m                      Traceback (most recent call last)",
      "Cell \u001b[1;32mIn[7], line 10\u001b[0m\n\u001b[0;32m      8\u001b[0m     \u001b[38;5;28mprint\u001b[39m(\u001b[38;5;124m\"\u001b[39m\u001b[38;5;124mPalindrome\u001b[39m\u001b[38;5;124m\"\u001b[39m)\n\u001b[0;32m      9\u001b[0m \u001b[38;5;28;01melse\u001b[39;00m:\n\u001b[1;32m---> 10\u001b[0m     \u001b[38;5;28;01mraise\u001b[39;00m palindrome_not_found(\u001b[38;5;124m\"\u001b[39m\u001b[38;5;124mLo shyaaaa\u001b[39m\u001b[38;5;124m\"\u001b[39m)\n",
      "\u001b[1;31mpalindrome_not_found\u001b[0m: Lo shyaaaa"
     ]
    }
   ],
   "source": [
    "#WAP to print palindrome if the string is palindrome, if not raise a error-name \n",
    "\n",
    "class palindrome_not_found(Exception):\n",
    "    pass\n",
    "\n",
    "a=input()\n",
    "if a==a[::-1]:\n",
    "    print(\"Palindrome\")\n",
    "else:\n",
    "    raise palindrome_not_found(\"Lo shyaaaa\")"
   ]
  },
  {
   "cell_type": "markdown",
   "metadata": {},
   "source": [
    "Assert :\n",
    "    Whenever  the exception have to be thrown based on a condition assert keyword is used.\n",
    "    Syntax:\n",
    "        assert condition, 'message'\n",
    "        S.B\n",
    "\n",
    "        If condition is used statement block will be executed \n",
    "        If the condition is False it throws assertion error with the message \n",
    "        Here message is optional "
   ]
  },
  {
   "cell_type": "code",
   "execution_count": 9,
   "metadata": {},
   "outputs": [
    {
     "ename": "AssertionError",
     "evalue": "not a palindrome",
     "output_type": "error",
     "traceback": [
      "\u001b[1;31m---------------------------------------------------------------------------\u001b[0m",
      "\u001b[1;31mAssertionError\u001b[0m                            Traceback (most recent call last)",
      "Cell \u001b[1;32mIn[9], line 2\u001b[0m\n\u001b[0;32m      1\u001b[0m a\u001b[38;5;241m=\u001b[39m\u001b[38;5;28minput\u001b[39m()\n\u001b[1;32m----> 2\u001b[0m \u001b[38;5;28;01massert\u001b[39;00m a\u001b[38;5;241m==\u001b[39ma[::\u001b[38;5;241m-\u001b[39m\u001b[38;5;241m1\u001b[39m], \u001b[38;5;124m\"\u001b[39m\u001b[38;5;124mnot a palindrome\u001b[39m\u001b[38;5;124m\"\u001b[39m\n\u001b[0;32m      3\u001b[0m \u001b[38;5;28mprint\u001b[39m(\u001b[38;5;124m\"\u001b[39m\u001b[38;5;124mIt is a palindrome\u001b[39m\u001b[38;5;124m\"\u001b[39m)\n",
      "\u001b[1;31mAssertionError\u001b[0m: not a palindrome"
     ]
    }
   ],
   "source": [
    "a=input()\n",
    "assert a==a[::-1], \"not a palindrome\"\n",
    "print(\"It is a palindrome\")"
   ]
  },
  {
   "cell_type": "code",
   "execution_count": null,
   "metadata": {},
   "outputs": [],
   "source": []
  }
 ],
 "metadata": {
  "kernelspec": {
   "display_name": "Python 3",
   "language": "python",
   "name": "python3"
  },
  "language_info": {
   "codemirror_mode": {
    "name": "ipython",
    "version": 3
   },
   "file_extension": ".py",
   "mimetype": "text/x-python",
   "name": "python",
   "nbconvert_exporter": "python",
   "pygments_lexer": "ipython3",
   "version": "3.11.1"
  }
 },
 "nbformat": 4,
 "nbformat_minor": 2
}
