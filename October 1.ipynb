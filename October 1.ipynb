{
 "cells": [
  {
   "cell_type": "code",
   "execution_count": 1,
   "metadata": {},
   "outputs": [
    {
     "name": "stdout",
     "output_type": "stream",
     "text": [
      "1\n",
      "3\n",
      "4\n",
      "5\n"
     ]
    }
   ],
   "source": [
    "#Continue statement \n",
    "for i in range(1,6):\n",
    "    if i==2:\n",
    "        continue\n",
    "    else:\n",
    "        print(i)"
   ]
  },
  {
   "cell_type": "code",
   "execution_count": 4,
   "metadata": {},
   "outputs": [],
   "source": [
    "for i in range(1,6):\n",
    "    continue\n",
    "    print(i)"
   ]
  },
  {
   "cell_type": "code",
   "execution_count": 3,
   "metadata": {},
   "outputs": [
    {
     "name": "stdout",
     "output_type": "stream",
     "text": [
      "1\n",
      "2\n",
      "3\n",
      "4\n",
      "5\n"
     ]
    }
   ],
   "source": [
    "for i in range(1,6):\n",
    "    print(i)\n",
    "    continue"
   ]
  },
  {
   "cell_type": "code",
   "execution_count": 7,
   "metadata": {},
   "outputs": [
    {
     "name": "stdout",
     "output_type": "stream",
     "text": [
      "[2, 4, 6, 8]\n"
     ]
    }
   ],
   "source": [
    "#WAP to extract even number which are present inside hetrogenous list collection\n",
    "a=[1,2,3,4,6,7,8,\"sdfghjkl\"]\n",
    "b=[]\n",
    "for i in a:\n",
    "    if type(i)==int:\n",
    "        if i%2!=0:\n",
    "            continue\n",
    "        else:\n",
    "            b+=[i]\n",
    "print(b)"
   ]
  },
  {
   "cell_type": "code",
   "execution_count": 13,
   "metadata": {},
   "outputs": [
    {
     "name": "stdout",
     "output_type": "stream",
     "text": [
      "10\n"
     ]
    }
   ],
   "source": [
    "#WAP to count the numbers of uppercase alphabets in a given string using continue\n",
    "a=\"ASDFGHqwerty@$%^&045@#$%AERG\"\n",
    "count=0\n",
    "for i in a:\n",
    "    if not ('A'<=i<='Z' or 'a'<=i<='z' or '0'<=i<='9') or 'a'<=i<='z' or '0'<=i<='9':\n",
    "        continue\n",
    "    else:\n",
    "        count+=1\n",
    "print(count)"
   ]
  },
  {
   "cell_type": "code",
   "execution_count": 14,
   "metadata": {},
   "outputs": [
    {
     "name": "stdout",
     "output_type": "stream",
     "text": [
      "10\n"
     ]
    }
   ],
   "source": [
    "#WAP to count the numbers of uppercase alphabets in a given string using continue\n",
    "a=\"ASDFGHqwerty@$%^&045@#$%AERG\"\n",
    "count=0\n",
    "for i in a:\n",
    "    if not ('A'<=i<='Z'):\n",
    "        continue\n",
    "    else:\n",
    "        count+=1\n",
    "print(count)"
   ]
  },
  {
   "cell_type": "code",
   "execution_count": 47,
   "metadata": {},
   "outputs": [
    {
     "name": "stdout",
     "output_type": "stream",
     "text": [
      " 045\n"
     ]
    }
   ],
   "source": [
    "#WAP to extract digits from the string collection\n",
    "a=\"ASDFGHqwerty@$%^&045@#$%AERG\"\n",
    "count=' '\n",
    "for i in a:\n",
    "    if not ('0'<=i<='9'):\n",
    "        continue\n",
    "    else:\n",
    "        count+=i\n",
    "print(count)"
   ]
  },
  {
   "cell_type": "code",
   "execution_count": 1,
   "metadata": {},
   "outputs": [
    {
     "name": "stdout",
     "output_type": "stream",
     "text": [
      "2\n"
     ]
    }
   ],
   "source": [
    "#WAP to get the following output\n",
    "si='1110010'\n",
    "sj='1101010'\n",
    "out=0\n",
    "for i in range(len(si)):\n",
    "    if si[i]!=sj[i]:\n",
    "        out+=1\n",
    "print(out)\n"
   ]
  },
  {
   "cell_type": "code",
   "execution_count": 48,
   "metadata": {},
   "outputs": [
    {
     "name": "stdout",
     "output_type": "stream",
     "text": [
      "{'AE': 2, 'bczb': 4, '8': 1, '#*$': 3}\n"
     ]
    }
   ],
   "source": [
    "st='Abc8#*$zbE'\n",
    "B,c,no,sp=0,0,0,0\n",
    "upr,lwr,num,spc='','','',''\n",
    "for i in st:\n",
    "    if 'A'<=i<='Z':\n",
    "        B+=1\n",
    "        upr+=i\n",
    "    elif 'a'<=i<='z':\n",
    "        c+=1\n",
    "        lwr+=i\n",
    "    elif '0'<=i<='9':\n",
    "        no+=1\n",
    "        num+=i\n",
    "    else:\n",
    "        sp+=1\n",
    "        spc+=i\n",
    "d={upr:B, lwr:c, num:no,spc:sp}\n",
    "print(d)"
   ]
  },
  {
   "cell_type": "code",
   "execution_count": 52,
   "metadata": {},
   "outputs": [
    {
     "name": "stdout",
     "output_type": "stream",
     "text": [
      "{'AE': 2, 'bczb': 4, '8': 1, '#*$': 3}\n"
     ]
    }
   ],
   "source": [
    "st='Abc8#*$zbE'\n",
    "upr,lwr,num,spc='','','',''\n",
    "for i in st:\n",
    "    if 'A'<=i<='Z':\n",
    "        upr+=i\n",
    "    elif 'a'<=i<='z':\n",
    "        lwr+=i\n",
    "    elif '0'<=i<='9':\n",
    "        num+=i\n",
    "    else:\n",
    "        spc+=i\n",
    "d={upr:len(upr), lwr:len(lwr), num:len(num),spc:len(spc)}\n",
    "print(d)"
   ]
  },
  {
   "cell_type": "code",
   "execution_count": 62,
   "metadata": {},
   "outputs": [
    {
     "name": "stdout",
     "output_type": "stream",
     "text": [
      "please enter something\n",
      "please enter something\n",
      "please enter something\n",
      "please enter something\n",
      "DSFRGTYHUJIK\n"
     ]
    }
   ],
   "source": [
    "while True:\n",
    "    a=input(\"enter\")\n",
    "    if a==\"\":\n",
    "        print(\"please enter something\")\n",
    "        continue\n",
    "    elif a==\"STOP\":\n",
    "        break\n",
    "    print(a)"
   ]
  },
  {
   "cell_type": "code",
   "execution_count": 1,
   "metadata": {},
   "outputs": [
    {
     "name": "stdout",
     "output_type": "stream",
     "text": [
      "{'jensilin': 3, 'Aditya': 3, 'Shakthi': 2}\n"
     ]
    }
   ],
   "source": [
    "a=[\"jensilin\",\"Aditya\",\"Shakthi\"]\n",
    "b={}\n",
    "for i in a:\n",
    "    count=0\n",
    "    for j in i:\n",
    "        if j in 'AEIOUaeiou':\n",
    "            count+=1\n",
    "        b[i]=count\n",
    "print(b)"
   ]
  },
  {
   "cell_type": "code",
   "execution_count": null,
   "metadata": {},
   "outputs": [],
   "source": [
    "#write a program to extract palindrome words form a given sentence\n",
    "a=\"MOM DAD MALAYALAM TAMIL\"\n",
    "b=a.split()\n",
    "palin=\"\"\n",
    "for i in b:\n",
    "    if i[::-1]==i:\n",
    "        palin+=i+\" \"\n",
    "print(palin)"
   ]
  },
  {
   "cell_type": "code",
   "execution_count": 2,
   "metadata": {},
   "outputs": [
    {
     "name": "stdout",
     "output_type": "stream",
     "text": [
      "[6, 8]\n"
     ]
    }
   ],
   "source": [
    "# ['hai',3+4j,15,'good',35]\n",
    "# op=[6,8]\n",
    "a=['hai',3+4j,15,'good',35]\n",
    "z=[]\n",
    "for i in a:\n",
    "    if type(i)==int:\n",
    "        b=str(i)\n",
    "        c=b[0]\n",
    "        d=b[-1]\n",
    "        e=int(c)+int(d)\n",
    "        z+=[e]\n",
    "print(z)"
   ]
  },
  {
   "cell_type": "code",
   "execution_count": null,
   "metadata": {},
   "outputs": [],
   "source": []
  },
  {
   "cell_type": "code",
   "execution_count": null,
   "metadata": {},
   "outputs": [],
   "source": []
  }
 ],
 "metadata": {
  "kernelspec": {
   "display_name": "Python 3",
   "language": "python",
   "name": "python3"
  },
  "language_info": {
   "codemirror_mode": {
    "name": "ipython",
    "version": 3
   },
   "file_extension": ".py",
   "mimetype": "text/x-python",
   "name": "python",
   "nbconvert_exporter": "python",
   "pygments_lexer": "ipython3",
   "version": "3.11.1"
  }
 },
 "nbformat": 4,
 "nbformat_minor": 2
}
