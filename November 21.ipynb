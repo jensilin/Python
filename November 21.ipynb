{
 "cells": [
  {
   "cell_type": "markdown",
   "metadata": {},
   "source": [
    "Dictionary Comprehention\n",
    "        It is a phenomenon of creating new dictionary collection by reducing the instruction. \n",
    "        var={key:value for val in coll}\n",
    "        print(var)"
   ]
  },
  {
   "cell_type": "code",
   "execution_count": 2,
   "metadata": {},
   "outputs": [
    {
     "name": "stdout",
     "output_type": "stream",
     "text": [
      "{1: 1, 2: 8, 3: 27, 4: 64, 5: 125, 6: 216, 7: 343, 8: 512, 9: 729}\n"
     ]
    }
   ],
   "source": [
    "#WAP to store the number and its cube as key value pair between range 1 to 10\n",
    "a={i:i**3 for i in range(1,10)}\n",
    "print(a)"
   ]
  },
  {
   "cell_type": "code",
   "execution_count": 6,
   "metadata": {},
   "outputs": [
    {
     "name": "stdout",
     "output_type": "stream",
     "text": [
      "{'\"I': 2, 'am': 2, 'goood\"': 6}\n"
     ]
    }
   ],
   "source": [
    "#WAP to store words and its length as key and value pair from a string collection\n",
    "a={i:len(i) for i in input().split()}\n",
    "print(a)"
   ]
  },
  {
   "cell_type": "code",
   "execution_count": 15,
   "metadata": {},
   "outputs": [
    {
     "name": "stdout",
     "output_type": "stream",
     "text": [
      "{'qwerty': 6, 'ttrhyth': 7}\n"
     ]
    }
   ],
   "source": [
    "#WAP to store words and its length as key and value pair from a list collection\n",
    "a={i:len(i) for i in eval(input()) if type(i)==str}\n",
    "print(a)"
   ]
  },
  {
   "cell_type": "code",
   "execution_count": 14,
   "metadata": {},
   "outputs": [
    {
     "name": "stdout",
     "output_type": "stream",
     "text": [
      "{1: 1, 2: 2, 3: 27, 4: 4, 5: 125, 6: 6}\n"
     ]
    }
   ],
   "source": [
    "#WAP to program to store the number and its cube if it is odd number, store the number as it is if it is even \n",
    "\n",
    "ab={i:i if i%2==0 else i**3 for i in eval(input())}\n",
    "print(ab)"
   ]
  },
  {
   "cell_type": "code",
   "execution_count": 3,
   "metadata": {},
   "outputs": [
    {
     "name": "stdout",
     "output_type": "stream",
     "text": [
      "{1: 1, 2: 2, 3: 27, 4: 4, 5: 125, 6: 6, 7: 343, 8: 8, 9: 729}\n"
     ]
    }
   ],
   "source": [
    "ab={i:i if i%2==0 else i**3 for i in range(1,10)}\n",
    "print(ab)"
   ]
  },
  {
   "cell_type": "code",
   "execution_count": null,
   "metadata": {},
   "outputs": [
    {
     "name": "stdout",
     "output_type": "stream",
     "text": [
      "{'x': 36, 'y': 19}\n"
     ]
    }
   ],
   "source": [
    "#WAP to map two list collection \n",
    "a=['x','y']\n",
    "z=[36,19,25]\n",
    "b={}\n",
    "if len(a)==len(z):\n",
    "    for i in range(len(a)):\n",
    "        b[a[i]]= z[i]\n",
    "elif len(a)>len(z):\n",
    "    for i in range(len(z)):\n",
    "        b[a[i]]= z[i]\n",
    "else:\n",
    "    for i in range(len(a)):\n",
    "        b[a[i]]= z[i]\n",
    "print(b)"
   ]
  },
  {
   "cell_type": "code",
   "execution_count": 28,
   "metadata": {},
   "outputs": [
    {
     "name": "stdout",
     "output_type": "stream",
     "text": [
      "{'x': 36, 'y': 19}\n"
     ]
    }
   ],
   "source": [
    "a=['x','y']\n",
    "z=[36,19,25]\n",
    "b={}\n",
    "if len(a)<len(z):\n",
    "    min=a\n",
    "else:\n",
    "    min=z\n",
    "for i in range(len(min)):\n",
    "    b[a[i]]= z[i]\n",
    "print(b)"
   ]
  },
  {
   "cell_type": "code",
   "execution_count": 30,
   "metadata": {},
   "outputs": [
    {
     "name": "stdout",
     "output_type": "stream",
     "text": [
      "(1, 5)\n",
      "(2, 6)\n",
      "(30, 7)\n"
     ]
    }
   ],
   "source": [
    "for i in zip([1,2,30],[5,6,7]):\n",
    "    print(i)"
   ]
  },
  {
   "cell_type": "markdown",
   "metadata": {},
   "source": [
    "Zip -\n",
    "        It is a function which is used to map the collection and return the object.\n",
    "        To fetch the value it has to be type casted or used in a loop.\n",
    "        zip(coll1,coll2,colln)\n",
    "        list(zip(coll1,coll2,colln))\n",
    "\n",
    "        Whenever it is required to map the collection using for loop zip function can be used.\n",
    "            for var1,var2,varn in zip(coll1,coll2,colln):\n",
    "                    S.B\n",
    "        \n",
    "        NOTE : THE NUMBER OF VARIABLES MUST BE EQUAL TO NUMBER OF COLLECTION.\n",
    "        NOTE : WHEN A SINGLE VARIABLE IS USED IN LOOPING IT TAKES THE INDIVIDUAL MAPPED COLLECTION.\n",
    "        NOTE : IT WILL TAKE ONLY UP TO LEAST LENGTH COLLECTION "
   ]
  },
  {
   "cell_type": "code",
   "execution_count": null,
   "metadata": {},
   "outputs": [
    {
     "name": "stdout",
     "output_type": "stream",
     "text": [
      "{1: 5, 2: 6, 3: 7}\n"
     ]
    }
   ],
   "source": [
    "b={}\n",
    "for i,j in zip([1,2,3],[5,6,7]):\n",
    "    b[i]=j\n",
    "print(b)"
   ]
  },
  {
   "cell_type": "code",
   "execution_count": null,
   "metadata": {},
   "outputs": [
    {
     "name": "stdout",
     "output_type": "stream",
     "text": [
      "{1: 4, 2: 5, 3: 6}\n"
     ]
    }
   ],
   "source": [
    "b=dict(zip([1,2,3,4],[4,5,6]))\n",
    "print(b)"
   ]
  },
  {
   "cell_type": "code",
   "execution_count": 33,
   "metadata": {},
   "outputs": [
    {
     "name": "stdout",
     "output_type": "stream",
     "text": [
      "{1: 'djj', 2: 'deufu', 3: 'huruf', 4: 'fhruh'}\n"
     ]
    }
   ],
   "source": [
    "print(dict(zip(eval(input()),eval(input()))))"
   ]
  },
  {
   "cell_type": "markdown",
   "metadata": {},
   "source": [
    "SQL CONNECTION / Backend Connectivity / Database Connection:\n",
    "        It is a process of connecting python file to a database.\n",
    "        It is possible by importing sqlite3 module.\n",
    "        Syntax:\n",
    "            import sqlite3 \n",
    "            var=sqlite3.connect(\"database.db\")\n",
    "\n",
    "        Cursor function :\n",
    "            It is used to point to a required location and to executes query.\n",
    "\n",
    "        Execute function :\n",
    "            It is used to execute the queries.\n",
    "        \n",
    "        Commit function:\n",
    "            It is used to save the data\n",
    "        \n",
    "        Close :\n",
    "            It is used to close the sqlite3.\n",
    "\n",
    "        \n",
    "        Syntax :\n",
    "            import sqlite3 \n",
    "            var=sqlite3.connect(\"database.db\")\n",
    "            cursor()\n",
    "            execute()\n",
    "            commit()\n",
    "            close()\n",
    "        \n",
    "        Fetchone :\n",
    "            It is a function which is used to fetch the first matching record\n",
    "\n",
    "        Fetchall:\n",
    "            It is used to fetch all the matching record"
   ]
  },
  {
   "cell_type": "code",
   "execution_count": 34,
   "metadata": {},
   "outputs": [],
   "source": [
    "import sqlite3 as sql\n",
    "a=sql.connect('stu.db')\n",
    "b=a.cursor()"
   ]
  },
  {
   "cell_type": "code",
   "execution_count": 35,
   "metadata": {},
   "outputs": [
    {
     "data": {
      "text/plain": [
       "<sqlite3.Cursor at 0x28397f85440>"
      ]
     },
     "execution_count": 35,
     "metadata": {},
     "output_type": "execute_result"
    }
   ],
   "source": [
    "b.execute(\"Create table student ('name' varchar ,'id' number, 'email' varchar, 'number' number)\")"
   ]
  },
  {
   "cell_type": "code",
   "execution_count": 37,
   "metadata": {},
   "outputs": [
    {
     "data": {
      "text/plain": [
       "<sqlite3.Cursor at 0x28397f85440>"
      ]
     },
     "execution_count": 37,
     "metadata": {},
     "output_type": "execute_result"
    }
   ],
   "source": [
    "b.execute(\"Insert into student values('Jensilin', 3034, 'jensi@gmail.com', 6363784224)\")"
   ]
  },
  {
   "cell_type": "code",
   "execution_count": 38,
   "metadata": {},
   "outputs": [
    {
     "data": {
      "text/plain": [
       "<sqlite3.Cursor at 0x28397f85440>"
      ]
     },
     "execution_count": 38,
     "metadata": {},
     "output_type": "execute_result"
    }
   ],
   "source": [
    "b.execute(\"Insert into student values('Luffy', 3063, 'lufffy@gmail.com', 789544224)\")"
   ]
  },
  {
   "cell_type": "code",
   "execution_count": 39,
   "metadata": {},
   "outputs": [
    {
     "data": {
      "text/plain": [
       "<sqlite3.Cursor at 0x28397f85440>"
      ]
     },
     "execution_count": 39,
     "metadata": {},
     "output_type": "execute_result"
    }
   ],
   "source": [
    "b.execute(\"Insert into student values('Zoro', 3064, 'zoro@gmail.com', 636387456214)\")"
   ]
  },
  {
   "cell_type": "code",
   "execution_count": 41,
   "metadata": {},
   "outputs": [],
   "source": [
    "a.commit()"
   ]
  },
  {
   "cell_type": "code",
   "execution_count": null,
   "metadata": {},
   "outputs": [
    {
     "name": "stdout",
     "output_type": "stream",
     "text": [
      "[('Jensilin', 3034, 'jensi@gmail.com', 6363784224), ('Luffy', 3063, 'lufffy@gmail.com', 789544224), ('Zoro', 3064, 'zoro@gmail.com', 636387456214)]\n"
     ]
    }
   ],
   "source": [
    "print(b.execute(\"Select * from student\").fetchall())"
   ]
  },
  {
   "cell_type": "code",
   "execution_count": 45,
   "metadata": {},
   "outputs": [
    {
     "name": "stdout",
     "output_type": "stream",
     "text": [
      "[('Luffy',), ('Zoro',)]\n"
     ]
    }
   ],
   "source": [
    "res=b.execute(\"select name from student where id in (3064,3063)\")\n",
    "print(res.fetchall())"
   ]
  },
  {
   "cell_type": "code",
   "execution_count": 48,
   "metadata": {},
   "outputs": [
    {
     "name": "stdout",
     "output_type": "stream",
     "text": [
      "('Jensilin', 3034, 'jensi@gmail.com', 6363784224)\n"
     ]
    }
   ],
   "source": [
    "z=b.execute(\"Select * from student\")\n",
    "print(z.fetchone())"
   ]
  },
  {
   "cell_type": "code",
   "execution_count": 50,
   "metadata": {},
   "outputs": [
    {
     "name": "stdout",
     "output_type": "stream",
     "text": [
      "[('Luffy', 3063, 'lufffy@gmail.com', 789544224)]\n"
     ]
    }
   ],
   "source": [
    "print(list(b.execute(\"Select * from student where name= 'Luffy'\")))"
   ]
  },
  {
   "cell_type": "code",
   "execution_count": 51,
   "metadata": {},
   "outputs": [],
   "source": [
    "a.commit()"
   ]
  },
  {
   "cell_type": "code",
   "execution_count": 52,
   "metadata": {},
   "outputs": [],
   "source": [
    "a.close()"
   ]
  },
  {
   "cell_type": "code",
   "execution_count": null,
   "metadata": {},
   "outputs": [],
   "source": []
  }
 ],
 "metadata": {
  "kernelspec": {
   "display_name": "Python 3",
   "language": "python",
   "name": "python3"
  },
  "language_info": {
   "codemirror_mode": {
    "name": "ipython",
    "version": 3
   },
   "file_extension": ".py",
   "mimetype": "text/x-python",
   "name": "python",
   "nbconvert_exporter": "python",
   "pygments_lexer": "ipython3",
   "version": "3.11.1"
  }
 },
 "nbformat": 4,
 "nbformat_minor": 2
}
