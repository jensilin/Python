{
 "cells": [
  {
   "cell_type": "code",
   "execution_count": 1,
   "metadata": {},
   "outputs": [],
   "source": [
    "# #WAP to reverse a string collection without using slicing or any methods\n",
    "# a=input(\"Enter the string \")\n",
    "# #b=list(a)\n",
    "# #-1 =0\n",
    "# #-2 =1\n",
    "# i=0\n",
    "# while i >  -len(a):\n",
    "#     rev=a[i]\n",
    "#     print(rev)\n",
    "#     i+=1"
   ]
  },
  {
   "cell_type": "markdown",
   "metadata": {},
   "source": [
    "\n",
    "The while loop is usually used when the number of iteration is unknown\n",
    "\n"
   ]
  },
  {
   "cell_type": "code",
   "execution_count": 1,
   "metadata": {},
   "outputs": [
    {
     "name": "stdout",
     "output_type": "stream",
     "text": [
      "Palindrome\n",
      "MOM\n"
     ]
    }
   ],
   "source": [
    "a=input(\"Enter the string \")\n",
    "rev=\"\"\n",
    "i=0\n",
    "while i<len(a):\n",
    "    rev=a[i]+rev\n",
    "    i+=1\n",
    "    if rev==a:\n",
    "        print(\"Palindrome\")\n",
    "print(rev)"
   ]
  },
  {
   "cell_type": "code",
   "execution_count": 22,
   "metadata": {},
   "outputs": [
    {
     "name": "stdout",
     "output_type": "stream",
     "text": [
      "jqwertyuiokasdfghjasdfghj\n"
     ]
    }
   ],
   "source": [
    "#WAP to extract all the lower case characters from a string collection\n",
    "st =input(\"Enter the string \")\n",
    "i=0\n",
    "while i < len(st):\n",
    "    if 'a'<=st[i]<='z':\n",
    "        a=a+st[i]\n",
    "    i+=1\n",
    "print(a)"
   ]
  },
  {
   "cell_type": "code",
   "execution_count": 4,
   "metadata": {},
   "outputs": [
    {
     "name": "stdout",
     "output_type": "stream",
     "text": [
      "6\n"
     ]
    }
   ],
   "source": [
    "#WAP to print number of character\n",
    "a=input(\"enter the string\")\n",
    "i=0\n",
    "count=0\n",
    "while i<len(a):\n",
    "    count=count+1\n",
    "    i+=1\n",
    "print(count)\n"
   ]
  },
  {
   "cell_type": "code",
   "execution_count": 1,
   "metadata": {},
   "outputs": [
    {
     "name": "stdout",
     "output_type": "stream",
     "text": [
      "5\n"
     ]
    }
   ],
   "source": [
    "#WAP to count the number of vowels present in the string collection\n",
    "a=input(\"enter the string\")\n",
    "i=0\n",
    "count=0\n",
    "while i<len(a):\n",
    "    if a[i] in 'aeiouAEIOU':\n",
    "        count=count+1\n",
    "    i+=1\n",
    "print(count)"
   ]
  },
  {
   "cell_type": "code",
   "execution_count": 13,
   "metadata": {},
   "outputs": [
    {
     "name": "stdout",
     "output_type": "stream",
     "text": [
      "654321\n"
     ]
    }
   ],
   "source": [
    "#WAP to reverse the integer number without slicing or type casting\n",
    "a=int(input(\"Enter a number \"))\n",
    "rev=0\n",
    "while a!=0:\n",
    "    ld=a%10\n",
    "    rev=rev*10+ld\n",
    "    a=a//10\n",
    "print(rev)  "
   ]
  },
  {
   "cell_type": "code",
   "execution_count": 2,
   "metadata": {},
   "outputs": [
    {
     "name": "stdout",
     "output_type": "stream",
     "text": [
      "M M\n",
      "A A\n",
      "D D\n",
      "A A\n",
      "M M\n",
      "Palindrome \n"
     ]
    }
   ],
   "source": [
    "#WAP to check the string is palindrome or not without slicing\n",
    "a=input(\"Enter the string \")\n",
    "i=0\n",
    "j=-1\n",
    "while i<len(a):\n",
    "    while j>=-len(a):\n",
    "        if a[i]==a[j]:\n",
    "            print(a[i],a[j])\n",
    "            i+=1\n",
    "            j-=1\n",
    "            continue\n",
    "        else:\n",
    "            print(\"not matching \")\n",
    "        j-=1\n",
    "    i+=1\n",
    "print(\"Palindrome \")\n"
   ]
  },
  {
   "cell_type": "code",
   "execution_count": 4,
   "metadata": {},
   "outputs": [],
   "source": [
    "a=input(\"Enter the string \")\n",
    "rev=\"\"\n",
    "i=0\n",
    "while i<len(a):\n",
    "    rev=a[i]+rev\n",
    "    i+=1\n",
    "if rev==a:\n",
    "    print(\"Palindrome\")\n",
    "#print(rev)"
   ]
  },
  {
   "cell_type": "code",
   "execution_count": 5,
   "metadata": {},
   "outputs": [
    {
     "name": "stdout",
     "output_type": "stream",
     "text": [
      "qwSDcvFH\n"
     ]
    }
   ],
   "source": [
    "#WAP to print all the consonants in an string collection\n",
    "a=input(\"enter the string\")\n",
    "i=0\n",
    "con=''\n",
    "while i<len(a):\n",
    "    if 'A'<=a[i]<='Z' or 'a'<=a[i]<='z':\n",
    "        if a[i] not in 'aeiouAEIOU':\n",
    "            con+=a[i]\n",
    "    i+=1\n",
    "print(con)"
   ]
  },
  {
   "cell_type": "code",
   "execution_count": 36,
   "metadata": {},
   "outputs": [
    {
     "name": "stdout",
     "output_type": "stream",
     "text": [
      "QWERTY Even:  QET\n",
      "QWERTY Odd:  WRY\n"
     ]
    }
   ],
   "source": [
    "#WAP to extract all the characters at even index and odd index into two different output collection without slicing\n",
    "a=input(\"Enter the string\")\n",
    "i=0\n",
    "j=1\n",
    "eve=\" \"\n",
    "odd=\" \"\n",
    "while i<len(a):\n",
    "    eve+=a[i]\n",
    "    while  j<len(a):\n",
    "        odd+=a[j]\n",
    "        j+=2\n",
    "    i+=2\n",
    "print(a,\"Even:\",eve)\n",
    "print(a,\"Odd:\",odd)"
   ]
  },
  {
   "cell_type": "code",
   "execution_count": null,
   "metadata": {},
   "outputs": [],
   "source": [
    "x=input('Enter ')\n"
   ]
  }
 ],
 "metadata": {
  "kernelspec": {
   "display_name": "Python 3",
   "language": "python",
   "name": "python3"
  },
  "language_info": {
   "codemirror_mode": {
    "name": "ipython",
    "version": 3
   },
   "file_extension": ".py",
   "mimetype": "text/x-python",
   "name": "python",
   "nbconvert_exporter": "python",
   "pygments_lexer": "ipython3",
   "version": "3.11.1"
  }
 },
 "nbformat": 4,
 "nbformat_minor": 2
}
