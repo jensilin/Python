{
 "cells": [
  {
   "cell_type": "code",
   "execution_count": 15,
   "metadata": {},
   "outputs": [
    {
     "name": "stdout",
     "output_type": "stream",
     "text": [
      "qweEERTRH123456@#$\n"
     ]
    }
   ],
   "source": [
    "#WAP to toggle a string collection \n",
    "\n",
    "#a=\"QWEeertrh123456@#$\"\n",
    "a=input(\"Enter the string \")\n",
    "i=0\n",
    "swp=''\n",
    "while i<len(a):\n",
    "    if 'A'<=a[i]<='Z':\n",
    "        swp+=chr(ord(a[i])+32)\n",
    "    elif 'a'<=a[i]<='z':\n",
    "        swp+=chr(ord(a[i])-32)\n",
    "    else:\n",
    "        swp+=a[i]\n",
    "    i+=1\n",
    "print(swp)"
   ]
  },
  {
   "cell_type": "code",
   "execution_count": 31,
   "metadata": {},
   "outputs": [
    {
     "name": "stdout",
     "output_type": "stream",
     "text": [
      "153\n",
      "Armstrong number\n"
     ]
    }
   ],
   "source": [
    "#WAP to check whether the integer number is amstrong number\n",
    "#153 length is 3 so 1**3+5**3+3**3 should be 153\n",
    "#a=int(input(\"wert\"))\n",
    "\n",
    "a=153\n",
    "a=str(a)\n",
    "d=0\n",
    "i=0\n",
    "\n",
    "while i<len(a):\n",
    "    c=int(a[i])**len(a)\n",
    "    d=d+c\n",
    "    i+=1\n",
    "print(d)\n",
    "\n",
    "\n",
    "if int(a)==d:\n",
    "    print(\"Armstrong number\")\n",
    "else:\n",
    "    print(\"Not \")"
   ]
  },
  {
   "cell_type": "code",
   "execution_count": 33,
   "metadata": {},
   "outputs": [
    {
     "name": "stdout",
     "output_type": "stream",
     "text": [
      "12\n"
     ]
    }
   ],
   "source": [
    "#WAP to find sum of individual disgits of a integer number\n",
    "a=372\n",
    "#a=int(input(\"Enter the number \"))\n",
    "a=str(a)\n",
    "d=0\n",
    "i=0\n",
    "while i<len(a):\n",
    "    d=d+int(a[i])\n",
    "    i+=1\n",
    "print(d)"
   ]
  },
  {
   "cell_type": "code",
   "execution_count": 6,
   "metadata": {},
   "outputs": [
    {
     "name": "stdout",
     "output_type": "stream",
     "text": [
      "9456\n"
     ]
    }
   ],
   "source": [
    "a=int(input(\"Enter a number \"))\n",
    "sum=0\n",
    "rev=0\n",
    "while a!=0:\n",
    "    ld=a%10\n",
    "    rev=rev*10+ld\n",
    "    a=a//10\n",
    "print(rev)  "
   ]
  },
  {
   "cell_type": "code",
   "execution_count": 10,
   "metadata": {},
   "outputs": [
    {
     "name": "stdout",
     "output_type": "stream",
     "text": [
      "p\n",
      "y\n",
      "pythonptop\n"
     ]
    }
   ],
   "source": [
    "a = 'python'\n",
    "b = a[::2]  \n",
    "c = a[0]    \n",
    "i = 0      \n",
    "while i < 2:  \n",
    "    print(a[i])  \n",
    "    i += 1\n",
    "\n",
    "print(a + b + c)  "
   ]
  },
  {
   "cell_type": "code",
   "execution_count": 8,
   "metadata": {},
   "outputs": [
    {
     "data": {
      "text/plain": [
       "'pythonptop'"
      ]
     },
     "execution_count": 8,
     "metadata": {},
     "output_type": "execute_result"
    }
   ],
   "source": [
    "'python'+'pto'+'p'"
   ]
  },
  {
   "cell_type": "code",
   "execution_count": null,
   "metadata": {},
   "outputs": [],
   "source": []
  },
  {
   "cell_type": "code",
   "execution_count": null,
   "metadata": {},
   "outputs": [],
   "source": []
  }
 ],
 "metadata": {
  "kernelspec": {
   "display_name": "Python 3",
   "language": "python",
   "name": "python3"
  },
  "language_info": {
   "codemirror_mode": {
    "name": "ipython",
    "version": 3
   },
   "file_extension": ".py",
   "mimetype": "text/x-python",
   "name": "python",
   "nbconvert_exporter": "python",
   "pygments_lexer": "ipython3",
   "version": "3.11.1"
  }
 },
 "nbformat": 4,
 "nbformat_minor": 2
}
