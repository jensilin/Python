{
 "cells": [
  {
   "cell_type": "code",
   "execution_count": 1,
   "metadata": {},
   "outputs": [
    {
     "name": "stdout",
     "output_type": "stream",
     "text": [
      "The number is not a palindrome 301\n"
     ]
    }
   ],
   "source": [
    "#WAP to check if the integer is palindrome or not\n",
    "\n",
    "a=int(input(\"Enter the integer \"))\n",
    "\n",
    "if str(a)[::-1] == str(a):\n",
    "    print(\"The number is a palindrome\",a)\n",
    "else:\n",
    "    print(\"The number is not a palindrome\",a)"
   ]
  },
  {
   "cell_type": "code",
   "execution_count": 8,
   "metadata": {},
   "outputs": [
    {
     "name": "stdout",
     "output_type": "stream",
     "text": [
      "Ascii value is even \n"
     ]
    }
   ],
   "source": [
    "#Consider a string input and check whether the ASCII value of first character is even or odd\n",
    "\n",
    "a = input(\"Enter the string \")\n",
    "if ord(a[0])%2==0:\n",
    "    print(\"Ascii value is even \")\n",
    "else:\n",
    "    print(\"Asci value is odd \")"
   ]
  },
  {
   "cell_type": "code",
   "execution_count": 16,
   "metadata": {},
   "outputs": [
    {
     "name": "stdout",
     "output_type": "stream",
     "text": [
      "[1, 2, 3, 4, 5, 6, 7] Odd index is  [2, 4, 6]\n"
     ]
    }
   ],
   "source": [
    "#Consider a list input print the values at even index if the length is odd and print the values at odd index if length is even\n",
    "\n",
    "a=eval(input(\"Enter the list collection \"))\n",
    "if len(a)%2==0:\n",
    "    print(a,\"Even idex is \",a[::2])\n",
    "else:\n",
    "    print(a,\"Odd index is \",a[1::2])\n",
    " "
   ]
  },
  {
   "cell_type": "code",
   "execution_count": 17,
   "metadata": {},
   "outputs": [
    {
     "name": "stdout",
     "output_type": "stream",
     "text": [
      "Different memory location \n"
     ]
    }
   ],
   "source": [
    "#Consider two inputs and check whether it is pointing towards same memory location or not\n",
    "\n",
    "a=eval(input(\"Enter the list \"))\n",
    "b=eval(input(\"Enter the list \"))\n",
    "if a is b:\n",
    "    print(\"Same memory location \")\n",
    "else:\n",
    "    print(\"Different memory location \")\n"
   ]
  },
  {
   "cell_type": "code",
   "execution_count": 35,
   "metadata": {},
   "outputs": [
    {
     "name": "stdout",
     "output_type": "stream",
     "text": [
      "Homogenous element \n"
     ]
    }
   ],
   "source": [
    "#Consider a tuple of length two and check whether the tuple is homogenoous or not\n",
    "\n",
    "a = eval(input(\"Enter the tuple \"))\n",
    "\n",
    "if type(a[0]) == type(a[1]):\n",
    "    print(\"Homogenous element \")\n",
    "else:\n",
    "    print(\"Hetrogenous elements \")"
   ]
  },
  {
   "cell_type": "code",
   "execution_count": 39,
   "metadata": {},
   "outputs": [
    {
     "name": "stdout",
     "output_type": "stream",
     "text": [
      "Negative number\n"
     ]
    }
   ],
   "source": [
    "#WAP to check whether the number is positive or negative\n",
    "\n",
    "a=int(input(\"Enter the input \"))\n",
    "if str(a)[0]== '-':\n",
    "    print(\"Negative number\")\n",
    "else:\n",
    "    print(\"Positive number\")"
   ]
  },
  {
   "cell_type": "code",
   "execution_count": 34,
   "metadata": {},
   "outputs": [
    {
     "name": "stdout",
     "output_type": "stream",
     "text": [
      "hey  is not a Python keyword.\n"
     ]
    }
   ],
   "source": [
    "#WAP to check whether the given string is keyword or not\n",
    "\n",
    "a=input(\"Enter any keyword\")\n",
    "keywords_list = [\"False\", \"None\", \"True\", \"and\", \"as\", \"assert\", \"async\", \"await\", \n",
    "    \"break\", \"class\", \"continue\", \"def\", \"del\", \"elif\", \"else\", \"except\", \n",
    "    \"finally\", \"for\", \"from\", \"global\", \"if\", \"import\", \"in\", \"is\", \"lambda\", \n",
    "    \"nonlocal\", \"not\", \"or\", \"pass\", \"raise\", \"return\", \"try\", \"while\", \"with\", \"yield\"]\n",
    "\n",
    "if a in keywords_list:\n",
    "    print(a,' is a Python keyword.')\n",
    "else:\n",
    "    print(a,' is not a Python keyword.')\n"
   ]
  },
  {
   "cell_type": "code",
   "execution_count": 13,
   "metadata": {},
   "outputs": [
    {
     "name": "stdout",
     "output_type": "stream",
     "text": [
      "vgvfew1\n"
     ]
    }
   ],
   "source": [
    "# Consider a character input and if it is a upper case print the 1st digit of it's ASCII number, \n",
    "# if it is a lower case then print its last digit of ASCII, print the remainder when divided by 3 \n",
    "# if it is a number, print the reversed string if it is a special character.\n",
    "\n",
    "a=input(\"Enter the string \")\n",
    "if 'A'<=a<='Z':\n",
    "    print(ord(a[0]))\n",
    "elif 'a'<=a<='z':\n",
    "    print(str(ord(a[-1])%3)[-1])\n",
    "elif '0'<=a<='9':\n",
    "    print(str(a)[::-1])"
   ]
  },
  {
   "cell_type": "code",
   "execution_count": 22,
   "metadata": {},
   "outputs": [
    {
     "name": "stdout",
     "output_type": "stream",
     "text": [
      "MAJJ MJ 76 to 95\n"
     ]
    }
   ],
   "source": [
    "#WAP consider a string and if the last character's ASCII value is between 50-60,print the string as it is, \n",
    "# if the ASCII value is in between 61-75 print the character when added 5 to its ASCII value. \n",
    "# If it's between 76- 97 then print the concatenated output with first and last character of given string \n",
    "# ('JAAAM' ASCII value of 'M' is 77 output 'JM'). If it is other than those then print the reversed string.\n",
    "\n",
    "a=input(\"Enter the string \")\n",
    "if 50<=ord(a[0])<=60:\n",
    "    print(a,\"50 to 60\")\n",
    "elif 61<=ord(a[0])<=75:\n",
    "    print(a,ord(a[0])+5,\"61 to 75\")\n",
    "elif 76<=ord(a[0])<=97:\n",
    "    print(a,a[0]+a[-1],\"76 to 95\")\n"
   ]
  },
  {
   "cell_type": "code",
   "execution_count": 30,
   "metadata": {},
   "outputs": [
    {
     "name": "stdout",
     "output_type": "stream",
     "text": [
      "Fourth quadrant\n"
     ]
    }
   ],
   "source": [
    "#WAP to check the given points are lying in which quadrant (2 number inputs). (1,2,3,4 quadrants).\n",
    "\n",
    "x=int(input(\"Enter the number \"))\n",
    "y=int(input(\"Enter the number \"))\n",
    "if x>0 and y>0:\n",
    "    print(\"The point is in first quadrant\")\n",
    "elif x<0 and y>0:\n",
    "    print(\"The point is in second quadrant\")\n",
    "elif x<0 and y<0:\n",
    "    print(\"The point is in third quadrant\")\n",
    "else:\n",
    "    print(\"Fourth quadrant\")"
   ]
  },
  {
   "cell_type": "code",
   "execution_count": null,
   "metadata": {},
   "outputs": [],
   "source": []
  }
 ],
 "metadata": {
  "kernelspec": {
   "display_name": "Python 3",
   "language": "python",
   "name": "python3"
  },
  "language_info": {
   "codemirror_mode": {
    "name": "ipython",
    "version": 3
   },
   "file_extension": ".py",
   "mimetype": "text/x-python",
   "name": "python",
   "nbconvert_exporter": "python",
   "pygments_lexer": "ipython3",
   "version": "3.11.1"
  }
 },
 "nbformat": 4,
 "nbformat_minor": 2
}
